{
 "cells": [
  {
   "cell_type": "code",
   "execution_count": 1,
   "id": "b1d3da7b",
   "metadata": {},
   "outputs": [],
   "source": [
    "import numpy as np\n",
    "import pandas as pd \n",
    "import statsmodels.api as sm\n",
    "import statsmodels.formula.api as smf\n",
    "import seaborn as sns\n",
    "from sklearn.preprocessing import scale \n",
    "from sklearn.model_selection import train_test_split, GridSearchCV, cross_val_score\n",
    "from sklearn.metrics import confusion_matrix, accuracy_score, classification_report\n",
    "from sklearn.metrics import roc_auc_score,roc_curve\n",
    "import statsmodels.formula.api as smf\n",
    "import matplotlib.pyplot as plt\n",
    "from sklearn.neighbors import KNeighborsClassifier\n",
    "from sklearn.discriminant_analysis import LinearDiscriminantAnalysis\n",
    "from sklearn.linear_model import LogisticRegression\n",
    "from sklearn.svm import SVC\n",
    "from sklearn.naive_bayes import GaussianNB\n",
    "from sklearn import tree\n",
    "from sklearn.ensemble import RandomForestClassifier\n",
    "from sklearn.ensemble import GradientBoostingClassifier\n",
    "from xgboost import XGBClassifier\n",
    "from lightgbm import LGBMClassifier\n",
    "from catboost import CatBoostClassifier\n",
    "\n",
    "from warnings import filterwarnings\n",
    "filterwarnings('ignore')"
   ]
  },
  {
   "cell_type": "markdown",
   "id": "2df46331",
   "metadata": {},
   "source": [
    "# LOJİSTİK REGRESYON MODEL"
   ]
  },
  {
   "cell_type": "code",
   "execution_count": 3,
   "id": "c28ae095",
   "metadata": {},
   "outputs": [
    {
     "data": {
      "text/html": [
       "<div>\n",
       "<style scoped>\n",
       "    .dataframe tbody tr th:only-of-type {\n",
       "        vertical-align: middle;\n",
       "    }\n",
       "\n",
       "    .dataframe tbody tr th {\n",
       "        vertical-align: top;\n",
       "    }\n",
       "\n",
       "    .dataframe thead th {\n",
       "        text-align: right;\n",
       "    }\n",
       "</style>\n",
       "<table border=\"1\" class=\"dataframe\">\n",
       "  <thead>\n",
       "    <tr style=\"text-align: right;\">\n",
       "      <th></th>\n",
       "      <th>Pregnancies</th>\n",
       "      <th>Glucose</th>\n",
       "      <th>BloodPressure</th>\n",
       "      <th>SkinThickness</th>\n",
       "      <th>Insulin</th>\n",
       "      <th>BMI</th>\n",
       "      <th>DiabetesPedigreeFunction</th>\n",
       "      <th>Age</th>\n",
       "      <th>Outcome</th>\n",
       "    </tr>\n",
       "  </thead>\n",
       "  <tbody>\n",
       "    <tr>\n",
       "      <th>0</th>\n",
       "      <td>6</td>\n",
       "      <td>148</td>\n",
       "      <td>72</td>\n",
       "      <td>35</td>\n",
       "      <td>0</td>\n",
       "      <td>33.6</td>\n",
       "      <td>0.627</td>\n",
       "      <td>50</td>\n",
       "      <td>1</td>\n",
       "    </tr>\n",
       "    <tr>\n",
       "      <th>1</th>\n",
       "      <td>1</td>\n",
       "      <td>85</td>\n",
       "      <td>66</td>\n",
       "      <td>29</td>\n",
       "      <td>0</td>\n",
       "      <td>26.6</td>\n",
       "      <td>0.351</td>\n",
       "      <td>31</td>\n",
       "      <td>0</td>\n",
       "    </tr>\n",
       "    <tr>\n",
       "      <th>2</th>\n",
       "      <td>8</td>\n",
       "      <td>183</td>\n",
       "      <td>64</td>\n",
       "      <td>0</td>\n",
       "      <td>0</td>\n",
       "      <td>23.3</td>\n",
       "      <td>0.672</td>\n",
       "      <td>32</td>\n",
       "      <td>1</td>\n",
       "    </tr>\n",
       "    <tr>\n",
       "      <th>3</th>\n",
       "      <td>1</td>\n",
       "      <td>89</td>\n",
       "      <td>66</td>\n",
       "      <td>23</td>\n",
       "      <td>94</td>\n",
       "      <td>28.1</td>\n",
       "      <td>0.167</td>\n",
       "      <td>21</td>\n",
       "      <td>0</td>\n",
       "    </tr>\n",
       "    <tr>\n",
       "      <th>4</th>\n",
       "      <td>0</td>\n",
       "      <td>137</td>\n",
       "      <td>40</td>\n",
       "      <td>35</td>\n",
       "      <td>168</td>\n",
       "      <td>43.1</td>\n",
       "      <td>2.288</td>\n",
       "      <td>33</td>\n",
       "      <td>1</td>\n",
       "    </tr>\n",
       "  </tbody>\n",
       "</table>\n",
       "</div>"
      ],
      "text/plain": [
       "   Pregnancies  Glucose  BloodPressure  SkinThickness  Insulin   BMI  \\\n",
       "0            6      148             72             35        0  33.6   \n",
       "1            1       85             66             29        0  26.6   \n",
       "2            8      183             64              0        0  23.3   \n",
       "3            1       89             66             23       94  28.1   \n",
       "4            0      137             40             35      168  43.1   \n",
       "\n",
       "   DiabetesPedigreeFunction  Age  Outcome  \n",
       "0                     0.627   50        1  \n",
       "1                     0.351   31        0  \n",
       "2                     0.672   32        1  \n",
       "3                     0.167   21        0  \n",
       "4                     2.288   33        1  "
      ]
     },
     "execution_count": 3,
     "metadata": {},
     "output_type": "execute_result"
    }
   ],
   "source": [
    "diabetes = pd.read_csv(\"diabetes.csv\")\n",
    "df = diabetes.copy()\n",
    "df.dropna()\n",
    "df.head()\n",
    "#outcome 1 ise diyabet vardır."
   ]
  },
  {
   "cell_type": "code",
   "execution_count": 7,
   "id": "f18e65dc",
   "metadata": {},
   "outputs": [
    {
     "name": "stdout",
     "output_type": "stream",
     "text": [
      "<class 'pandas.core.frame.DataFrame'>\n",
      "RangeIndex: 768 entries, 0 to 767\n",
      "Data columns (total 9 columns):\n",
      " #   Column                    Non-Null Count  Dtype  \n",
      "---  ------                    --------------  -----  \n",
      " 0   Pregnancies               768 non-null    int64  \n",
      " 1   Glucose                   768 non-null    int64  \n",
      " 2   BloodPressure             768 non-null    int64  \n",
      " 3   SkinThickness             768 non-null    int64  \n",
      " 4   Insulin                   768 non-null    int64  \n",
      " 5   BMI                       768 non-null    float64\n",
      " 6   DiabetesPedigreeFunction  768 non-null    float64\n",
      " 7   Age                       768 non-null    int64  \n",
      " 8   Outcome                   768 non-null    int64  \n",
      "dtypes: float64(2), int64(7)\n",
      "memory usage: 54.1 KB\n"
     ]
    }
   ],
   "source": [
    "df.info()"
   ]
  },
  {
   "cell_type": "code",
   "execution_count": 8,
   "id": "5bdf9866",
   "metadata": {},
   "outputs": [
    {
     "data": {
      "text/plain": [
       "0    500\n",
       "1    268\n",
       "Name: Outcome, dtype: int64"
      ]
     },
     "execution_count": 8,
     "metadata": {},
     "output_type": "execute_result"
    }
   ],
   "source": [
    "df[\"Outcome\"].value_counts()"
   ]
  },
  {
   "cell_type": "code",
   "execution_count": 12,
   "id": "bb906392",
   "metadata": {},
   "outputs": [
    {
     "data": {
      "image/png": "[encoded data removed]",
      "text/plain": [
       "<Figure size 432x288 with 1 Axes>"
      ]
     },
     "metadata": {
      "needs_background": "light"
     },
     "output_type": "display_data"
    }
   ],
   "source": [
    "df[\"Outcome\"].value_counts().plot.barh();"
   ]
  },
  {
   "cell_type": "code",
   "execution_count": 13,
   "id": "0d546048",
   "metadata": {},
   "outputs": [
    {
     "data": {
      "text/html": [
       "<div>\n",
       "<style scoped>\n",
       "    .dataframe tbody tr th:only-of-type {\n",
       "        vertical-align: middle;\n",
       "    }\n",
       "\n",
       "    .dataframe tbody tr th {\n",
       "        vertical-align: top;\n",
       "    }\n",
       "\n",
       "    .dataframe thead th {\n",
       "        text-align: right;\n",
       "    }\n",
       "</style>\n",
       "<table border=\"1\" class=\"dataframe\">\n",
       "  <thead>\n",
       "    <tr style=\"text-align: right;\">\n",
       "      <th></th>\n",
       "      <th>count</th>\n",
       "      <th>mean</th>\n",
       "      <th>std</th>\n",
       "      <th>min</th>\n",
       "      <th>25%</th>\n",
       "      <th>50%</th>\n",
       "      <th>75%</th>\n",
       "      <th>max</th>\n",
       "    </tr>\n",
       "  </thead>\n",
       "  <tbody>\n",
       "    <tr>\n",
       "      <th>Pregnancies</th>\n",
       "      <td>768.0</td>\n",
       "      <td>3.845052</td>\n",
       "      <td>3.369578</td>\n",
       "      <td>0.000</td>\n",
       "      <td>1.00000</td>\n",
       "      <td>3.0000</td>\n",
       "      <td>6.00000</td>\n",
       "      <td>17.00</td>\n",
       "    </tr>\n",
       "    <tr>\n",
       "      <th>Glucose</th>\n",
       "      <td>768.0</td>\n",
       "      <td>120.894531</td>\n",
       "      <td>31.972618</td>\n",
       "      <td>0.000</td>\n",
       "      <td>99.00000</td>\n",
       "      <td>117.0000</td>\n",
       "      <td>140.25000</td>\n",
       "      <td>199.00</td>\n",
       "    </tr>\n",
       "    <tr>\n",
       "      <th>BloodPressure</th>\n",
       "      <td>768.0</td>\n",
       "      <td>69.105469</td>\n",
       "      <td>19.355807</td>\n",
       "      <td>0.000</td>\n",
       "      <td>62.00000</td>\n",
       "      <td>72.0000</td>\n",
       "      <td>80.00000</td>\n",
       "      <td>122.00</td>\n",
       "    </tr>\n",
       "    <tr>\n",
       "      <th>SkinThickness</th>\n",
       "      <td>768.0</td>\n",
       "      <td>20.536458</td>\n",
       "      <td>15.952218</td>\n",
       "      <td>0.000</td>\n",
       "      <td>0.00000</td>\n",
       "      <td>23.0000</td>\n",
       "      <td>32.00000</td>\n",
       "      <td>99.00</td>\n",
       "    </tr>\n",
       "    <tr>\n",
       "      <th>Insulin</th>\n",
       "      <td>768.0</td>\n",
       "      <td>79.799479</td>\n",
       "      <td>115.244002</td>\n",
       "      <td>0.000</td>\n",
       "      <td>0.00000</td>\n",
       "      <td>30.5000</td>\n",
       "      <td>127.25000</td>\n",
       "      <td>846.00</td>\n",
       "    </tr>\n",
       "    <tr>\n",
       "      <th>BMI</th>\n",
       "      <td>768.0</td>\n",
       "      <td>31.992578</td>\n",
       "      <td>7.884160</td>\n",
       "      <td>0.000</td>\n",
       "      <td>27.30000</td>\n",
       "      <td>32.0000</td>\n",
       "      <td>36.60000</td>\n",
       "      <td>67.10</td>\n",
       "    </tr>\n",
       "    <tr>\n",
       "      <th>DiabetesPedigreeFunction</th>\n",
       "      <td>768.0</td>\n",
       "      <td>0.471876</td>\n",
       "      <td>0.331329</td>\n",
       "      <td>0.078</td>\n",
       "      <td>0.24375</td>\n",
       "      <td>0.3725</td>\n",
       "      <td>0.62625</td>\n",
       "      <td>2.42</td>\n",
       "    </tr>\n",
       "    <tr>\n",
       "      <th>Age</th>\n",
       "      <td>768.0</td>\n",
       "      <td>33.240885</td>\n",
       "      <td>11.760232</td>\n",
       "      <td>21.000</td>\n",
       "      <td>24.00000</td>\n",
       "      <td>29.0000</td>\n",
       "      <td>41.00000</td>\n",
       "      <td>81.00</td>\n",
       "    </tr>\n",
       "    <tr>\n",
       "      <th>Outcome</th>\n",
       "      <td>768.0</td>\n",
       "      <td>0.348958</td>\n",
       "      <td>0.476951</td>\n",
       "      <td>0.000</td>\n",
       "      <td>0.00000</td>\n",
       "      <td>0.0000</td>\n",
       "      <td>1.00000</td>\n",
       "      <td>1.00</td>\n",
       "    </tr>\n",
       "  </tbody>\n",
       "</table>\n",
       "</div>"
      ],
      "text/plain": [
       "                          count        mean         std     min       25%  \\\n",
       "Pregnancies               768.0    3.845052    3.369578   0.000   1.00000   \n",
       "Glucose                   768.0  120.894531   31.972618   0.000  99.00000   \n",
       "BloodPressure             768.0   69.105469   19.355807   0.000  62.00000   \n",
       "SkinThickness             768.0   20.536458   15.952218   0.000   0.00000   \n",
       "Insulin                   768.0   79.799479  115.244002   0.000   0.00000   \n",
       "BMI                       768.0   31.992578    7.884160   0.000  27.30000   \n",
       "DiabetesPedigreeFunction  768.0    0.471876    0.331329   0.078   0.24375   \n",
       "Age                       768.0   33.240885   11.760232  21.000  24.00000   \n",
       "Outcome                   768.0    0.348958    0.476951   0.000   0.00000   \n",
       "\n",
       "                               50%        75%     max  \n",
       "Pregnancies                 3.0000    6.00000   17.00  \n",
       "Glucose                   117.0000  140.25000  199.00  \n",
       "BloodPressure              72.0000   80.00000  122.00  \n",
       "SkinThickness              23.0000   32.00000   99.00  \n",
       "Insulin                    30.5000  127.25000  846.00  \n",
       "BMI                        32.0000   36.60000   67.10  \n",
       "DiabetesPedigreeFunction    0.3725    0.62625    2.42  \n",
       "Age                        29.0000   41.00000   81.00  \n",
       "Outcome                     0.0000    1.00000    1.00  "
      ]
     },
     "execution_count": 13,
     "metadata": {},
     "output_type": "execute_result"
    }
   ],
   "source": [
    "df.describe().T"
   ]
  },
  {
   "cell_type": "code",
   "execution_count": 14,
   "id": "0e4a0e78",
   "metadata": {},
   "outputs": [],
   "source": [
    "y=df[\"Outcome\"]\n",
    "X=df.drop([\"Outcome\"], axis=1)"
   ]
  },
  {
   "cell_type": "code",
   "execution_count": 15,
   "id": "6922e51e",
   "metadata": {},
   "outputs": [
    {
     "name": "stdout",
     "output_type": "stream",
     "text": [
      "Optimization terminated successfully.\n",
      "         Current function value: 0.608498\n",
      "         Iterations 5\n"
     ]
    },
    {
     "data": {
      "text/html": [
       "<table class=\"simpletable\">\n",
       "<caption>Logit Regression Results</caption>\n",
       "<tr>\n",
       "  <th>Dep. Variable:</th>        <td>Outcome</td>     <th>  No. Observations:  </th>  <td>   768</td>  \n",
       "</tr>\n",
       "<tr>\n",
       "  <th>Model:</th>                 <td>Logit</td>      <th>  Df Residuals:      </th>  <td>   760</td>  \n",
       "</tr>\n",
       "<tr>\n",
       "  <th>Method:</th>                 <td>MLE</td>       <th>  Df Model:          </th>  <td>     7</td>  \n",
       "</tr>\n",
       "<tr>\n",
       "  <th>Date:</th>            <td>Sun, 03 Mar 2024</td> <th>  Pseudo R-squ.:     </th>  <td>0.05922</td> \n",
       "</tr>\n",
       "<tr>\n",
       "  <th>Time:</th>                <td>12:52:49</td>     <th>  Log-Likelihood:    </th> <td> -467.33</td> \n",
       "</tr>\n",
       "<tr>\n",
       "  <th>converged:</th>             <td>True</td>       <th>  LL-Null:           </th> <td> -496.74</td> \n",
       "</tr>\n",
       "<tr>\n",
       "  <th>Covariance Type:</th>     <td>nonrobust</td>    <th>  LLR p-value:       </th> <td>2.583e-10</td>\n",
       "</tr>\n",
       "</table>\n",
       "<table class=\"simpletable\">\n",
       "<tr>\n",
       "              <td></td>                <th>coef</th>     <th>std err</th>      <th>z</th>      <th>P>|z|</th>  <th>[0.025</th>    <th>0.975]</th>  \n",
       "</tr>\n",
       "<tr>\n",
       "  <th>Pregnancies</th>              <td>    0.1284</td> <td>    0.029</td> <td>    4.484</td> <td> 0.000</td> <td>    0.072</td> <td>    0.185</td>\n",
       "</tr>\n",
       "<tr>\n",
       "  <th>Glucose</th>                  <td>    0.0129</td> <td>    0.003</td> <td>    4.757</td> <td> 0.000</td> <td>    0.008</td> <td>    0.018</td>\n",
       "</tr>\n",
       "<tr>\n",
       "  <th>BloodPressure</th>            <td>   -0.0303</td> <td>    0.005</td> <td>   -6.481</td> <td> 0.000</td> <td>   -0.039</td> <td>   -0.021</td>\n",
       "</tr>\n",
       "<tr>\n",
       "  <th>SkinThickness</th>            <td>    0.0002</td> <td>    0.006</td> <td>    0.032</td> <td> 0.974</td> <td>   -0.012</td> <td>    0.012</td>\n",
       "</tr>\n",
       "<tr>\n",
       "  <th>Insulin</th>                  <td>    0.0007</td> <td>    0.001</td> <td>    0.942</td> <td> 0.346</td> <td>   -0.001</td> <td>    0.002</td>\n",
       "</tr>\n",
       "<tr>\n",
       "  <th>BMI</th>                      <td>   -0.0048</td> <td>    0.011</td> <td>   -0.449</td> <td> 0.653</td> <td>   -0.026</td> <td>    0.016</td>\n",
       "</tr>\n",
       "<tr>\n",
       "  <th>DiabetesPedigreeFunction</th> <td>    0.3203</td> <td>    0.240</td> <td>    1.335</td> <td> 0.182</td> <td>   -0.150</td> <td>    0.790</td>\n",
       "</tr>\n",
       "<tr>\n",
       "  <th>Age</th>                      <td>   -0.0156</td> <td>    0.008</td> <td>   -1.852</td> <td> 0.064</td> <td>   -0.032</td> <td>    0.001</td>\n",
       "</tr>\n",
       "</table>"
      ],
      "text/plain": [
       "<class 'statsmodels.iolib.summary.Summary'>\n",
       "\"\"\"\n",
       "                           Logit Regression Results                           \n",
       "==============================================================================\n",
       "Dep. Variable:                Outcome   No. Observations:                  768\n",
       "Model:                          Logit   Df Residuals:                      760\n",
       "Method:                           MLE   Df Model:                            7\n",
       "Date:                Sun, 03 Mar 2024   Pseudo R-squ.:                 0.05922\n",
       "Time:                        12:52:49   Log-Likelihood:                -467.33\n",
       "converged:                       True   LL-Null:                       -496.74\n",
       "Covariance Type:            nonrobust   LLR p-value:                 2.583e-10\n",
       "============================================================================================\n",
       "                               coef    std err          z      P>|z|      [0.025      0.975]\n",
       "--------------------------------------------------------------------------------------------\n",
       "Pregnancies                  0.1284      0.029      4.484      0.000       0.072       0.185\n",
       "Glucose                      0.0129      0.003      4.757      0.000       0.008       0.018\n",
       "BloodPressure               -0.0303      0.005     -6.481      0.000      -0.039      -0.021\n",
       "SkinThickness                0.0002      0.006      0.032      0.974      -0.012       0.012\n",
       "Insulin                      0.0007      0.001      0.942      0.346      -0.001       0.002\n",
       "BMI                         -0.0048      0.011     -0.449      0.653      -0.026       0.016\n",
       "DiabetesPedigreeFunction     0.3203      0.240      1.335      0.182      -0.150       0.790\n",
       "Age                         -0.0156      0.008     -1.852      0.064      -0.032       0.001\n",
       "============================================================================================\n",
       "\"\"\""
      ]
     },
     "execution_count": 15,
     "metadata": {},
     "output_type": "execute_result"
    }
   ],
   "source": [
    "#statsmodel\n",
    "loj = sm.Logit(y, X)\n",
    "loj_model = loj.fit()\n",
    "loj_model.summary()"
   ]
  },
  {
   "cell_type": "code",
   "execution_count": 16,
   "id": "63e419e4",
   "metadata": {},
   "outputs": [],
   "source": [
    "#burada bir lojistik regresyon mantığı olduğu için tüm değerler 0 ve 1 aralığına dönüştürülmüştür. \n",
    "#Tekrar yorum yapabilmek için, tekrardan onları normal değerlerine dönüştürmemiz gerekmektedir."
   ]
  },
  {
   "cell_type": "code",
   "execution_count": 18,
   "id": "a3abc29b",
   "metadata": {},
   "outputs": [
    {
     "data": {
      "text/plain": [
       "LogisticRegression(solver='liblinear')"
      ]
     },
     "execution_count": 18,
     "metadata": {},
     "output_type": "execute_result"
    }
   ],
   "source": [
    "#scikitleartn\n",
    "from sklearn.linear_model import LogisticRegression\n",
    "loj = LogisticRegression(solver = \"liblinear\")\n",
    "loj_model =loj.fit(X,y)\n",
    "loj_model"
   ]
  },
  {
   "cell_type": "code",
   "execution_count": 19,
   "id": "d73786c7",
   "metadata": {},
   "outputs": [
    {
     "data": {
      "text/plain": [
       "array([-5.88679617])"
      ]
     },
     "execution_count": 19,
     "metadata": {},
     "output_type": "execute_result"
    }
   ],
   "source": [
    "loj_model.intercept_"
   ]
  },
  {
   "cell_type": "code",
   "execution_count": 20,
   "id": "4dbc5bf6",
   "metadata": {},
   "outputs": [
    {
     "data": {
      "text/plain": [
       "array([[ 1.16994476e-01,  2.83733435e-02, -1.68981359e-02,\n",
       "         7.55145090e-04, -6.41407258e-04,  5.97201268e-02,\n",
       "         6.76128123e-01,  7.23498971e-03]])"
      ]
     },
     "execution_count": 20,
     "metadata": {},
     "output_type": "execute_result"
    }
   ],
   "source": [
    "#bağımsız değişkenlerin katsayısı\n",
    "loj_model.coef_"
   ]
  },
  {
   "cell_type": "markdown",
   "id": "dc22145e",
   "metadata": {},
   "source": [
    "# LOJİSTİK REGRESYON TAHMİN & MODEL TUNİNG"
   ]
  },
  {
   "cell_type": "code",
   "execution_count": 21,
   "id": "13d9df9a",
   "metadata": {},
   "outputs": [],
   "source": [
    "y_pred = loj_model.predict(X)"
   ]
  },
  {
   "cell_type": "code",
   "execution_count": 22,
   "id": "3aaf0d90",
   "metadata": {},
   "outputs": [
    {
     "data": {
      "text/plain": [
       "array([[448,  52],\n",
       "       [121, 147]], dtype=int64)"
      ]
     },
     "execution_count": 22,
     "metadata": {},
     "output_type": "execute_result"
    }
   ],
   "source": [
    "confusion_matrix(y, y_pred)"
   ]
  },
  {
   "cell_type": "code",
   "execution_count": 23,
   "id": "1be07511",
   "metadata": {},
   "outputs": [
    {
     "data": {
      "text/plain": [
       "0.7747395833333334"
      ]
     },
     "execution_count": 23,
     "metadata": {},
     "output_type": "execute_result"
    }
   ],
   "source": [
    "#doğru sınıflandırma oranı\n",
    "accuracy_score(y, y_pred)"
   ]
  },
  {
   "cell_type": "code",
   "execution_count": 24,
   "id": "fe25491f",
   "metadata": {},
   "outputs": [
    {
     "name": "stdout",
     "output_type": "stream",
     "text": [
      "              precision    recall  f1-score   support\n",
      "\n",
      "           0       0.79      0.90      0.84       500\n",
      "           1       0.74      0.55      0.63       268\n",
      "\n",
      "    accuracy                           0.77       768\n",
      "   macro avg       0.76      0.72      0.73       768\n",
      "weighted avg       0.77      0.77      0.77       768\n",
      "\n"
     ]
    }
   ],
   "source": [
    "print(classification_report(y, y_pred))"
   ]
  },
  {
   "cell_type": "code",
   "execution_count": 27,
   "id": "5814a707",
   "metadata": {},
   "outputs": [
    {
     "data": {
      "text/plain": [
       "array([1, 0, 1, 0, 1, 0, 0, 1, 1, 0], dtype=int64)"
      ]
     },
     "execution_count": 27,
     "metadata": {},
     "output_type": "execute_result"
    }
   ],
   "source": [
    "loj_model.predict(X)[0:10]"
   ]
  },
  {
   "cell_type": "code",
   "execution_count": 26,
   "id": "96c40953",
   "metadata": {},
   "outputs": [
    {
     "data": {
      "text/plain": [
       "array([[0.3505852 , 0.6494148 ],\n",
       "       [0.91692518, 0.08307482],\n",
       "       [0.22489628, 0.77510372],\n",
       "       [0.92127453, 0.07872547],\n",
       "       [0.16759435, 0.83240565],\n",
       "       [0.79886109, 0.20113891],\n",
       "       [0.8800353 , 0.1199647 ],\n",
       "       [0.27795677, 0.72204323],\n",
       "       [0.32053464, 0.67946536],\n",
       "       [0.92264521, 0.07735479]])"
      ]
     },
     "execution_count": 26,
     "metadata": {},
     "output_type": "execute_result"
    }
   ],
   "source": [
    "#0 - 1 değerlerinin normal olasılık değerleri aslında bunlardı. baştaki 0 sınıfına ait olasılık, sağdaki 1 sınıfına ait olasılık\n",
    "loj_model.predict_proba(X)[0:10]"
   ]
  },
  {
   "cell_type": "code",
   "execution_count": 28,
   "id": "c2b6fbbf",
   "metadata": {},
   "outputs": [
    {
     "data": {
      "text/plain": [
       "0    1\n",
       "1    0\n",
       "2    1\n",
       "3    0\n",
       "4    1\n",
       "5    0\n",
       "6    1\n",
       "7    0\n",
       "8    1\n",
       "9    1\n",
       "Name: Outcome, dtype: int64"
      ]
     },
     "execution_count": 28,
     "metadata": {},
     "output_type": "execute_result"
    }
   ],
   "source": [
    "y[0:10]"
   ]
  },
  {
   "cell_type": "code",
   "execution_count": 29,
   "id": "055e7f38",
   "metadata": {},
   "outputs": [],
   "source": [
    "y_probs = loj_model.predict_proba(X)\n",
    "y_probs = y_probs[:,1]"
   ]
  },
  {
   "cell_type": "code",
   "execution_count": 30,
   "id": "261898ca",
   "metadata": {},
   "outputs": [
    {
     "data": {
      "text/plain": [
       "array([0.6494148 , 0.08307482, 0.77510372, 0.07872547, 0.83240565,\n",
       "       0.20113891, 0.1199647 , 0.72204323, 0.67946536, 0.07735479])"
      ]
     },
     "execution_count": 30,
     "metadata": {},
     "output_type": "execute_result"
    }
   ],
   "source": [
    "y_probs[0:10]"
   ]
  },
  {
   "cell_type": "code",
   "execution_count": 32,
   "id": "7ad14d36",
   "metadata": {},
   "outputs": [],
   "source": [
    "y_pred = [1 if i > 0.5 else 0 for i in y_probs]\n",
    "#eğer sağ taraftaki değer 0.5'ten büyükse, 1 olur"
   ]
  },
  {
   "cell_type": "code",
   "execution_count": 33,
   "id": "658a1ece",
   "metadata": {},
   "outputs": [
    {
     "data": {
      "text/plain": [
       "[1, 0, 1, 0, 1, 0, 0, 1, 1, 0]"
      ]
     },
     "execution_count": 33,
     "metadata": {},
     "output_type": "execute_result"
    }
   ],
   "source": [
    "y_pred[0:10]"
   ]
  },
  {
   "cell_type": "code",
   "execution_count": 34,
   "id": "718bdcbb",
   "metadata": {},
   "outputs": [
    {
     "data": {
      "text/plain": [
       "array([[448,  52],\n",
       "       [121, 147]], dtype=int64)"
      ]
     },
     "execution_count": 34,
     "metadata": {},
     "output_type": "execute_result"
    }
   ],
   "source": [
    "confusion_matrix(y, y_pred)"
   ]
  },
  {
   "cell_type": "code",
   "execution_count": 35,
   "id": "6835a8a5",
   "metadata": {},
   "outputs": [
    {
     "data": {
      "text/plain": [
       "0.7747395833333334"
      ]
     },
     "execution_count": 35,
     "metadata": {},
     "output_type": "execute_result"
    }
   ],
   "source": [
    "accuracy_score(y, y_pred)"
   ]
  },
  {
   "cell_type": "code",
   "execution_count": 36,
   "id": "641178bd",
   "metadata": {},
   "outputs": [
    {
     "name": "stdout",
     "output_type": "stream",
     "text": [
      "              precision    recall  f1-score   support\n",
      "\n",
      "           0       0.79      0.90      0.84       500\n",
      "           1       0.74      0.55      0.63       268\n",
      "\n",
      "    accuracy                           0.77       768\n",
      "   macro avg       0.76      0.72      0.73       768\n",
      "weighted avg       0.77      0.77      0.77       768\n",
      "\n"
     ]
    }
   ],
   "source": [
    "print(classification_report(y, y_pred))"
   ]
  },
  {
   "cell_type": "code",
   "execution_count": 37,
   "id": "f150e97a",
   "metadata": {},
   "outputs": [
    {
     "data": {
      "text/plain": [
       "array([0.6494148 , 0.08307482, 0.77510372, 0.07872547, 0.83240565])"
      ]
     },
     "execution_count": 37,
     "metadata": {},
     "output_type": "execute_result"
    }
   ],
   "source": [
    "loj_model.predict_proba(X)[:,1][0:5]"
   ]
  },
  {
   "cell_type": "code",
   "execution_count": 38,
   "id": "ad807721",
   "metadata": {},
   "outputs": [
    {
     "data": {
      "image/png": "[encoded data removed]",
      "text/plain": [
       "<Figure size 432x288 with 1 Axes>"
      ]
     },
     "metadata": {
      "needs_background": "light"
     },
     "output_type": "display_data"
    }
   ],
   "source": [
    "logit_roc_auc = roc_auc_score(y, loj_model.predict(X))\n",
    "\n",
    "fpr, tpr, thresholds = roc_curve(y, loj_model.predict_proba(X)[:,1])\n",
    "plt.figure()\n",
    "plt.plot(fpr, tpr, label='AUC (area = %0.2f)' % logit_roc_auc)\n",
    "plt.plot([0, 1], [0, 1],'r--')\n",
    "plt.xlim([0.0, 1.0])\n",
    "plt.ylim([0.0, 1.05])\n",
    "plt.xlabel('False Positive Oranı')\n",
    "plt.ylabel('True Positive Oranı')\n",
    "plt.title('ROC')\n",
    "plt.show()"
   ]
  },
  {
   "cell_type": "code",
   "execution_count": 39,
   "id": "9c9a01da",
   "metadata": {},
   "outputs": [],
   "source": [
    "X_train, X_test, y_train, y_test = train_test_split(X, y, \n",
    "                                                    test_size = 0.30, \n",
    "                                                    random_state = 42)\n"
   ]
  },
  {
   "cell_type": "code",
   "execution_count": 40,
   "id": "1bf5ef82",
   "metadata": {},
   "outputs": [
    {
     "data": {
      "text/plain": [
       "LogisticRegression(solver='liblinear')"
      ]
     },
     "execution_count": 40,
     "metadata": {},
     "output_type": "execute_result"
    }
   ],
   "source": [
    "loj = LogisticRegression(solver = \"liblinear\")\n",
    "loj_model = loj.fit(X_train,y_train)\n",
    "loj_model"
   ]
  },
  {
   "cell_type": "code",
   "execution_count": 41,
   "id": "45b16357",
   "metadata": {},
   "outputs": [
    {
     "data": {
      "text/plain": [
       "0.7532467532467533"
      ]
     },
     "execution_count": 41,
     "metadata": {},
     "output_type": "execute_result"
    }
   ],
   "source": [
    "accuracy_score(y_test, loj_model.predict(X_test))"
   ]
  },
  {
   "cell_type": "code",
   "execution_count": 42,
   "id": "c2361ea1",
   "metadata": {},
   "outputs": [
    {
     "data": {
      "text/plain": [
       "0.7704710144927536"
      ]
     },
     "execution_count": 42,
     "metadata": {},
     "output_type": "execute_result"
    }
   ],
   "source": [
    "cross_val_score(loj_model, X_test, y_test, cv = 10).mean()"
   ]
  },
  {
   "cell_type": "code",
   "execution_count": null,
   "id": "78f360bd",
   "metadata": {},
   "outputs": [],
   "source": []
  },
  {
   "cell_type": "code",
   "execution_count": null,
   "id": "de4869dc",
   "metadata": {},
   "outputs": [],
   "source": []
  },
  {
   "cell_type": "code",
   "execution_count": null,
   "id": "22cc1b32",
   "metadata": {},
   "outputs": [],
   "source": []
  },
  {
   "cell_type": "markdown",
   "id": "30d26a45",
   "metadata": {},
   "source": [
    "# Gaussian Naive Bayes\n"
   ]
  },
  {
   "cell_type": "code",
   "execution_count": 43,
   "id": "12fe1666",
   "metadata": {},
   "outputs": [],
   "source": [
    "df = diabetes.copy()\n",
    "df = df.dropna()\n",
    "y = df[\"Outcome\"]\n",
    "X = df.drop(['Outcome'], axis=1)\n",
    "X_train, X_test, y_train, y_test = train_test_split(X, y, \n",
    "                                                    test_size=0.30, \n",
    "                                                    random_state=42)\n",
    "\n"
   ]
  },
  {
   "cell_type": "code",
   "execution_count": 44,
   "id": "62994c58",
   "metadata": {},
   "outputs": [],
   "source": [
    "from sklearn.naive_bayes import GaussianNB"
   ]
  },
  {
   "cell_type": "code",
   "execution_count": 45,
   "id": "f1697ef8",
   "metadata": {},
   "outputs": [
    {
     "data": {
      "text/plain": [
       "GaussianNB()"
      ]
     },
     "execution_count": 45,
     "metadata": {},
     "output_type": "execute_result"
    }
   ],
   "source": [
    "nb = GaussianNB()\n",
    "nb_model = nb.fit(X_train, y_train)\n",
    "nb_model"
   ]
  },
  {
   "cell_type": "code",
   "execution_count": 46,
   "id": "c5fb3c2c",
   "metadata": {},
   "outputs": [
    {
     "data": {
      "text/plain": [
       "array([0, 0, 0, 0, 1, 1, 0, 0, 0, 1], dtype=int64)"
      ]
     },
     "execution_count": 46,
     "metadata": {},
     "output_type": "execute_result"
    }
   ],
   "source": [
    "nb_model.predict(X_test)[0:10]"
   ]
  },
  {
   "cell_type": "code",
   "execution_count": 47,
   "id": "9e6f5413",
   "metadata": {},
   "outputs": [
    {
     "data": {
      "text/plain": [
       "array([[0.73815858, 0.26184142],\n",
       "       [0.94027894, 0.05972106],\n",
       "       [0.97242831, 0.02757169],\n",
       "       [0.82840069, 0.17159931],\n",
       "       [0.47153473, 0.52846527],\n",
       "       [0.47274458, 0.52725542],\n",
       "       [0.99607705, 0.00392295],\n",
       "       [0.69925055, 0.30074945],\n",
       "       [0.53838117, 0.46161883],\n",
       "       [0.25004536, 0.74995464]])"
      ]
     },
     "execution_count": 47,
     "metadata": {},
     "output_type": "execute_result"
    }
   ],
   "source": [
    "nb_model.predict_proba(X_test)[0:10]"
   ]
  },
  {
   "cell_type": "code",
   "execution_count": 48,
   "id": "182b15f4",
   "metadata": {},
   "outputs": [],
   "source": [
    "y_pred = nb_model.predict(X_test)"
   ]
  },
  {
   "cell_type": "code",
   "execution_count": 49,
   "id": "eb628395",
   "metadata": {},
   "outputs": [
    {
     "data": {
      "text/plain": [
       "0.7445887445887446"
      ]
     },
     "execution_count": 49,
     "metadata": {},
     "output_type": "execute_result"
    }
   ],
   "source": [
    "accuracy_score(y_test, y_pred)"
   ]
  },
  {
   "cell_type": "code",
   "execution_count": 50,
   "id": "f321e44d",
   "metadata": {},
   "outputs": [
    {
     "data": {
      "text/plain": [
       "0.775"
      ]
     },
     "execution_count": 50,
     "metadata": {},
     "output_type": "execute_result"
    }
   ],
   "source": [
    "cross_val_score(nb_model, X_test, y_test, cv = 10).mean()"
   ]
  },
  {
   "cell_type": "code",
   "execution_count": null,
   "id": "5ded20b8",
   "metadata": {},
   "outputs": [],
   "source": []
  },
  {
   "cell_type": "code",
   "execution_count": null,
   "id": "5183e87d",
   "metadata": {},
   "outputs": [],
   "source": []
  },
  {
   "cell_type": "code",
   "execution_count": null,
   "id": "69d50a8a",
   "metadata": {},
   "outputs": [],
   "source": []
  },
  {
   "cell_type": "markdown",
   "id": "2a408f8a",
   "metadata": {},
   "source": [
    "# KNN MODEL TAHMİN"
   ]
  },
  {
   "cell_type": "code",
   "execution_count": 51,
   "id": "868bd593",
   "metadata": {},
   "outputs": [],
   "source": [
    "df = diabetes.copy()\n",
    "df = df.dropna()\n",
    "y = df[\"Outcome\"]\n",
    "X = df.drop(['Outcome'], axis=1)\n",
    "X_train, X_test, y_train, y_test = train_test_split(X, y, \n",
    "                                                    test_size=0.30, \n",
    "                                                    random_state=42)"
   ]
  },
  {
   "cell_type": "code",
   "execution_count": 52,
   "id": "93a36342",
   "metadata": {},
   "outputs": [
    {
     "data": {
      "text/plain": [
       "KNeighborsClassifier()"
      ]
     },
     "execution_count": 52,
     "metadata": {},
     "output_type": "execute_result"
    }
   ],
   "source": [
    "knn = KNeighborsClassifier()\n",
    "knn_model = knn.fit(X_train, y_train)\n",
    "knn_model"
   ]
  },
  {
   "cell_type": "code",
   "execution_count": 53,
   "id": "048cf1d8",
   "metadata": {},
   "outputs": [],
   "source": [
    "y_pred = knn_model.predict(X_test)"
   ]
  },
  {
   "cell_type": "code",
   "execution_count": 54,
   "id": "8f34197d",
   "metadata": {},
   "outputs": [
    {
     "data": {
      "text/plain": [
       "0.6883116883116883"
      ]
     },
     "execution_count": 54,
     "metadata": {},
     "output_type": "execute_result"
    }
   ],
   "source": [
    "accuracy_score(y_test, y_pred)"
   ]
  },
  {
   "cell_type": "code",
   "execution_count": 55,
   "id": "8a95da42",
   "metadata": {},
   "outputs": [
    {
     "name": "stdout",
     "output_type": "stream",
     "text": [
      "              precision    recall  f1-score   support\n",
      "\n",
      "           0       0.77      0.75      0.76       151\n",
      "           1       0.55      0.56      0.56        80\n",
      "\n",
      "    accuracy                           0.69       231\n",
      "   macro avg       0.66      0.66      0.66       231\n",
      "weighted avg       0.69      0.69      0.69       231\n",
      "\n"
     ]
    }
   ],
   "source": [
    "print(classification_report(y_test, y_pred))"
   ]
  },
  {
   "cell_type": "markdown",
   "id": "c7c00966",
   "metadata": {},
   "source": [
    "# KNN MODEL TUNİNG"
   ]
  },
  {
   "cell_type": "code",
   "execution_count": 70,
   "id": "32cf6d67",
   "metadata": {},
   "outputs": [],
   "source": [
    "knn_params = {\"n_neighbors\": np.arange(1,50)}"
   ]
  },
  {
   "cell_type": "code",
   "execution_count": 71,
   "id": "daeee2de",
   "metadata": {},
   "outputs": [
    {
     "data": {
      "text/plain": [
       "GridSearchCV(cv=10, estimator=KNeighborsClassifier(),\n",
       "             param_grid={'n_neighbors': array([ 1,  2,  3,  4,  5,  6,  7,  8,  9, 10, 11, 12, 13, 14, 15, 16, 17,\n",
       "       18, 19, 20, 21, 22, 23, 24, 25, 26, 27, 28, 29, 30, 31, 32, 33, 34,\n",
       "       35, 36, 37, 38, 39, 40, 41, 42, 43, 44, 45, 46, 47, 48, 49])})"
      ]
     },
     "execution_count": 71,
     "metadata": {},
     "output_type": "execute_result"
    }
   ],
   "source": [
    "knn = KNeighborsClassifier()\n",
    "knn_cv = GridSearchCV(knn, knn_params, cv=10)\n",
    "knn_cv.fit(X_train, y_train)"
   ]
  },
  {
   "cell_type": "code",
   "execution_count": 72,
   "id": "6547551d",
   "metadata": {},
   "outputs": [
    {
     "name": "stdout",
     "output_type": "stream",
     "text": [
      "En iyi skor:0.748637316561845\n",
      "En iyi parametreler: {'n_neighbors': 11}\n"
     ]
    }
   ],
   "source": [
    "print(\"En iyi skor:\" + str(knn_cv.best_score_))\n",
    "print(\"En iyi parametreler: \" + str(knn_cv.best_params_))"
   ]
  },
  {
   "cell_type": "code",
   "execution_count": 73,
   "id": "85a364bc",
   "metadata": {},
   "outputs": [],
   "source": [
    "knn = KNeighborsClassifier(11)\n",
    "knn_tuned = knn.fit(X_train, y_train)"
   ]
  },
  {
   "cell_type": "code",
   "execution_count": 74,
   "id": "15e250aa",
   "metadata": {},
   "outputs": [
    {
     "data": {
      "text/plain": [
       "0.7316017316017316"
      ]
     },
     "execution_count": 74,
     "metadata": {},
     "output_type": "execute_result"
    }
   ],
   "source": [
    "knn_tuned.score(X_test, y_test)"
   ]
  },
  {
   "cell_type": "code",
   "execution_count": 75,
   "id": "eedb23dc",
   "metadata": {},
   "outputs": [],
   "source": [
    "y_pred = knn_tuned.predict(X_test)"
   ]
  },
  {
   "cell_type": "code",
   "execution_count": 76,
   "id": "8b48d604",
   "metadata": {},
   "outputs": [
    {
     "data": {
      "text/plain": [
       "0.7316017316017316"
      ]
     },
     "execution_count": 76,
     "metadata": {},
     "output_type": "execute_result"
    }
   ],
   "source": [
    "accuracy_score(y_test, y_pred)"
   ]
  },
  {
   "cell_type": "code",
   "execution_count": null,
   "id": "af728c5a",
   "metadata": {},
   "outputs": [],
   "source": []
  },
  {
   "cell_type": "code",
   "execution_count": null,
   "id": "9994416a",
   "metadata": {},
   "outputs": [],
   "source": []
  },
  {
   "cell_type": "code",
   "execution_count": null,
   "id": "a173e393",
   "metadata": {},
   "outputs": [],
   "source": []
  },
  {
   "cell_type": "code",
   "execution_count": null,
   "id": "1d9b9e68",
   "metadata": {},
   "outputs": [],
   "source": []
  },
  {
   "cell_type": "markdown",
   "id": "879369b5",
   "metadata": {},
   "source": [
    "# SVC MODEL & TAHMİN"
   ]
  },
  {
   "cell_type": "code",
   "execution_count": 77,
   "id": "5decff5b",
   "metadata": {},
   "outputs": [],
   "source": [
    "df = diabetes.copy()\n",
    "df = df.dropna()\n",
    "y = df[\"Outcome\"]\n",
    "X = df.drop(['Outcome'], axis=1)\n",
    "X_train, X_test, y_train, y_test = train_test_split(X, y, \n",
    "                                                    test_size=0.30, \n",
    "                                                    random_state=42)"
   ]
  },
  {
   "cell_type": "code",
   "execution_count": 78,
   "id": "33c4cdf4",
   "metadata": {},
   "outputs": [],
   "source": [
    "svm_model = SVC(kernel = \"linear\").fit(X_train, y_train)"
   ]
  },
  {
   "cell_type": "code",
   "execution_count": 79,
   "id": "def696e8",
   "metadata": {},
   "outputs": [
    {
     "data": {
      "text/plain": [
       "SVC(kernel='linear')"
      ]
     },
     "execution_count": 79,
     "metadata": {},
     "output_type": "execute_result"
    }
   ],
   "source": [
    "svm_model"
   ]
  },
  {
   "cell_type": "code",
   "execution_count": 80,
   "id": "a4d91fb9",
   "metadata": {},
   "outputs": [],
   "source": [
    "y_pred = svm_model.predict(X_test)"
   ]
  },
  {
   "cell_type": "code",
   "execution_count": 81,
   "id": "88f1f372",
   "metadata": {},
   "outputs": [
    {
     "data": {
      "text/plain": [
       "0.7445887445887446"
      ]
     },
     "execution_count": 81,
     "metadata": {},
     "output_type": "execute_result"
    }
   ],
   "source": [
    "accuracy_score(y_test, y_pred)"
   ]
  },
  {
   "cell_type": "markdown",
   "id": "30583b79",
   "metadata": {},
   "source": [
    "# SVC MODEL TUNİNG"
   ]
  },
  {
   "cell_type": "code",
   "execution_count": 82,
   "id": "2033fd82",
   "metadata": {},
   "outputs": [
    {
     "name": "stdout",
     "output_type": "stream",
     "text": [
      "Fitting 10 folds for each of 9 candidates, totalling 90 fits\n"
     ]
    },
    {
     "data": {
      "text/plain": [
       "GridSearchCV(cv=10, estimator=SVC(kernel='linear'), n_jobs=-1,\n",
       "             param_grid={'C': array([1, 2, 3, 4, 5, 6, 7, 8, 9])}, verbose=2)"
      ]
     },
     "execution_count": 82,
     "metadata": {},
     "output_type": "execute_result"
    }
   ],
   "source": [
    "svc_params = {\"C\": np.arange(1,10)}\n",
    "\n",
    "svc = SVC(kernel = \"linear\")\n",
    "\n",
    "svc_cv_model = GridSearchCV(svc,svc_params, \n",
    "                            cv = 10, \n",
    "                            n_jobs = -1, \n",
    "                            verbose = 2 )\n",
    "\n",
    "svc_cv_model.fit(X_train, y_train)"
   ]
  },
  {
   "cell_type": "code",
   "execution_count": 86,
   "id": "dd951e89",
   "metadata": {},
   "outputs": [
    {
     "name": "stdout",
     "output_type": "stream",
     "text": [
      "En iyi parametreler: {'C': 5}\n"
     ]
    }
   ],
   "source": [
    "print(\"En iyi parametreler: \" + str(svc_cv_model.best_params_))"
   ]
  },
  {
   "cell_type": "code",
   "execution_count": 87,
   "id": "d13c7deb",
   "metadata": {},
   "outputs": [],
   "source": [
    "svc_tuned = SVC(kernel = \"linear\", C = 5).fit(X_train, y_train)"
   ]
  },
  {
   "cell_type": "code",
   "execution_count": 89,
   "id": "05b70e0d",
   "metadata": {},
   "outputs": [
    {
     "data": {
      "text/plain": [
       "0.7445887445887446"
      ]
     },
     "execution_count": 89,
     "metadata": {},
     "output_type": "execute_result"
    }
   ],
   "source": [
    "y_pred = svc_tuned.predict(X_test)\n",
    "accuracy_score(y_test, y_pred)"
   ]
  },
  {
   "cell_type": "code",
   "execution_count": null,
   "id": "b4dfb846",
   "metadata": {},
   "outputs": [],
   "source": []
  },
  {
   "cell_type": "code",
   "execution_count": null,
   "id": "6000d620",
   "metadata": {},
   "outputs": [],
   "source": []
  },
  {
   "cell_type": "code",
   "execution_count": null,
   "id": "7328ef68",
   "metadata": {},
   "outputs": [],
   "source": []
  },
  {
   "cell_type": "markdown",
   "id": "838e1385",
   "metadata": {},
   "source": [
    "# RBF SVC MODEL TAHMİN"
   ]
  },
  {
   "cell_type": "code",
   "execution_count": 90,
   "id": "3b66ee56",
   "metadata": {},
   "outputs": [],
   "source": [
    "df = diabetes.copy()\n",
    "df = df.dropna()\n",
    "y = df[\"Outcome\"]\n",
    "X = df.drop(['Outcome'], axis=1)\n",
    "X_train, X_test, y_train, y_test = train_test_split(X, y, \n",
    "                                                    test_size=0.30, \n",
    "                                                    random_state=42)"
   ]
  },
  {
   "cell_type": "code",
   "execution_count": 91,
   "id": "5ab9879b",
   "metadata": {},
   "outputs": [],
   "source": [
    "svc_model = SVC(kernel = \"rbf\").fit(X_train, y_train)"
   ]
  },
  {
   "cell_type": "code",
   "execution_count": 92,
   "id": "5b0ce8f2",
   "metadata": {},
   "outputs": [
    {
     "data": {
      "text/plain": [
       "SVC()"
      ]
     },
     "execution_count": 92,
     "metadata": {},
     "output_type": "execute_result"
    }
   ],
   "source": [
    "svc_model"
   ]
  },
  {
   "cell_type": "code",
   "execution_count": 93,
   "id": "4a3249da",
   "metadata": {},
   "outputs": [
    {
     "data": {
      "text/plain": [
       "0.7359307359307359"
      ]
     },
     "execution_count": 93,
     "metadata": {},
     "output_type": "execute_result"
    }
   ],
   "source": [
    "y_pred = svc_model.predict(X_test)\n",
    "accuracy_score(y_test, y_pred)"
   ]
  },
  {
   "cell_type": "markdown",
   "id": "45c53b0f",
   "metadata": {},
   "source": [
    "# RBF SVC MODEL TUNİNG"
   ]
  },
  {
   "cell_type": "code",
   "execution_count": 94,
   "id": "676cea1c",
   "metadata": {},
   "outputs": [],
   "source": [
    "svc_params = {\"C\": [0.0001, 0.001, 0.1, 1, 5, 10 ,50 ,100],\n",
    "             \"gamma\": [0.0001, 0.001, 0.1, 1, 5, 10 ,50 ,100]}"
   ]
  },
  {
   "cell_type": "code",
   "execution_count": 95,
   "id": "2b34b4b9",
   "metadata": {},
   "outputs": [
    {
     "name": "stdout",
     "output_type": "stream",
     "text": [
      "Fitting 10 folds for each of 64 candidates, totalling 640 fits\n"
     ]
    },
    {
     "data": {
      "text/plain": [
       "GridSearchCV(cv=10, estimator=SVC(), n_jobs=-1,\n",
       "             param_grid={'C': [0.0001, 0.001, 0.1, 1, 5, 10, 50, 100],\n",
       "                         'gamma': [0.0001, 0.001, 0.1, 1, 5, 10, 50, 100]},\n",
       "             verbose=2)"
      ]
     },
     "execution_count": 95,
     "metadata": {},
     "output_type": "execute_result"
    }
   ],
   "source": [
    "svc = SVC()\n",
    "svc_cv_model = GridSearchCV(svc, svc_params, \n",
    "                         cv = 10, \n",
    "                         n_jobs = -1,\n",
    "                         verbose = 2)\n",
    "\n",
    "svc_cv_model.fit(X_train, y_train)"
   ]
  },
  {
   "cell_type": "code",
   "execution_count": 96,
   "id": "97ae0691",
   "metadata": {},
   "outputs": [
    {
     "name": "stdout",
     "output_type": "stream",
     "text": [
      "En iyi parametreler: {'C': 10, 'gamma': 0.0001}\n"
     ]
    }
   ],
   "source": [
    "print(\"En iyi parametreler: \" + str(svc_cv_model.best_params_))"
   ]
  },
  {
   "cell_type": "code",
   "execution_count": 97,
   "id": "00bf745e",
   "metadata": {},
   "outputs": [],
   "source": [
    "svc_tuned = SVC(C = 10, gamma = 0.0001).fit(X_train, y_train)"
   ]
  },
  {
   "cell_type": "code",
   "execution_count": 98,
   "id": "83b73451",
   "metadata": {},
   "outputs": [
    {
     "data": {
      "text/plain": [
       "0.7359307359307359"
      ]
     },
     "execution_count": 98,
     "metadata": {},
     "output_type": "execute_result"
    }
   ],
   "source": [
    "y_pred = svc_tuned.predict(X_test)\n",
    "accuracy_score(y_test, y_pred)"
   ]
  },
  {
   "cell_type": "code",
   "execution_count": null,
   "id": "a3fdd0a8",
   "metadata": {},
   "outputs": [],
   "source": []
  },
  {
   "cell_type": "code",
   "execution_count": null,
   "id": "544695dd",
   "metadata": {},
   "outputs": [],
   "source": []
  },
  {
   "cell_type": "code",
   "execution_count": null,
   "id": "3fbe3776",
   "metadata": {},
   "outputs": [],
   "source": []
  },
  {
   "cell_type": "markdown",
   "id": "e8af11e3",
   "metadata": {},
   "source": [
    "# YAPAY SİNİR AĞLARI MODELİ VE TAHMİNİ"
   ]
  },
  {
   "cell_type": "code",
   "execution_count": 99,
   "id": "5ec1437c",
   "metadata": {},
   "outputs": [],
   "source": [
    "df = diabetes.copy()\n",
    "df = df.dropna()\n",
    "y = df[\"Outcome\"]\n",
    "X = df.drop(['Outcome'], axis=1)\n",
    "X_train, X_test, y_train, y_test = train_test_split(X, y, \n",
    "                                                    test_size=0.30, \n",
    "                                                    random_state=42)"
   ]
  },
  {
   "cell_type": "code",
   "execution_count": 100,
   "id": "4907d223",
   "metadata": {},
   "outputs": [],
   "source": [
    "from sklearn.preprocessing import StandardScaler  "
   ]
  },
  {
   "cell_type": "code",
   "execution_count": 101,
   "id": "767e1607",
   "metadata": {},
   "outputs": [],
   "source": [
    "scaler = StandardScaler()"
   ]
  },
  {
   "cell_type": "code",
   "execution_count": 102,
   "id": "29900054",
   "metadata": {},
   "outputs": [],
   "source": [
    "scaler.fit(X_train)\n",
    "X_train_scaled = scaler.transform(X_train)\n",
    "X_test_scaled = scaler.transform(X_test)"
   ]
  },
  {
   "cell_type": "code",
   "execution_count": 103,
   "id": "4fb76f92",
   "metadata": {},
   "outputs": [
    {
     "data": {
      "text/plain": [
       "array([[ 0.69748316, -0.70719864, -0.64639893,  0.81207927,  0.95720244,\n",
       "         0.26575953, -0.11680393,  0.85019217],\n",
       "       [-0.52953881, -0.27388818,  0.29399563,  0.74746428, -0.6936878 ,\n",
       "         0.488933  , -0.94192338, -1.03426754],\n",
       "       [-0.52953881, -0.39769117, -0.31449497, -1.3202154 , -0.6936878 ,\n",
       "        -0.1543317 , -0.91266382, -1.03426754],\n",
       "       [ 1.31099414, -0.42864191,  0.57058226, -1.3202154 , -0.6936878 ,\n",
       "        -0.96825847,  1.12965312,  0.07927683],\n",
       "       [ 1.00423865,  0.46892976,  1.12375553, -1.3202154 , -0.6936878 ,\n",
       "        -0.27248236, -0.76051413,  1.44979298]])"
      ]
     },
     "execution_count": 103,
     "metadata": {},
     "output_type": "execute_result"
    }
   ],
   "source": [
    "X_test_scaled[0:5]"
   ]
  },
  {
   "cell_type": "code",
   "execution_count": 104,
   "id": "3bdec290",
   "metadata": {},
   "outputs": [],
   "source": [
    "from sklearn.neural_network import MLPClassifier"
   ]
  },
  {
   "cell_type": "code",
   "execution_count": 105,
   "id": "e8df7564",
   "metadata": {},
   "outputs": [],
   "source": [
    "mlpc = MLPClassifier().fit(X_train_scaled, y_train)"
   ]
  },
  {
   "cell_type": "code",
   "execution_count": 106,
   "id": "2aa9a47a",
   "metadata": {},
   "outputs": [
    {
     "data": {
      "text/plain": [
       "0.7359307359307359"
      ]
     },
     "execution_count": 106,
     "metadata": {},
     "output_type": "execute_result"
    }
   ],
   "source": [
    "y_pred = mlpc.predict(X_test_scaled)\n",
    "accuracy_score(y_test, y_pred)"
   ]
  },
  {
   "cell_type": "markdown",
   "id": "e1606dfc",
   "metadata": {},
   "source": [
    "# YAPAY SİNİR AĞLARI MODEL TUNİNG"
   ]
  },
  {
   "cell_type": "code",
   "execution_count": 111,
   "id": "76ba3453",
   "metadata": {},
   "outputs": [
    {
     "data": {
      "text/plain": [
       "(100,)"
      ]
     },
     "execution_count": 111,
     "metadata": {},
     "output_type": "execute_result"
    }
   ],
   "source": [
    "mlpc.hidden_layer_sizes\n",
    "#hidden_layer_size bize gizli katman sayısıdır= burada 100 tane gerekir. İlk bakmamız gereken parametre budur."
   ]
  },
  {
   "cell_type": "code",
   "execution_count": 108,
   "id": "2eb615c0",
   "metadata": {},
   "outputs": [],
   "source": [
    "?mlpc"
   ]
  },
  {
   "cell_type": "code",
   "execution_count": 109,
   "id": "4be7e6f8",
   "metadata": {},
   "outputs": [],
   "source": [
    "mlpc_params = {\"alpha\": [0.1, 0.01, 0.02, 0.005, 0.0001,0.00001],\n",
    "              \"hidden_layer_sizes\": [(10,10,10),\n",
    "                                     (100,100,100),\n",
    "                                     (100,100),\n",
    "                                     (3,5), \n",
    "                                     (5, 3)],\n",
    "              \"solver\" : [\"lbfgs\",\"adam\",\"sgd\"],\n",
    "              \"activation\": [\"relu\",\"logistic\"]}\n"
   ]
  },
  {
   "cell_type": "code",
   "execution_count": 110,
   "id": "6a3c3639",
   "metadata": {},
   "outputs": [
    {
     "name": "stdout",
     "output_type": "stream",
     "text": [
      "Fitting 10 folds for each of 180 candidates, totalling 1800 fits\n"
     ]
    },
    {
     "data": {
      "text/plain": [
       "GridSearchCV(cv=10, estimator=MLPClassifier(), n_jobs=-1,\n",
       "             param_grid={'activation': ['relu', 'logistic'],\n",
       "                         'alpha': [0.1, 0.01, 0.02, 0.005, 0.0001, 1e-05],\n",
       "                         'hidden_layer_sizes': [(10, 10, 10), (100, 100, 100),\n",
       "                                                (100, 100), (3, 5), (5, 3)],\n",
       "                         'solver': ['lbfgs', 'adam', 'sgd']},\n",
       "             verbose=2)"
      ]
     },
     "execution_count": 110,
     "metadata": {},
     "output_type": "execute_result"
    }
   ],
   "source": [
    "mlpc = MLPClassifier()\n",
    "mlpc_cv_model = GridSearchCV(mlpc, mlpc_params, \n",
    "                         cv = 10, \n",
    "                         n_jobs = -1,\n",
    "                         verbose = 2)\n",
    "\n",
    "mlpc_cv_model.fit(X_train_scaled, y_train)"
   ]
  },
  {
   "cell_type": "code",
   "execution_count": 112,
   "id": "41fe5c78",
   "metadata": {},
   "outputs": [
    {
     "name": "stdout",
     "output_type": "stream",
     "text": [
      "En iyi parametreler: {'activation': 'relu', 'alpha': 0.0001, 'hidden_layer_sizes': (100, 100), 'solver': 'sgd'}\n"
     ]
    }
   ],
   "source": [
    "print(\"En iyi parametreler: \" + str(mlpc_cv_model.best_params_))"
   ]
  },
  {
   "cell_type": "code",
   "execution_count": 126,
   "id": "32507e31",
   "metadata": {},
   "outputs": [],
   "source": [
    "mlpc_tuned = MLPClassifier(activation = \"logistic\", \n",
    "                           alpha = 0.0001, \n",
    "                           hidden_layer_sizes = (100, 100),\n",
    "                          solver = \"adam\")\n",
    "#aslında sgd denedim ama çok düşük geldi ?"
   ]
  },
  {
   "cell_type": "code",
   "execution_count": 127,
   "id": "26547f55",
   "metadata": {},
   "outputs": [
    {
     "data": {
      "text/plain": [
       "MLPClassifier(activation='logistic', hidden_layer_sizes=(100, 100))"
      ]
     },
     "execution_count": 127,
     "metadata": {},
     "output_type": "execute_result"
    }
   ],
   "source": [
    "mlpc_tuned.fit(X_train_scaled, y_train)"
   ]
  },
  {
   "cell_type": "code",
   "execution_count": 128,
   "id": "1ed3a326",
   "metadata": {},
   "outputs": [
    {
     "data": {
      "text/plain": [
       "0.7445887445887446"
      ]
     },
     "execution_count": 128,
     "metadata": {},
     "output_type": "execute_result"
    }
   ],
   "source": [
    "y_pred = mlpc_tuned.predict(X_test_scaled)\n",
    "accuracy_score(y_test, y_pred)"
   ]
  },
  {
   "cell_type": "code",
   "execution_count": null,
   "id": "7349e09c",
   "metadata": {},
   "outputs": [],
   "source": []
  },
  {
   "cell_type": "code",
   "execution_count": null,
   "id": "f9d30d1a",
   "metadata": {},
   "outputs": [],
   "source": []
  },
  {
   "cell_type": "code",
   "execution_count": null,
   "id": "a0652746",
   "metadata": {},
   "outputs": [],
   "source": []
  },
  {
   "cell_type": "markdown",
   "id": "7e09c9f1",
   "metadata": {},
   "source": [
    "# CART MODEL & TAHMİN"
   ]
  },
  {
   "cell_type": "code",
   "execution_count": 129,
   "id": "f7b1e285",
   "metadata": {},
   "outputs": [],
   "source": [
    "df = diabetes.copy()\n",
    "df = df.dropna()\n",
    "y = df[\"Outcome\"]\n",
    "X = df.drop(['Outcome'], axis=1)\n",
    "#X = df[\"Pregnancies\"]\n",
    "X = pd.DataFrame(X)\n",
    "X_train, X_test, y_train, y_test = train_test_split(X, y, \n",
    "                                                    test_size=0.30, \n",
    "                                                    random_state=42)"
   ]
  },
  {
   "cell_type": "code",
   "execution_count": 130,
   "id": "51bd037f",
   "metadata": {},
   "outputs": [],
   "source": [
    "from sklearn.tree import DecisionTreeClassifier"
   ]
  },
  {
   "cell_type": "code",
   "execution_count": 131,
   "id": "d272b5c3",
   "metadata": {},
   "outputs": [],
   "source": [
    "cart = DecisionTreeClassifier()\n",
    "cart_model = cart.fit(X_train, y_train)"
   ]
  },
  {
   "cell_type": "code",
   "execution_count": 132,
   "id": "cfa38c9d",
   "metadata": {},
   "outputs": [
    {
     "data": {
      "text/plain": [
       "DecisionTreeClassifier()"
      ]
     },
     "execution_count": 132,
     "metadata": {},
     "output_type": "execute_result"
    }
   ],
   "source": [
    "cart_model"
   ]
  },
  {
   "cell_type": "code",
   "execution_count": 133,
   "id": "9364120b",
   "metadata": {},
   "outputs": [
    {
     "name": "stdout",
     "output_type": "stream",
     "text": [
      "((((((0 if x[6] <= 0.671999990940094 else 1 if x[6] <= 0.6974999904632568 else\n",
      "    0) if x[5] <= 31.40000057220459 else ((0 if x[3] <= 40.5 else 1) if x[1\n",
      "    ] <= 111.5 else ((0 if x[5] <= 32.59999942779541 else 1) if x[2] <= \n",
      "    65.0 else 0) if x[2] <= 72.0 else 1) if x[4] <= 9.0 else (0 if x[6] <= \n",
      "    0.6395000219345093 else 1 if x[6] <= 0.6759999990463257 else 0) if x[0] <=\n",
      "    4.5 else 1 if x[2] <= 67.0 else 0) if x[5] <= 49.10000038146973 else 1) if\n",
      "    x[1] <= 127.5 else 1 if x[2] <= 56.0 else (0 if x[7] <= 27.5 else 0 if \n",
      "    x[3] <= 14.5 else 1) if x[5] <= 30.300000190734863 else 1 if x[5] <= \n",
      "    32.000000953674316 else ((0 if x[5] <= 33.75 else 1) if x[0] <= 0.5 else\n",
      "    1 if x[5] <= 32.45000076293945 else 0) if x[2] <= 85.0 else 1) if x[7] <=\n",
      "    28.5 else (1 if x[7] <= 29.5 else (0 if x[1] <= 133.0 else (1 if x[2] <=\n",
      "    74.0 else 0) if x[0] <= 4.5 else 0) if x[2] <= 94.0 else 1 if x[6] <= \n",
      "    0.6269999742507935 else 0) if x[5] <= 26.949999809265137 else (1 if x[1\n",
      "    ] <= 28.5 else 0 if x[0] <= 9.5 else 0 if x[6] <= 0.29099999368190765 else\n",
      "    1 if x[3] <= 36.0 else 0) if x[1] <= 94.5 else ((((0 if x[6] <= \n",
      "    0.24950000643730164 else 1 if x[6] <= 0.44750000536441803 else 0) if x[\n",
      "    5] <= 28.34999942779541 else 1 if x[5] <= 31.15000057220459 else (1 if \n",
      "    x[2] <= 66.0 else 0) if x[7] <= 36.5 else (1 if x[2] <= 77.0 else 0) if\n",
      "    x[6] <= 0.21000000089406967 else 1 if x[0] <= 9.0 else 0 if x[6] <= \n",
      "    0.26500000059604645 else 1) if x[3] <= 26.5 else ((0 if x[3] <= 29.5 else\n",
      "    0 if x[6] <= 0.19299999624490738 else 1) if x[2] <= 67.0 else 0 if x[2] <=\n",
      "    80.0 else 1 if x[6] <= 0.27300000190734863 else 0) if x[1] <= 127.5 else\n",
      "    (0 if x[5] <= 35.5 else 1) if x[6] <= 0.3110000044107437 else 1) if x[2\n",
      "    ] <= 83.0 else ((0 if x[3] <= 39.5 else 1 if x[0] <= 6.0 else 0) if x[5\n",
      "    ] <= 41.19999885559082 else 1) if x[4] <= 124.0 else 0 if x[3] <= 19.5 else\n",
      "    1) if x[6] <= 0.527999997138977 else ((((0 if x[1] <= 108.5 else 1) if \n",
      "    x[7] <= 32.5 else 1) if x[1] <= 132.0 else 0) if x[5] <= \n",
      "    29.09999942779541 else 0 if x[7] <= 50.0 else 1) if x[5] <= \n",
      "    31.600000381469727 else ((1 if x[2] <= 87.0 else 0 if x[7] <= 31.5 else\n",
      "    1) if x[3] <= 54.5 else 0) if x[6] <= 1.1489999890327454 else 1 if x[7] <=\n",
      "    36.0 else 0) if x[1] <= 154.5 else (1 if x[5] <= 25.350000381469727 else\n",
      "    0 if x[6] <= 0.3684999942779541 else 1 if x[1] <= 179.5 else 0 if x[1] <=\n",
      "    195.5 else 1) if x[5] <= 28.700000762939453 else (((0 if x[7] <= 24.5 else\n",
      "    0 if x[6] <= 0.14100000262260437 else 1) if x[1] <= 164.5 else 0) if x[\n",
      "    1] <= 165.5 else ((1 if x[2] <= 57.0 else 0) if x[7] <= 27.5 else 1) if\n",
      "    x[2] <= 65.0 else 1) if x[6] <= 1.4275000095367432 else 1 if x[1] <= \n",
      "    181.5 else 0)\n",
      "\n"
     ]
    }
   ],
   "source": [
    "from skompiler import skompile\n",
    "print(skompile(cart_model.predict).to(\"python/code\"))"
   ]
  },
  {
   "cell_type": "code",
   "execution_count": 134,
   "id": "88e87c6e",
   "metadata": {},
   "outputs": [],
   "source": [
    "x = [9]"
   ]
  },
  {
   "cell_type": "code",
   "execution_count": 135,
   "id": "e295b8e2",
   "metadata": {},
   "outputs": [
    {
     "data": {
      "text/plain": [
       "1"
      ]
     },
     "execution_count": 135,
     "metadata": {},
     "output_type": "execute_result"
    }
   ],
   "source": [
    "((0 if x[0] <= 2.5 else 0) if x[0] <= 6.5 else 1 if x[0] <= 13.5 else 1)"
   ]
  },
  {
   "cell_type": "code",
   "execution_count": 136,
   "id": "24ddd686",
   "metadata": {},
   "outputs": [
    {
     "data": {
      "text/plain": [
       "0.6883116883116883"
      ]
     },
     "execution_count": 136,
     "metadata": {},
     "output_type": "execute_result"
    }
   ],
   "source": [
    "y_pred = cart_model.predict(X_test)\n",
    "accuracy_score(y_test, y_pred)"
   ]
  },
  {
   "cell_type": "markdown",
   "id": "8f5454bb",
   "metadata": {},
   "source": [
    "# CART MODEL TUNİNG"
   ]
  },
  {
   "cell_type": "code",
   "execution_count": 137,
   "id": "f99736c6",
   "metadata": {},
   "outputs": [
    {
     "data": {
      "text/plain": [
       "DecisionTreeClassifier()"
      ]
     },
     "execution_count": 137,
     "metadata": {},
     "output_type": "execute_result"
    }
   ],
   "source": [
    "cart_model"
   ]
  },
  {
   "cell_type": "code",
   "execution_count": 138,
   "id": "09aeebac",
   "metadata": {},
   "outputs": [],
   "source": [
    "?cart_model"
   ]
  },
  {
   "cell_type": "code",
   "execution_count": 139,
   "id": "4b82cab9",
   "metadata": {},
   "outputs": [],
   "source": [
    "cart_grid = {\"max_depth\": range(1,10),\n",
    "            \"min_samples_split\" : list(range(2,50)) }"
   ]
  },
  {
   "cell_type": "code",
   "execution_count": 140,
   "id": "fe680f5b",
   "metadata": {},
   "outputs": [
    {
     "name": "stdout",
     "output_type": "stream",
     "text": [
      "Fitting 10 folds for each of 432 candidates, totalling 4320 fits\n"
     ]
    }
   ],
   "source": [
    "cart = tree.DecisionTreeClassifier()\n",
    "cart_cv = GridSearchCV(cart, cart_grid, cv = 10, n_jobs = -1, verbose = 2)\n",
    "cart_cv_model = cart_cv.fit(X_train, y_train)"
   ]
  },
  {
   "cell_type": "code",
   "execution_count": 141,
   "id": "5dfcc80d",
   "metadata": {},
   "outputs": [
    {
     "name": "stdout",
     "output_type": "stream",
     "text": [
      "En iyi parametreler: {'max_depth': 5, 'min_samples_split': 19}\n"
     ]
    }
   ],
   "source": [
    "print(\"En iyi parametreler: \" + str(cart_cv_model.best_params_))"
   ]
  },
  {
   "cell_type": "code",
   "execution_count": 142,
   "id": "4372396e",
   "metadata": {},
   "outputs": [],
   "source": [
    "cart = tree.DecisionTreeClassifier(max_depth = 5, min_samples_split = 19)\n",
    "cart_tuned = cart.fit(X_train, y_train)"
   ]
  },
  {
   "cell_type": "code",
   "execution_count": 143,
   "id": "3a161e74",
   "metadata": {},
   "outputs": [
    {
     "data": {
      "text/plain": [
       "0.7532467532467533"
      ]
     },
     "execution_count": 143,
     "metadata": {},
     "output_type": "execute_result"
    }
   ],
   "source": [
    "y_pred = cart_tuned.predict(X_test)\n",
    "accuracy_score(y_test, y_pred)"
   ]
  },
  {
   "cell_type": "code",
   "execution_count": null,
   "id": "71cac1d0",
   "metadata": {},
   "outputs": [],
   "source": []
  },
  {
   "cell_type": "code",
   "execution_count": null,
   "id": "dbb24a27",
   "metadata": {},
   "outputs": [],
   "source": []
  },
  {
   "cell_type": "code",
   "execution_count": null,
   "id": "6b283f48",
   "metadata": {},
   "outputs": [],
   "source": []
  },
  {
   "cell_type": "markdown",
   "id": "58079680",
   "metadata": {},
   "source": [
    "# RANDOM FORESTS MODEL TAHMİN"
   ]
  },
  {
   "cell_type": "code",
   "execution_count": 146,
   "id": "224263ff",
   "metadata": {},
   "outputs": [],
   "source": [
    "df = diabetes.copy()\n",
    "df = df.dropna()\n",
    "y = df[\"Outcome\"]\n",
    "X = df.drop(['Outcome'], axis=1)\n",
    "#X = df[\"Pregnancies\"]\n",
    "X = pd.DataFrame(X)\n",
    "X_train, X_test, y_train, y_test = train_test_split(X, y, \n",
    "                                                    test_size=0.30, \n",
    "                                                    random_state=42)"
   ]
  },
  {
   "cell_type": "code",
   "execution_count": 147,
   "id": "1090580b",
   "metadata": {},
   "outputs": [],
   "source": [
    "from sklearn.ensemble import RandomForestClassifier"
   ]
  },
  {
   "cell_type": "code",
   "execution_count": 148,
   "id": "51c9c948",
   "metadata": {},
   "outputs": [],
   "source": [
    "rf_model = RandomForestClassifier().fit(X_train, y_train)"
   ]
  },
  {
   "cell_type": "code",
   "execution_count": 149,
   "id": "a503ee20",
   "metadata": {},
   "outputs": [
    {
     "data": {
      "text/plain": [
       "RandomForestClassifier()"
      ]
     },
     "execution_count": 149,
     "metadata": {},
     "output_type": "execute_result"
    }
   ],
   "source": [
    "rf_model"
   ]
  },
  {
   "cell_type": "code",
   "execution_count": 150,
   "id": "9aeb756f",
   "metadata": {},
   "outputs": [
    {
     "data": {
      "text/plain": [
       "0.7619047619047619"
      ]
     },
     "execution_count": 150,
     "metadata": {},
     "output_type": "execute_result"
    }
   ],
   "source": [
    "y_pred = rf_model.predict(X_test)\n",
    "accuracy_score(y_test, y_pred)"
   ]
  },
  {
   "cell_type": "markdown",
   "id": "7a22f938",
   "metadata": {},
   "source": [
    "# RANDOM FORESTS MODEL TUNİNG"
   ]
  },
  {
   "cell_type": "code",
   "execution_count": 151,
   "id": "c77e8e36",
   "metadata": {},
   "outputs": [
    {
     "data": {
      "text/plain": [
       "RandomForestClassifier()"
      ]
     },
     "execution_count": 151,
     "metadata": {},
     "output_type": "execute_result"
    }
   ],
   "source": [
    "rf_model"
   ]
  },
  {
   "cell_type": "code",
   "execution_count": 152,
   "id": "f4e283f6",
   "metadata": {},
   "outputs": [],
   "source": [
    "rf_params = {\"max_depth\": [2,5,8,10],\n",
    "            \"max_features\": [2,5,8],\n",
    "            \"n_estimators\": [10,500,1000],\n",
    "            \"min_samples_split\": [2,5,10]}"
   ]
  },
  {
   "cell_type": "code",
   "execution_count": 154,
   "id": "3246049b",
   "metadata": {},
   "outputs": [],
   "source": [
    "rf_model = RandomForestClassifier()\n",
    "\n",
    "rf_cv_model = GridSearchCV(rf_model, \n",
    "                           rf_params, \n",
    "                           cv = 10, \n",
    "                           n_jobs = -1, \n",
    "                           verbose = 2) "
   ]
  },
  {
   "cell_type": "code",
   "execution_count": 155,
   "id": "32cffa68",
   "metadata": {},
   "outputs": [
    {
     "name": "stdout",
     "output_type": "stream",
     "text": [
      "Fitting 10 folds for each of 108 candidates, totalling 1080 fits\n"
     ]
    },
    {
     "data": {
      "text/plain": [
       "GridSearchCV(cv=10, estimator=RandomForestClassifier(), n_jobs=-1,\n",
       "             param_grid={'max_depth': [2, 5, 8, 10], 'max_features': [2, 5, 8],\n",
       "                         'min_samples_split': [2, 5, 10],\n",
       "                         'n_estimators': [10, 500, 1000]},\n",
       "             verbose=2)"
      ]
     },
     "execution_count": 155,
     "metadata": {},
     "output_type": "execute_result"
    }
   ],
   "source": [
    "rf_cv_model.fit(X_train, y_train)"
   ]
  },
  {
   "cell_type": "code",
   "execution_count": 156,
   "id": "2f7d0c51",
   "metadata": {},
   "outputs": [
    {
     "name": "stdout",
     "output_type": "stream",
     "text": [
      "En iyi parametreler: {'max_depth': 10, 'max_features': 2, 'min_samples_split': 10, 'n_estimators': 1000}\n"
     ]
    }
   ],
   "source": [
    "print(\"En iyi parametreler: \" + str(rf_cv_model.best_params_))"
   ]
  },
  {
   "cell_type": "code",
   "execution_count": 157,
   "id": "40366a88",
   "metadata": {},
   "outputs": [
    {
     "data": {
      "text/plain": [
       "RandomForestClassifier(max_depth=10, max_features=2, min_samples_split=10,\n",
       "                       n_estimators=1000)"
      ]
     },
     "execution_count": 157,
     "metadata": {},
     "output_type": "execute_result"
    }
   ],
   "source": [
    "rf_tuned = RandomForestClassifier(max_depth = 10, \n",
    "                                  max_features = 2, \n",
    "                                  min_samples_split = 10,\n",
    "                                  n_estimators = 1000)\n",
    "\n",
    "rf_tuned.fit(X_train, y_train)"
   ]
  },
  {
   "cell_type": "code",
   "execution_count": 158,
   "id": "e4ee2c61",
   "metadata": {},
   "outputs": [
    {
     "data": {
      "text/plain": [
       "0.7532467532467533"
      ]
     },
     "execution_count": 158,
     "metadata": {},
     "output_type": "execute_result"
    }
   ],
   "source": [
    "y_pred = rf_tuned.predict(X_test)\n",
    "accuracy_score(y_test, y_pred)"
   ]
  },
  {
   "cell_type": "code",
   "execution_count": 159,
   "id": "6b53ef8c",
   "metadata": {},
   "outputs": [],
   "source": [
    "Importance = pd.DataFrame({\"Importance\": rf_tuned.feature_importances_*100},\n",
    "                         index = X_train.columns)"
   ]
  },
  {
   "cell_type": "code",
   "execution_count": 160,
   "id": "96538395",
   "metadata": {},
   "outputs": [
    {
     "data": {
      "text/plain": [
       "Text(0.5, 0, 'Değişken Önem Düzeyleri')"
      ]
     },
     "execution_count": 160,
     "metadata": {},
     "output_type": "execute_result"
    },
    {
     "data": {
      "image/png": "[encoded data removed]",
      "text/plain": [
       "<Figure size 432x288 with 1 Axes>"
      ]
     },
     "metadata": {
      "needs_background": "light"
     },
     "output_type": "display_data"
    }
   ],
   "source": [
    "Importance.sort_values(by = \"Importance\", \n",
    "                       axis = 0, \n",
    "                       ascending = True).plot(kind =\"barh\", color = \"r\")\n",
    "\n",
    "plt.xlabel(\"Değişken Önem Düzeyleri\")"
   ]
  },
  {
   "cell_type": "code",
   "execution_count": null,
   "id": "1148083e",
   "metadata": {},
   "outputs": [],
   "source": []
  },
  {
   "cell_type": "code",
   "execution_count": null,
   "id": "bed9438e",
   "metadata": {},
   "outputs": [],
   "source": []
  },
  {
   "cell_type": "code",
   "execution_count": null,
   "id": "4a5c389a",
   "metadata": {},
   "outputs": [],
   "source": []
  },
  {
   "cell_type": "code",
   "execution_count": null,
   "id": "6ed057af",
   "metadata": {},
   "outputs": [],
   "source": []
  },
  {
   "cell_type": "markdown",
   "id": "c46b7d67",
   "metadata": {},
   "source": [
    "# GBM MODEL & TAHMİN"
   ]
  },
  {
   "cell_type": "code",
   "execution_count": 161,
   "id": "b683c297",
   "metadata": {},
   "outputs": [],
   "source": [
    "df = diabetes.copy()\n",
    "df = df.dropna()\n",
    "y = df[\"Outcome\"]\n",
    "X = df.drop(['Outcome'], axis=1)\n",
    "#X = df[\"Pregnancies\"]\n",
    "X = pd.DataFrame(X)\n",
    "X_train, X_test, y_train, y_test = train_test_split(X, y, \n",
    "                                                    test_size=0.30, \n",
    "                                                    random_state=42)"
   ]
  },
  {
   "cell_type": "code",
   "execution_count": 162,
   "id": "d6cbb9b7",
   "metadata": {},
   "outputs": [],
   "source": [
    "from sklearn.ensemble import GradientBoostingClassifier"
   ]
  },
  {
   "cell_type": "code",
   "execution_count": 163,
   "id": "fbcaa978",
   "metadata": {},
   "outputs": [],
   "source": [
    "gbm_model = GradientBoostingClassifier().fit(X_train, y_train)"
   ]
  },
  {
   "cell_type": "code",
   "execution_count": 164,
   "id": "f3ad1d66",
   "metadata": {},
   "outputs": [
    {
     "data": {
      "text/plain": [
       "0.7445887445887446"
      ]
     },
     "execution_count": 164,
     "metadata": {},
     "output_type": "execute_result"
    }
   ],
   "source": [
    "y_pred = gbm_model.predict(X_test)\n",
    "accuracy_score(y_test, y_pred)"
   ]
  },
  {
   "cell_type": "markdown",
   "id": "9e3283fb",
   "metadata": {},
   "source": [
    "# Model Tuning"
   ]
  },
  {
   "cell_type": "code",
   "execution_count": 165,
   "id": "0c26b50a",
   "metadata": {},
   "outputs": [
    {
     "data": {
      "text/plain": [
       "GradientBoostingClassifier()"
      ]
     },
     "execution_count": 165,
     "metadata": {},
     "output_type": "execute_result"
    }
   ],
   "source": [
    "gbm_model"
   ]
  },
  {
   "cell_type": "code",
   "execution_count": 166,
   "id": "f7ac81e8",
   "metadata": {},
   "outputs": [],
   "source": [
    "gbm_params = {\"learning_rate\" : [0.001, 0.01, 0.1, 0.05],\n",
    "             \"n_estimators\": [100,500,100],\n",
    "             \"max_depth\": [3,5,10],\n",
    "             \"min_samples_split\": [2,5,10]}"
   ]
  },
  {
   "cell_type": "code",
   "execution_count": 167,
   "id": "f69527ed",
   "metadata": {},
   "outputs": [],
   "source": [
    "gbm = GradientBoostingClassifier()\n",
    "\n",
    "gbm_cv = GridSearchCV(gbm, gbm_params, cv = 10, n_jobs = -1, verbose = 2)"
   ]
  },
  {
   "cell_type": "code",
   "execution_count": 168,
   "id": "ad640054",
   "metadata": {},
   "outputs": [
    {
     "name": "stdout",
     "output_type": "stream",
     "text": [
      "Fitting 10 folds for each of 108 candidates, totalling 1080 fits\n"
     ]
    },
    {
     "data": {
      "text/plain": [
       "GridSearchCV(cv=10, estimator=GradientBoostingClassifier(), n_jobs=-1,\n",
       "             param_grid={'learning_rate': [0.001, 0.01, 0.1, 0.05],\n",
       "                         'max_depth': [3, 5, 10],\n",
       "                         'min_samples_split': [2, 5, 10],\n",
       "                         'n_estimators': [100, 500, 100]},\n",
       "             verbose=2)"
      ]
     },
     "execution_count": 168,
     "metadata": {},
     "output_type": "execute_result"
    }
   ],
   "source": [
    "gbm_cv.fit(X_train, y_train)"
   ]
  },
  {
   "cell_type": "code",
   "execution_count": 169,
   "id": "e6991bd2",
   "metadata": {},
   "outputs": [
    {
     "name": "stdout",
     "output_type": "stream",
     "text": [
      "En iyi parametreler: {'learning_rate': 0.1, 'max_depth': 3, 'min_samples_split': 5, 'n_estimators': 100}\n"
     ]
    }
   ],
   "source": [
    "print(\"En iyi parametreler: \" + str(gbm_cv.best_params_))"
   ]
  },
  {
   "cell_type": "code",
   "execution_count": 212,
   "id": "507aef8b",
   "metadata": {},
   "outputs": [],
   "source": [
    "gbm = GradientBoostingClassifier(learning_rate = 0.01, \n",
    "                                 max_depth = 3,\n",
    "                                min_samples_split = 5,\n",
    "                                n_estimators = 100)"
   ]
  },
  {
   "cell_type": "code",
   "execution_count": 213,
   "id": "a46c8ffa",
   "metadata": {},
   "outputs": [],
   "source": [
    "gbm_tuned =  gbm.fit(X_train,y_train)"
   ]
  },
  {
   "cell_type": "code",
   "execution_count": 214,
   "id": "8c104d28",
   "metadata": {},
   "outputs": [
    {
     "data": {
      "text/plain": [
       "0.7489177489177489"
      ]
     },
     "execution_count": 214,
     "metadata": {},
     "output_type": "execute_result"
    }
   ],
   "source": [
    "y_pred = gbm_tuned.predict(X_test)\n",
    "accuracy_score(y_test, y_pred)"
   ]
  },
  {
   "cell_type": "code",
   "execution_count": null,
   "id": "9807ec1c",
   "metadata": {},
   "outputs": [],
   "source": []
  },
  {
   "cell_type": "code",
   "execution_count": null,
   "id": "cd55c15b",
   "metadata": {},
   "outputs": [],
   "source": []
  },
  {
   "cell_type": "code",
   "execution_count": null,
   "id": "dc966d42",
   "metadata": {},
   "outputs": [],
   "source": []
  },
  {
   "cell_type": "markdown",
   "id": "552a5d35",
   "metadata": {},
   "source": [
    "# XGBOOST MODEL VE TAHMİNİ"
   ]
  },
  {
   "cell_type": "code",
   "execution_count": 173,
   "id": "cc8c06d8",
   "metadata": {},
   "outputs": [],
   "source": [
    "df = diabetes.copy()\n",
    "df = df.dropna()\n",
    "y = df[\"Outcome\"]\n",
    "X = df.drop(['Outcome'], axis=1)\n",
    "#X = df[\"Pregnancies\"]\n",
    "X = pd.DataFrame(X)\n",
    "X_train, X_test, y_train, y_test = train_test_split(X, y, \n",
    "                                                    test_size=0.30, \n",
    "                                                    random_state=42)"
   ]
  },
  {
   "cell_type": "code",
   "execution_count": 174,
   "id": "978f4dc7",
   "metadata": {},
   "outputs": [],
   "source": [
    "#!pip install xgboost\n",
    "from xgboost import XGBClassifier"
   ]
  },
  {
   "cell_type": "code",
   "execution_count": 175,
   "id": "d053653f",
   "metadata": {},
   "outputs": [],
   "source": [
    "xgb_model = XGBClassifier().fit(X_train, y_train)"
   ]
  },
  {
   "cell_type": "code",
   "execution_count": 176,
   "id": "ec989095",
   "metadata": {},
   "outputs": [
    {
     "data": {
      "text/plain": [
       "XGBClassifier(base_score=None, booster=None, callbacks=None,\n",
       "              colsample_bylevel=None, colsample_bynode=None,\n",
       "              colsample_bytree=None, device=None, early_stopping_rounds=None,\n",
       "              enable_categorical=False, eval_metric=None, feature_types=None,\n",
       "              gamma=None, grow_policy=None, importance_type=None,\n",
       "              interaction_constraints=None, learning_rate=None, max_bin=None,\n",
       "              max_cat_threshold=None, max_cat_to_onehot=None,\n",
       "              max_delta_step=None, max_depth=None, max_leaves=None,\n",
       "              min_child_weight=None, missing=nan, monotone_constraints=None,\n",
       "              multi_strategy=None, n_estimators=None, n_jobs=None,\n",
       "              num_parallel_tree=None, random_state=None, ...)"
      ]
     },
     "execution_count": 176,
     "metadata": {},
     "output_type": "execute_result"
    }
   ],
   "source": [
    "xgb_model"
   ]
  },
  {
   "cell_type": "code",
   "execution_count": 177,
   "id": "b27ef0be",
   "metadata": {},
   "outputs": [
    {
     "data": {
      "text/plain": [
       "0.7272727272727273"
      ]
     },
     "execution_count": 177,
     "metadata": {},
     "output_type": "execute_result"
    }
   ],
   "source": [
    "y_pred = xgb_model.predict(X_test)\n",
    "accuracy_score(y_test, y_pred)"
   ]
  },
  {
   "cell_type": "markdown",
   "id": "18bfd94b",
   "metadata": {},
   "source": [
    "# XGBOOST MODEL TUNİNG"
   ]
  },
  {
   "cell_type": "code",
   "execution_count": 178,
   "id": "4b1fc3d8",
   "metadata": {},
   "outputs": [
    {
     "data": {
      "text/plain": [
       "XGBClassifier(base_score=None, booster=None, callbacks=None,\n",
       "              colsample_bylevel=None, colsample_bynode=None,\n",
       "              colsample_bytree=None, device=None, early_stopping_rounds=None,\n",
       "              enable_categorical=False, eval_metric=None, feature_types=None,\n",
       "              gamma=None, grow_policy=None, importance_type=None,\n",
       "              interaction_constraints=None, learning_rate=None, max_bin=None,\n",
       "              max_cat_threshold=None, max_cat_to_onehot=None,\n",
       "              max_delta_step=None, max_depth=None, max_leaves=None,\n",
       "              min_child_weight=None, missing=nan, monotone_constraints=None,\n",
       "              multi_strategy=None, n_estimators=None, n_jobs=None,\n",
       "              num_parallel_tree=None, random_state=None, ...)"
      ]
     },
     "execution_count": 178,
     "metadata": {},
     "output_type": "execute_result"
    }
   ],
   "source": [
    "xgb_model"
   ]
  },
  {
   "cell_type": "code",
   "execution_count": 179,
   "id": "a00fd6ce",
   "metadata": {},
   "outputs": [],
   "source": [
    "xgb_params = {\n",
    "        'n_estimators': [100, 500, 1000, 2000],\n",
    "        'subsample': [0.6, 0.8, 1.0],\n",
    "        'max_depth': [3, 4, 5,6],\n",
    "        'learning_rate': [0.1,0.01,0.02,0.05],\n",
    "        \"min_samples_split\": [2,5,10]}"
   ]
  },
  {
   "cell_type": "code",
   "execution_count": 180,
   "id": "1b03768f",
   "metadata": {},
   "outputs": [],
   "source": [
    "xgb = XGBClassifier()\n",
    "\n",
    "xgb_cv_model = GridSearchCV(xgb, xgb_params, cv = 10, n_jobs = -1, verbose = 2)"
   ]
  },
  {
   "cell_type": "code",
   "execution_count": 181,
   "id": "ac4d92a7",
   "metadata": {},
   "outputs": [
    {
     "name": "stdout",
     "output_type": "stream",
     "text": [
      "Fitting 10 folds for each of 576 candidates, totalling 5760 fits\n"
     ]
    },
    {
     "ename": "KeyboardInterrupt",
     "evalue": "",
     "output_type": "error",
     "traceback": [
      "\u001b[1;31m---------------------------------------------------------------------------\u001b[0m",
      "\u001b[1;31mKeyboardInterrupt\u001b[0m                         Traceback (most recent call last)",
      "Input \u001b[1;32mIn [181]\u001b[0m, in \u001b[0;36m<cell line: 1>\u001b[1;34m()\u001b[0m\n\u001b[1;32m----> 1\u001b[0m \u001b[43mxgb_cv_model\u001b[49m\u001b[38;5;241;43m.\u001b[39;49m\u001b[43mfit\u001b[49m\u001b[43m(\u001b[49m\u001b[43mX_train\u001b[49m\u001b[43m,\u001b[49m\u001b[43m \u001b[49m\u001b[43my_train\u001b[49m\u001b[43m)\u001b[49m\n",
      "File \u001b[1;32m~\\anaconda3\\lib\\site-packages\\sklearn\\model_selection\\_search.py:891\u001b[0m, in \u001b[0;36mBaseSearchCV.fit\u001b[1;34m(self, X, y, groups, **fit_params)\u001b[0m\n\u001b[0;32m    885\u001b[0m     results \u001b[38;5;241m=\u001b[39m \u001b[38;5;28mself\u001b[39m\u001b[38;5;241m.\u001b[39m_format_results(\n\u001b[0;32m    886\u001b[0m         all_candidate_params, n_splits, all_out, all_more_results\n\u001b[0;32m    887\u001b[0m     )\n\u001b[0;32m    889\u001b[0m     \u001b[38;5;28;01mreturn\u001b[39;00m results\n\u001b[1;32m--> 891\u001b[0m \u001b[38;5;28;43mself\u001b[39;49m\u001b[38;5;241;43m.\u001b[39;49m\u001b[43m_run_search\u001b[49m\u001b[43m(\u001b[49m\u001b[43mevaluate_candidates\u001b[49m\u001b[43m)\u001b[49m\n\u001b[0;32m    893\u001b[0m \u001b[38;5;66;03m# multimetric is determined here because in the case of a callable\u001b[39;00m\n\u001b[0;32m    894\u001b[0m \u001b[38;5;66;03m# self.scoring the return type is only known after calling\u001b[39;00m\n\u001b[0;32m    895\u001b[0m first_test_score \u001b[38;5;241m=\u001b[39m all_out[\u001b[38;5;241m0\u001b[39m][\u001b[38;5;124m\"\u001b[39m\u001b[38;5;124mtest_scores\u001b[39m\u001b[38;5;124m\"\u001b[39m]\n",
      "File \u001b[1;32m~\\anaconda3\\lib\\site-packages\\sklearn\\model_selection\\_search.py:1392\u001b[0m, in \u001b[0;36mGridSearchCV._run_search\u001b[1;34m(self, evaluate_candidates)\u001b[0m\n\u001b[0;32m   1390\u001b[0m \u001b[38;5;28;01mdef\u001b[39;00m \u001b[38;5;21m_run_search\u001b[39m(\u001b[38;5;28mself\u001b[39m, evaluate_candidates):\n\u001b[0;32m   1391\u001b[0m     \u001b[38;5;124;03m\"\"\"Search all candidates in param_grid\"\"\"\u001b[39;00m\n\u001b[1;32m-> 1392\u001b[0m     \u001b[43mevaluate_candidates\u001b[49m\u001b[43m(\u001b[49m\u001b[43mParameterGrid\u001b[49m\u001b[43m(\u001b[49m\u001b[38;5;28;43mself\u001b[39;49m\u001b[38;5;241;43m.\u001b[39;49m\u001b[43mparam_grid\u001b[49m\u001b[43m)\u001b[49m\u001b[43m)\u001b[49m\n",
      "File \u001b[1;32m~\\anaconda3\\lib\\site-packages\\sklearn\\model_selection\\_search.py:838\u001b[0m, in \u001b[0;36mBaseSearchCV.fit.<locals>.evaluate_candidates\u001b[1;34m(candidate_params, cv, more_results)\u001b[0m\n\u001b[0;32m    830\u001b[0m \u001b[38;5;28;01mif\u001b[39;00m \u001b[38;5;28mself\u001b[39m\u001b[38;5;241m.\u001b[39mverbose \u001b[38;5;241m>\u001b[39m \u001b[38;5;241m0\u001b[39m:\n\u001b[0;32m    831\u001b[0m     \u001b[38;5;28mprint\u001b[39m(\n\u001b[0;32m    832\u001b[0m         \u001b[38;5;124m\"\u001b[39m\u001b[38;5;124mFitting \u001b[39m\u001b[38;5;132;01m{0}\u001b[39;00m\u001b[38;5;124m folds for each of \u001b[39m\u001b[38;5;132;01m{1}\u001b[39;00m\u001b[38;5;124m candidates,\u001b[39m\u001b[38;5;124m\"\u001b[39m\n\u001b[0;32m    833\u001b[0m         \u001b[38;5;124m\"\u001b[39m\u001b[38;5;124m totalling \u001b[39m\u001b[38;5;132;01m{2}\u001b[39;00m\u001b[38;5;124m fits\u001b[39m\u001b[38;5;124m\"\u001b[39m\u001b[38;5;241m.\u001b[39mformat(\n\u001b[0;32m    834\u001b[0m             n_splits, n_candidates, n_candidates \u001b[38;5;241m*\u001b[39m n_splits\n\u001b[0;32m    835\u001b[0m         )\n\u001b[0;32m    836\u001b[0m     )\n\u001b[1;32m--> 838\u001b[0m out \u001b[38;5;241m=\u001b[39m \u001b[43mparallel\u001b[49m\u001b[43m(\u001b[49m\n\u001b[0;32m    839\u001b[0m \u001b[43m    \u001b[49m\u001b[43mdelayed\u001b[49m\u001b[43m(\u001b[49m\u001b[43m_fit_and_score\u001b[49m\u001b[43m)\u001b[49m\u001b[43m(\u001b[49m\n\u001b[0;32m    840\u001b[0m \u001b[43m        \u001b[49m\u001b[43mclone\u001b[49m\u001b[43m(\u001b[49m\u001b[43mbase_estimator\u001b[49m\u001b[43m)\u001b[49m\u001b[43m,\u001b[49m\n\u001b[0;32m    841\u001b[0m \u001b[43m        \u001b[49m\u001b[43mX\u001b[49m\u001b[43m,\u001b[49m\n\u001b[0;32m    842\u001b[0m \u001b[43m        \u001b[49m\u001b[43my\u001b[49m\u001b[43m,\u001b[49m\n\u001b[0;32m    843\u001b[0m \u001b[43m        \u001b[49m\u001b[43mtrain\u001b[49m\u001b[38;5;241;43m=\u001b[39;49m\u001b[43mtrain\u001b[49m\u001b[43m,\u001b[49m\n\u001b[0;32m    844\u001b[0m \u001b[43m        \u001b[49m\u001b[43mtest\u001b[49m\u001b[38;5;241;43m=\u001b[39;49m\u001b[43mtest\u001b[49m\u001b[43m,\u001b[49m\n\u001b[0;32m    845\u001b[0m \u001b[43m        \u001b[49m\u001b[43mparameters\u001b[49m\u001b[38;5;241;43m=\u001b[39;49m\u001b[43mparameters\u001b[49m\u001b[43m,\u001b[49m\n\u001b[0;32m    846\u001b[0m \u001b[43m        \u001b[49m\u001b[43msplit_progress\u001b[49m\u001b[38;5;241;43m=\u001b[39;49m\u001b[43m(\u001b[49m\u001b[43msplit_idx\u001b[49m\u001b[43m,\u001b[49m\u001b[43m \u001b[49m\u001b[43mn_splits\u001b[49m\u001b[43m)\u001b[49m\u001b[43m,\u001b[49m\n\u001b[0;32m    847\u001b[0m \u001b[43m        \u001b[49m\u001b[43mcandidate_progress\u001b[49m\u001b[38;5;241;43m=\u001b[39;49m\u001b[43m(\u001b[49m\u001b[43mcand_idx\u001b[49m\u001b[43m,\u001b[49m\u001b[43m \u001b[49m\u001b[43mn_candidates\u001b[49m\u001b[43m)\u001b[49m\u001b[43m,\u001b[49m\n\u001b[0;32m    848\u001b[0m \u001b[43m        \u001b[49m\u001b[38;5;241;43m*\u001b[39;49m\u001b[38;5;241;43m*\u001b[39;49m\u001b[43mfit_and_score_kwargs\u001b[49m\u001b[43m,\u001b[49m\n\u001b[0;32m    849\u001b[0m \u001b[43m    \u001b[49m\u001b[43m)\u001b[49m\n\u001b[0;32m    850\u001b[0m \u001b[43m    \u001b[49m\u001b[38;5;28;43;01mfor\u001b[39;49;00m\u001b[43m \u001b[49m\u001b[43m(\u001b[49m\u001b[43mcand_idx\u001b[49m\u001b[43m,\u001b[49m\u001b[43m \u001b[49m\u001b[43mparameters\u001b[49m\u001b[43m)\u001b[49m\u001b[43m,\u001b[49m\u001b[43m \u001b[49m\u001b[43m(\u001b[49m\u001b[43msplit_idx\u001b[49m\u001b[43m,\u001b[49m\u001b[43m \u001b[49m\u001b[43m(\u001b[49m\u001b[43mtrain\u001b[49m\u001b[43m,\u001b[49m\u001b[43m \u001b[49m\u001b[43mtest\u001b[49m\u001b[43m)\u001b[49m\u001b[43m)\u001b[49m\u001b[43m \u001b[49m\u001b[38;5;129;43;01min\u001b[39;49;00m\u001b[43m \u001b[49m\u001b[43mproduct\u001b[49m\u001b[43m(\u001b[49m\n\u001b[0;32m    851\u001b[0m \u001b[43m        \u001b[49m\u001b[38;5;28;43menumerate\u001b[39;49m\u001b[43m(\u001b[49m\u001b[43mcandidate_params\u001b[49m\u001b[43m)\u001b[49m\u001b[43m,\u001b[49m\u001b[43m \u001b[49m\u001b[38;5;28;43menumerate\u001b[39;49m\u001b[43m(\u001b[49m\u001b[43mcv\u001b[49m\u001b[38;5;241;43m.\u001b[39;49m\u001b[43msplit\u001b[49m\u001b[43m(\u001b[49m\u001b[43mX\u001b[49m\u001b[43m,\u001b[49m\u001b[43m \u001b[49m\u001b[43my\u001b[49m\u001b[43m,\u001b[49m\u001b[43m \u001b[49m\u001b[43mgroups\u001b[49m\u001b[43m)\u001b[49m\u001b[43m)\u001b[49m\n\u001b[0;32m    852\u001b[0m \u001b[43m    \u001b[49m\u001b[43m)\u001b[49m\n\u001b[0;32m    853\u001b[0m \u001b[43m\u001b[49m\u001b[43m)\u001b[49m\n\u001b[0;32m    855\u001b[0m \u001b[38;5;28;01mif\u001b[39;00m \u001b[38;5;28mlen\u001b[39m(out) \u001b[38;5;241m<\u001b[39m \u001b[38;5;241m1\u001b[39m:\n\u001b[0;32m    856\u001b[0m     \u001b[38;5;28;01mraise\u001b[39;00m \u001b[38;5;167;01mValueError\u001b[39;00m(\n\u001b[0;32m    857\u001b[0m         \u001b[38;5;124m\"\u001b[39m\u001b[38;5;124mNo fits were performed. \u001b[39m\u001b[38;5;124m\"\u001b[39m\n\u001b[0;32m    858\u001b[0m         \u001b[38;5;124m\"\u001b[39m\u001b[38;5;124mWas the CV iterator empty? \u001b[39m\u001b[38;5;124m\"\u001b[39m\n\u001b[0;32m    859\u001b[0m         \u001b[38;5;124m\"\u001b[39m\u001b[38;5;124mWere there no candidates?\u001b[39m\u001b[38;5;124m\"\u001b[39m\n\u001b[0;32m    860\u001b[0m     )\n",
      "File \u001b[1;32m~\\anaconda3\\lib\\site-packages\\joblib\\parallel.py:1056\u001b[0m, in \u001b[0;36mParallel.__call__\u001b[1;34m(self, iterable)\u001b[0m\n\u001b[0;32m   1053\u001b[0m     \u001b[38;5;28mself\u001b[39m\u001b[38;5;241m.\u001b[39m_iterating \u001b[38;5;241m=\u001b[39m \u001b[38;5;28;01mFalse\u001b[39;00m\n\u001b[0;32m   1055\u001b[0m \u001b[38;5;28;01mwith\u001b[39;00m \u001b[38;5;28mself\u001b[39m\u001b[38;5;241m.\u001b[39m_backend\u001b[38;5;241m.\u001b[39mretrieval_context():\n\u001b[1;32m-> 1056\u001b[0m     \u001b[38;5;28;43mself\u001b[39;49m\u001b[38;5;241;43m.\u001b[39;49m\u001b[43mretrieve\u001b[49m\u001b[43m(\u001b[49m\u001b[43m)\u001b[49m\n\u001b[0;32m   1057\u001b[0m \u001b[38;5;66;03m# Make sure that we get a last message telling us we are done\u001b[39;00m\n\u001b[0;32m   1058\u001b[0m elapsed_time \u001b[38;5;241m=\u001b[39m time\u001b[38;5;241m.\u001b[39mtime() \u001b[38;5;241m-\u001b[39m \u001b[38;5;28mself\u001b[39m\u001b[38;5;241m.\u001b[39m_start_time\n",
      "File \u001b[1;32m~\\anaconda3\\lib\\site-packages\\joblib\\parallel.py:935\u001b[0m, in \u001b[0;36mParallel.retrieve\u001b[1;34m(self)\u001b[0m\n\u001b[0;32m    933\u001b[0m \u001b[38;5;28;01mtry\u001b[39;00m:\n\u001b[0;32m    934\u001b[0m     \u001b[38;5;28;01mif\u001b[39;00m \u001b[38;5;28mgetattr\u001b[39m(\u001b[38;5;28mself\u001b[39m\u001b[38;5;241m.\u001b[39m_backend, \u001b[38;5;124m'\u001b[39m\u001b[38;5;124msupports_timeout\u001b[39m\u001b[38;5;124m'\u001b[39m, \u001b[38;5;28;01mFalse\u001b[39;00m):\n\u001b[1;32m--> 935\u001b[0m         \u001b[38;5;28mself\u001b[39m\u001b[38;5;241m.\u001b[39m_output\u001b[38;5;241m.\u001b[39mextend(\u001b[43mjob\u001b[49m\u001b[38;5;241;43m.\u001b[39;49m\u001b[43mget\u001b[49m\u001b[43m(\u001b[49m\u001b[43mtimeout\u001b[49m\u001b[38;5;241;43m=\u001b[39;49m\u001b[38;5;28;43mself\u001b[39;49m\u001b[38;5;241;43m.\u001b[39;49m\u001b[43mtimeout\u001b[49m\u001b[43m)\u001b[49m)\n\u001b[0;32m    936\u001b[0m     \u001b[38;5;28;01melse\u001b[39;00m:\n\u001b[0;32m    937\u001b[0m         \u001b[38;5;28mself\u001b[39m\u001b[38;5;241m.\u001b[39m_output\u001b[38;5;241m.\u001b[39mextend(job\u001b[38;5;241m.\u001b[39mget())\n",
      "File \u001b[1;32m~\\anaconda3\\lib\\site-packages\\joblib\\_parallel_backends.py:542\u001b[0m, in \u001b[0;36mLokyBackend.wrap_future_result\u001b[1;34m(future, timeout)\u001b[0m\n\u001b[0;32m    539\u001b[0m \u001b[38;5;124;03m\"\"\"Wrapper for Future.result to implement the same behaviour as\u001b[39;00m\n\u001b[0;32m    540\u001b[0m \u001b[38;5;124;03mAsyncResults.get from multiprocessing.\"\"\"\u001b[39;00m\n\u001b[0;32m    541\u001b[0m \u001b[38;5;28;01mtry\u001b[39;00m:\n\u001b[1;32m--> 542\u001b[0m     \u001b[38;5;28;01mreturn\u001b[39;00m \u001b[43mfuture\u001b[49m\u001b[38;5;241;43m.\u001b[39;49m\u001b[43mresult\u001b[49m\u001b[43m(\u001b[49m\u001b[43mtimeout\u001b[49m\u001b[38;5;241;43m=\u001b[39;49m\u001b[43mtimeout\u001b[49m\u001b[43m)\u001b[49m\n\u001b[0;32m    543\u001b[0m \u001b[38;5;28;01mexcept\u001b[39;00m CfTimeoutError \u001b[38;5;28;01mas\u001b[39;00m e:\n\u001b[0;32m    544\u001b[0m     \u001b[38;5;28;01mraise\u001b[39;00m \u001b[38;5;167;01mTimeoutError\u001b[39;00m \u001b[38;5;28;01mfrom\u001b[39;00m \u001b[38;5;21;01me\u001b[39;00m\n",
      "File \u001b[1;32m~\\anaconda3\\lib\\concurrent\\futures\\_base.py:441\u001b[0m, in \u001b[0;36mFuture.result\u001b[1;34m(self, timeout)\u001b[0m\n\u001b[0;32m    438\u001b[0m \u001b[38;5;28;01melif\u001b[39;00m \u001b[38;5;28mself\u001b[39m\u001b[38;5;241m.\u001b[39m_state \u001b[38;5;241m==\u001b[39m FINISHED:\n\u001b[0;32m    439\u001b[0m     \u001b[38;5;28;01mreturn\u001b[39;00m \u001b[38;5;28mself\u001b[39m\u001b[38;5;241m.\u001b[39m__get_result()\n\u001b[1;32m--> 441\u001b[0m \u001b[38;5;28;43mself\u001b[39;49m\u001b[38;5;241;43m.\u001b[39;49m\u001b[43m_condition\u001b[49m\u001b[38;5;241;43m.\u001b[39;49m\u001b[43mwait\u001b[49m\u001b[43m(\u001b[49m\u001b[43mtimeout\u001b[49m\u001b[43m)\u001b[49m\n\u001b[0;32m    443\u001b[0m \u001b[38;5;28;01mif\u001b[39;00m \u001b[38;5;28mself\u001b[39m\u001b[38;5;241m.\u001b[39m_state \u001b[38;5;129;01min\u001b[39;00m [CANCELLED, CANCELLED_AND_NOTIFIED]:\n\u001b[0;32m    444\u001b[0m     \u001b[38;5;28;01mraise\u001b[39;00m CancelledError()\n",
      "File \u001b[1;32m~\\anaconda3\\lib\\threading.py:312\u001b[0m, in \u001b[0;36mCondition.wait\u001b[1;34m(self, timeout)\u001b[0m\n\u001b[0;32m    310\u001b[0m \u001b[38;5;28;01mtry\u001b[39;00m:    \u001b[38;5;66;03m# restore state no matter what (e.g., KeyboardInterrupt)\u001b[39;00m\n\u001b[0;32m    311\u001b[0m     \u001b[38;5;28;01mif\u001b[39;00m timeout \u001b[38;5;129;01mis\u001b[39;00m \u001b[38;5;28;01mNone\u001b[39;00m:\n\u001b[1;32m--> 312\u001b[0m         \u001b[43mwaiter\u001b[49m\u001b[38;5;241;43m.\u001b[39;49m\u001b[43macquire\u001b[49m\u001b[43m(\u001b[49m\u001b[43m)\u001b[49m\n\u001b[0;32m    313\u001b[0m         gotit \u001b[38;5;241m=\u001b[39m \u001b[38;5;28;01mTrue\u001b[39;00m\n\u001b[0;32m    314\u001b[0m     \u001b[38;5;28;01melse\u001b[39;00m:\n",
      "\u001b[1;31mKeyboardInterrupt\u001b[0m: "
     ]
    }
   ],
   "source": [
    "xgb_cv_model.fit(X_train, y_train)\n",
    "#ÇOK SÜRDÜĞÜ İÇİN YAPMADIM."
   ]
  },
  {
   "cell_type": "code",
   "execution_count": 215,
   "id": "29c230df",
   "metadata": {},
   "outputs": [
    {
     "ename": "AttributeError",
     "evalue": "'GridSearchCV' object has no attribute 'best_params_'",
     "output_type": "error",
     "traceback": [
      "\u001b[1;31m---------------------------------------------------------------------------\u001b[0m",
      "\u001b[1;31mAttributeError\u001b[0m                            Traceback (most recent call last)",
      "Input \u001b[1;32mIn [215]\u001b[0m, in \u001b[0;36m<cell line: 1>\u001b[1;34m()\u001b[0m\n\u001b[1;32m----> 1\u001b[0m \u001b[43mxgb_cv_model\u001b[49m\u001b[38;5;241;43m.\u001b[39;49m\u001b[43mbest_params_\u001b[49m\n",
      "\u001b[1;31mAttributeError\u001b[0m: 'GridSearchCV' object has no attribute 'best_params_'"
     ]
    }
   ],
   "source": [
    "xgb_cv_model.best_params_"
   ]
  },
  {
   "cell_type": "code",
   "execution_count": 216,
   "id": "9a48ebec",
   "metadata": {},
   "outputs": [],
   "source": [
    "xgb = XGBClassifier(learning_rate = 0.01, \n",
    "                    max_depth = 6,\n",
    "                    min_samples_split = 2,\n",
    "                    n_estimators = 100,\n",
    "                    subsample = 0.8)"
   ]
  },
  {
   "cell_type": "code",
   "execution_count": 217,
   "id": "75584d37",
   "metadata": {},
   "outputs": [],
   "source": [
    "xgb_tuned =  xgb.fit(X_train,y_train)"
   ]
  },
  {
   "cell_type": "code",
   "execution_count": 218,
   "id": "58854a39",
   "metadata": {},
   "outputs": [
    {
     "data": {
      "text/plain": [
       "0.7532467532467533"
      ]
     },
     "execution_count": 218,
     "metadata": {},
     "output_type": "execute_result"
    }
   ],
   "source": [
    "y_pred = xgb_tuned.predict(X_test)\n",
    "accuracy_score(y_test, y_pred)"
   ]
  },
  {
   "cell_type": "code",
   "execution_count": null,
   "id": "21eb8d89",
   "metadata": {},
   "outputs": [],
   "source": []
  },
  {
   "cell_type": "code",
   "execution_count": null,
   "id": "5b2a3527",
   "metadata": {},
   "outputs": [],
   "source": []
  },
  {
   "cell_type": "code",
   "execution_count": null,
   "id": "af2c8e81",
   "metadata": {},
   "outputs": [],
   "source": []
  },
  {
   "cell_type": "code",
   "execution_count": null,
   "id": "1db8be48",
   "metadata": {},
   "outputs": [],
   "source": []
  },
  {
   "cell_type": "markdown",
   "id": "f9798d72",
   "metadata": {},
   "source": [
    "# LİGHTGBM MODEL & TAHMİN"
   ]
  },
  {
   "cell_type": "code",
   "execution_count": 219,
   "id": "0f0920b7",
   "metadata": {},
   "outputs": [],
   "source": [
    "df = diabetes.copy()\n",
    "df = df.dropna()\n",
    "y = df[\"Outcome\"]\n",
    "X = df.drop(['Outcome'], axis=1)\n",
    "#X = df[\"Pregnancies\"]\n",
    "X = pd.DataFrame(X)\n",
    "X_train, X_test, y_train, y_test = train_test_split(X, y, \n",
    "                                                    test_size=0.30, \n",
    "                                                    random_state=42)"
   ]
  },
  {
   "cell_type": "code",
   "execution_count": 220,
   "id": "325f9772",
   "metadata": {},
   "outputs": [],
   "source": [
    "#!conda install -c conda-forge lightgbm\n",
    "from lightgbm import LGBMClassifier"
   ]
  },
  {
   "cell_type": "code",
   "execution_count": 221,
   "id": "32448f85",
   "metadata": {},
   "outputs": [
    {
     "name": "stdout",
     "output_type": "stream",
     "text": [
      "[LightGBM] [Info] Number of positive: 188, number of negative: 349\n",
      "[LightGBM] [Info] Auto-choosing row-wise multi-threading, the overhead of testing was 0.001368 seconds.\n",
      "You can set `force_row_wise=true` to remove the overhead.\n",
      "And if memory is not enough, you can set `force_col_wise=true`.\n",
      "[LightGBM] [Info] Total Bins 606\n",
      "[LightGBM] [Info] Number of data points in the train set: 537, number of used features: 8\n",
      "[LightGBM] [Info] [binary:BoostFromScore]: pavg=0.350093 -> initscore=-0.618630\n",
      "[LightGBM] [Info] Start training from score -0.618630\n",
      "[LightGBM] [Warning] No further splits with positive gain, best gain: -inf\n",
      "[LightGBM] [Warning] No further splits with positive gain, best gain: -inf\n",
      "[LightGBM] [Warning] No further splits with positive gain, best gain: -inf\n",
      "[LightGBM] [Warning] No further splits with positive gain, best gain: -inf\n",
      "[LightGBM] [Warning] No further splits with positive gain, best gain: -inf\n",
      "[LightGBM] [Warning] No further splits with positive gain, best gain: -inf\n",
      "[LightGBM] [Warning] No further splits with positive gain, best gain: -inf\n",
      "[LightGBM] [Warning] No further splits with positive gain, best gain: -inf\n",
      "[LightGBM] [Warning] No further splits with positive gain, best gain: -inf\n",
      "[LightGBM] [Warning] No further splits with positive gain, best gain: -inf\n",
      "[LightGBM] [Warning] No further splits with positive gain, best gain: -inf\n",
      "[LightGBM] [Warning] No further splits with positive gain, best gain: -inf\n",
      "[LightGBM] [Warning] No further splits with positive gain, best gain: -inf\n",
      "[LightGBM] [Warning] No further splits with positive gain, best gain: -inf\n",
      "[LightGBM] [Warning] No further splits with positive gain, best gain: -inf\n",
      "[LightGBM] [Warning] No further splits with positive gain, best gain: -inf\n",
      "[LightGBM] [Warning] No further splits with positive gain, best gain: -inf\n",
      "[LightGBM] [Warning] No further splits with positive gain, best gain: -inf\n",
      "[LightGBM] [Warning] No further splits with positive gain, best gain: -inf\n",
      "[LightGBM] [Warning] No further splits with positive gain, best gain: -inf\n",
      "[LightGBM] [Warning] No further splits with positive gain, best gain: -inf\n",
      "[LightGBM] [Warning] No further splits with positive gain, best gain: -inf\n",
      "[LightGBM] [Warning] No further splits with positive gain, best gain: -inf\n",
      "[LightGBM] [Warning] No further splits with positive gain, best gain: -inf\n",
      "[LightGBM] [Warning] No further splits with positive gain, best gain: -inf\n",
      "[LightGBM] [Warning] No further splits with positive gain, best gain: -inf\n",
      "[LightGBM] [Warning] No further splits with positive gain, best gain: -inf\n",
      "[LightGBM] [Warning] No further splits with positive gain, best gain: -inf\n",
      "[LightGBM] [Warning] No further splits with positive gain, best gain: -inf\n",
      "[LightGBM] [Warning] No further splits with positive gain, best gain: -inf\n",
      "[LightGBM] [Warning] No further splits with positive gain, best gain: -inf\n",
      "[LightGBM] [Warning] No further splits with positive gain, best gain: -inf\n",
      "[LightGBM] [Warning] No further splits with positive gain, best gain: -inf\n",
      "[LightGBM] [Warning] No further splits with positive gain, best gain: -inf\n",
      "[LightGBM] [Warning] No further splits with positive gain, best gain: -inf\n",
      "[LightGBM] [Warning] No further splits with positive gain, best gain: -inf\n",
      "[LightGBM] [Warning] No further splits with positive gain, best gain: -inf\n",
      "[LightGBM] [Warning] No further splits with positive gain, best gain: -inf\n",
      "[LightGBM] [Warning] No further splits with positive gain, best gain: -inf\n",
      "[LightGBM] [Warning] No further splits with positive gain, best gain: -inf\n",
      "[LightGBM] [Warning] No further splits with positive gain, best gain: -inf\n",
      "[LightGBM] [Warning] No further splits with positive gain, best gain: -inf\n",
      "[LightGBM] [Warning] No further splits with positive gain, best gain: -inf\n",
      "[LightGBM] [Warning] No further splits with positive gain, best gain: -inf\n",
      "[LightGBM] [Warning] No further splits with positive gain, best gain: -inf\n",
      "[LightGBM] [Warning] No further splits with positive gain, best gain: -inf\n",
      "[LightGBM] [Warning] No further splits with positive gain, best gain: -inf\n",
      "[LightGBM] [Warning] No further splits with positive gain, best gain: -inf\n",
      "[LightGBM] [Warning] No further splits with positive gain, best gain: -inf\n",
      "[LightGBM] [Warning] No further splits with positive gain, best gain: -inf\n",
      "[LightGBM] [Warning] No further splits with positive gain, best gain: -inf\n",
      "[LightGBM] [Warning] No further splits with positive gain, best gain: -inf\n",
      "[LightGBM] [Warning] No further splits with positive gain, best gain: -inf\n",
      "[LightGBM] [Warning] No further splits with positive gain, best gain: -inf\n",
      "[LightGBM] [Warning] No further splits with positive gain, best gain: -inf\n",
      "[LightGBM] [Warning] No further splits with positive gain, best gain: -inf\n",
      "[LightGBM] [Warning] No further splits with positive gain, best gain: -inf\n",
      "[LightGBM] [Warning] No further splits with positive gain, best gain: -inf\n",
      "[LightGBM] [Warning] No further splits with positive gain, best gain: -inf\n",
      "[LightGBM] [Warning] No further splits with positive gain, best gain: -inf\n",
      "[LightGBM] [Warning] No further splits with positive gain, best gain: -inf\n",
      "[LightGBM] [Warning] No further splits with positive gain, best gain: -inf\n",
      "[LightGBM] [Warning] No further splits with positive gain, best gain: -inf\n",
      "[LightGBM] [Warning] No further splits with positive gain, best gain: -inf\n",
      "[LightGBM] [Warning] No further splits with positive gain, best gain: -inf\n",
      "[LightGBM] [Warning] No further splits with positive gain, best gain: -inf\n",
      "[LightGBM] [Warning] No further splits with positive gain, best gain: -inf\n",
      "[LightGBM] [Warning] No further splits with positive gain, best gain: -inf\n",
      "[LightGBM] [Warning] No further splits with positive gain, best gain: -inf\n",
      "[LightGBM] [Warning] No further splits with positive gain, best gain: -inf\n",
      "[LightGBM] [Warning] No further splits with positive gain, best gain: -inf\n",
      "[LightGBM] [Warning] No further splits with positive gain, best gain: -inf\n",
      "[LightGBM] [Warning] No further splits with positive gain, best gain: -inf\n",
      "[LightGBM] [Warning] No further splits with positive gain, best gain: -inf\n",
      "[LightGBM] [Warning] No further splits with positive gain, best gain: -inf\n",
      "[LightGBM] [Warning] No further splits with positive gain, best gain: -inf\n",
      "[LightGBM] [Warning] No further splits with positive gain, best gain: -inf\n",
      "[LightGBM] [Warning] No further splits with positive gain, best gain: -inf\n",
      "[LightGBM] [Warning] No further splits with positive gain, best gain: -inf\n",
      "[LightGBM] [Warning] No further splits with positive gain, best gain: -inf\n",
      "[LightGBM] [Warning] No further splits with positive gain, best gain: -inf\n",
      "[LightGBM] [Warning] No further splits with positive gain, best gain: -inf\n",
      "[LightGBM] [Warning] No further splits with positive gain, best gain: -inf\n",
      "[LightGBM] [Warning] No further splits with positive gain, best gain: -inf\n",
      "[LightGBM] [Warning] No further splits with positive gain, best gain: -inf\n",
      "[LightGBM] [Warning] No further splits with positive gain, best gain: -inf\n",
      "[LightGBM] [Warning] No further splits with positive gain, best gain: -inf\n",
      "[LightGBM] [Warning] No further splits with positive gain, best gain: -inf\n",
      "[LightGBM] [Warning] No further splits with positive gain, best gain: -inf\n",
      "[LightGBM] [Warning] No further splits with positive gain, best gain: -inf\n",
      "[LightGBM] [Warning] No further splits with positive gain, best gain: -inf\n",
      "[LightGBM] [Warning] No further splits with positive gain, best gain: -inf\n",
      "[LightGBM] [Warning] No further splits with positive gain, best gain: -inf\n",
      "[LightGBM] [Warning] No further splits with positive gain, best gain: -inf\n",
      "[LightGBM] [Warning] No further splits with positive gain, best gain: -inf\n",
      "[LightGBM] [Warning] No further splits with positive gain, best gain: -inf\n",
      "[LightGBM] [Warning] No further splits with positive gain, best gain: -inf\n",
      "[LightGBM] [Warning] No further splits with positive gain, best gain: -inf\n",
      "[LightGBM] [Warning] No further splits with positive gain, best gain: -inf\n",
      "[LightGBM] [Warning] No further splits with positive gain, best gain: -inf\n"
     ]
    }
   ],
   "source": [
    "lgbm_model = LGBMClassifier().fit(X_train, y_train)"
   ]
  },
  {
   "cell_type": "code",
   "execution_count": 222,
   "id": "e55d37e2",
   "metadata": {},
   "outputs": [
    {
     "data": {
      "text/plain": [
       "0.7229437229437229"
      ]
     },
     "execution_count": 222,
     "metadata": {},
     "output_type": "execute_result"
    }
   ],
   "source": [
    "y_pred = lgbm_model.predict(X_test)\n",
    "accuracy_score(y_test, y_pred)"
   ]
  },
  {
   "cell_type": "markdown",
   "id": "e264bdf1",
   "metadata": {},
   "source": [
    "# LİGHTGBM MODEL TUNİNG"
   ]
  },
  {
   "cell_type": "code",
   "execution_count": 223,
   "id": "044d4590",
   "metadata": {},
   "outputs": [
    {
     "data": {
      "text/plain": [
       "LGBMClassifier()"
      ]
     },
     "execution_count": 223,
     "metadata": {},
     "output_type": "execute_result"
    }
   ],
   "source": [
    "lgbm_model"
   ]
  },
  {
   "cell_type": "code",
   "execution_count": null,
   "id": "1f242b61",
   "metadata": {},
   "outputs": [],
   "source": [
    "?lgbm_model"
   ]
  },
  {
   "cell_type": "code",
   "execution_count": 224,
   "id": "0d27bace",
   "metadata": {},
   "outputs": [],
   "source": [
    "lgbm_params = {\n",
    "        'n_estimators': [100, 500, 1000, 2000],\n",
    "        'subsample': [0.6, 0.8, 1.0],\n",
    "        'max_depth': [3, 4, 5,6],\n",
    "        'learning_rate': [0.1,0.01,0.02,0.05],\n",
    "        \"min_child_samples\": [5,10,20]}"
   ]
  },
  {
   "cell_type": "code",
   "execution_count": 225,
   "id": "9e2a6322",
   "metadata": {},
   "outputs": [],
   "source": [
    "lgbm = LGBMClassifier()\n",
    "\n",
    "lgbm_cv_model = GridSearchCV(lgbm, lgbm_params, \n",
    "                             cv = 10, \n",
    "                             n_jobs = -1, \n",
    "                             verbose = 2)\n",
    "\n"
   ]
  },
  {
   "cell_type": "code",
   "execution_count": 226,
   "id": "e631d810",
   "metadata": {},
   "outputs": [
    {
     "name": "stdout",
     "output_type": "stream",
     "text": [
      "Fitting 10 folds for each of 576 candidates, totalling 5760 fits\n"
     ]
    },
    {
     "ename": "KeyboardInterrupt",
     "evalue": "",
     "output_type": "error",
     "traceback": [
      "\u001b[1;31m---------------------------------------------------------------------------\u001b[0m",
      "\u001b[1;31mKeyboardInterrupt\u001b[0m                         Traceback (most recent call last)",
      "Input \u001b[1;32mIn [226]\u001b[0m, in \u001b[0;36m<cell line: 1>\u001b[1;34m()\u001b[0m\n\u001b[1;32m----> 1\u001b[0m \u001b[43mlgbm_cv_model\u001b[49m\u001b[38;5;241;43m.\u001b[39;49m\u001b[43mfit\u001b[49m\u001b[43m(\u001b[49m\u001b[43mX_train\u001b[49m\u001b[43m,\u001b[49m\u001b[43m \u001b[49m\u001b[43my_train\u001b[49m\u001b[43m)\u001b[49m\n",
      "File \u001b[1;32m~\\anaconda3\\lib\\site-packages\\sklearn\\model_selection\\_search.py:891\u001b[0m, in \u001b[0;36mBaseSearchCV.fit\u001b[1;34m(self, X, y, groups, **fit_params)\u001b[0m\n\u001b[0;32m    885\u001b[0m     results \u001b[38;5;241m=\u001b[39m \u001b[38;5;28mself\u001b[39m\u001b[38;5;241m.\u001b[39m_format_results(\n\u001b[0;32m    886\u001b[0m         all_candidate_params, n_splits, all_out, all_more_results\n\u001b[0;32m    887\u001b[0m     )\n\u001b[0;32m    889\u001b[0m     \u001b[38;5;28;01mreturn\u001b[39;00m results\n\u001b[1;32m--> 891\u001b[0m \u001b[38;5;28;43mself\u001b[39;49m\u001b[38;5;241;43m.\u001b[39;49m\u001b[43m_run_search\u001b[49m\u001b[43m(\u001b[49m\u001b[43mevaluate_candidates\u001b[49m\u001b[43m)\u001b[49m\n\u001b[0;32m    893\u001b[0m \u001b[38;5;66;03m# multimetric is determined here because in the case of a callable\u001b[39;00m\n\u001b[0;32m    894\u001b[0m \u001b[38;5;66;03m# self.scoring the return type is only known after calling\u001b[39;00m\n\u001b[0;32m    895\u001b[0m first_test_score \u001b[38;5;241m=\u001b[39m all_out[\u001b[38;5;241m0\u001b[39m][\u001b[38;5;124m\"\u001b[39m\u001b[38;5;124mtest_scores\u001b[39m\u001b[38;5;124m\"\u001b[39m]\n",
      "File \u001b[1;32m~\\anaconda3\\lib\\site-packages\\sklearn\\model_selection\\_search.py:1392\u001b[0m, in \u001b[0;36mGridSearchCV._run_search\u001b[1;34m(self, evaluate_candidates)\u001b[0m\n\u001b[0;32m   1390\u001b[0m \u001b[38;5;28;01mdef\u001b[39;00m \u001b[38;5;21m_run_search\u001b[39m(\u001b[38;5;28mself\u001b[39m, evaluate_candidates):\n\u001b[0;32m   1391\u001b[0m     \u001b[38;5;124;03m\"\"\"Search all candidates in param_grid\"\"\"\u001b[39;00m\n\u001b[1;32m-> 1392\u001b[0m     \u001b[43mevaluate_candidates\u001b[49m\u001b[43m(\u001b[49m\u001b[43mParameterGrid\u001b[49m\u001b[43m(\u001b[49m\u001b[38;5;28;43mself\u001b[39;49m\u001b[38;5;241;43m.\u001b[39;49m\u001b[43mparam_grid\u001b[49m\u001b[43m)\u001b[49m\u001b[43m)\u001b[49m\n",
      "File \u001b[1;32m~\\anaconda3\\lib\\site-packages\\sklearn\\model_selection\\_search.py:838\u001b[0m, in \u001b[0;36mBaseSearchCV.fit.<locals>.evaluate_candidates\u001b[1;34m(candidate_params, cv, more_results)\u001b[0m\n\u001b[0;32m    830\u001b[0m \u001b[38;5;28;01mif\u001b[39;00m \u001b[38;5;28mself\u001b[39m\u001b[38;5;241m.\u001b[39mverbose \u001b[38;5;241m>\u001b[39m \u001b[38;5;241m0\u001b[39m:\n\u001b[0;32m    831\u001b[0m     \u001b[38;5;28mprint\u001b[39m(\n\u001b[0;32m    832\u001b[0m         \u001b[38;5;124m\"\u001b[39m\u001b[38;5;124mFitting \u001b[39m\u001b[38;5;132;01m{0}\u001b[39;00m\u001b[38;5;124m folds for each of \u001b[39m\u001b[38;5;132;01m{1}\u001b[39;00m\u001b[38;5;124m candidates,\u001b[39m\u001b[38;5;124m\"\u001b[39m\n\u001b[0;32m    833\u001b[0m         \u001b[38;5;124m\"\u001b[39m\u001b[38;5;124m totalling \u001b[39m\u001b[38;5;132;01m{2}\u001b[39;00m\u001b[38;5;124m fits\u001b[39m\u001b[38;5;124m\"\u001b[39m\u001b[38;5;241m.\u001b[39mformat(\n\u001b[0;32m    834\u001b[0m             n_splits, n_candidates, n_candidates \u001b[38;5;241m*\u001b[39m n_splits\n\u001b[0;32m    835\u001b[0m         )\n\u001b[0;32m    836\u001b[0m     )\n\u001b[1;32m--> 838\u001b[0m out \u001b[38;5;241m=\u001b[39m \u001b[43mparallel\u001b[49m\u001b[43m(\u001b[49m\n\u001b[0;32m    839\u001b[0m \u001b[43m    \u001b[49m\u001b[43mdelayed\u001b[49m\u001b[43m(\u001b[49m\u001b[43m_fit_and_score\u001b[49m\u001b[43m)\u001b[49m\u001b[43m(\u001b[49m\n\u001b[0;32m    840\u001b[0m \u001b[43m        \u001b[49m\u001b[43mclone\u001b[49m\u001b[43m(\u001b[49m\u001b[43mbase_estimator\u001b[49m\u001b[43m)\u001b[49m\u001b[43m,\u001b[49m\n\u001b[0;32m    841\u001b[0m \u001b[43m        \u001b[49m\u001b[43mX\u001b[49m\u001b[43m,\u001b[49m\n\u001b[0;32m    842\u001b[0m \u001b[43m        \u001b[49m\u001b[43my\u001b[49m\u001b[43m,\u001b[49m\n\u001b[0;32m    843\u001b[0m \u001b[43m        \u001b[49m\u001b[43mtrain\u001b[49m\u001b[38;5;241;43m=\u001b[39;49m\u001b[43mtrain\u001b[49m\u001b[43m,\u001b[49m\n\u001b[0;32m    844\u001b[0m \u001b[43m        \u001b[49m\u001b[43mtest\u001b[49m\u001b[38;5;241;43m=\u001b[39;49m\u001b[43mtest\u001b[49m\u001b[43m,\u001b[49m\n\u001b[0;32m    845\u001b[0m \u001b[43m        \u001b[49m\u001b[43mparameters\u001b[49m\u001b[38;5;241;43m=\u001b[39;49m\u001b[43mparameters\u001b[49m\u001b[43m,\u001b[49m\n\u001b[0;32m    846\u001b[0m \u001b[43m        \u001b[49m\u001b[43msplit_progress\u001b[49m\u001b[38;5;241;43m=\u001b[39;49m\u001b[43m(\u001b[49m\u001b[43msplit_idx\u001b[49m\u001b[43m,\u001b[49m\u001b[43m \u001b[49m\u001b[43mn_splits\u001b[49m\u001b[43m)\u001b[49m\u001b[43m,\u001b[49m\n\u001b[0;32m    847\u001b[0m \u001b[43m        \u001b[49m\u001b[43mcandidate_progress\u001b[49m\u001b[38;5;241;43m=\u001b[39;49m\u001b[43m(\u001b[49m\u001b[43mcand_idx\u001b[49m\u001b[43m,\u001b[49m\u001b[43m \u001b[49m\u001b[43mn_candidates\u001b[49m\u001b[43m)\u001b[49m\u001b[43m,\u001b[49m\n\u001b[0;32m    848\u001b[0m \u001b[43m        \u001b[49m\u001b[38;5;241;43m*\u001b[39;49m\u001b[38;5;241;43m*\u001b[39;49m\u001b[43mfit_and_score_kwargs\u001b[49m\u001b[43m,\u001b[49m\n\u001b[0;32m    849\u001b[0m \u001b[43m    \u001b[49m\u001b[43m)\u001b[49m\n\u001b[0;32m    850\u001b[0m \u001b[43m    \u001b[49m\u001b[38;5;28;43;01mfor\u001b[39;49;00m\u001b[43m \u001b[49m\u001b[43m(\u001b[49m\u001b[43mcand_idx\u001b[49m\u001b[43m,\u001b[49m\u001b[43m \u001b[49m\u001b[43mparameters\u001b[49m\u001b[43m)\u001b[49m\u001b[43m,\u001b[49m\u001b[43m \u001b[49m\u001b[43m(\u001b[49m\u001b[43msplit_idx\u001b[49m\u001b[43m,\u001b[49m\u001b[43m \u001b[49m\u001b[43m(\u001b[49m\u001b[43mtrain\u001b[49m\u001b[43m,\u001b[49m\u001b[43m \u001b[49m\u001b[43mtest\u001b[49m\u001b[43m)\u001b[49m\u001b[43m)\u001b[49m\u001b[43m \u001b[49m\u001b[38;5;129;43;01min\u001b[39;49;00m\u001b[43m \u001b[49m\u001b[43mproduct\u001b[49m\u001b[43m(\u001b[49m\n\u001b[0;32m    851\u001b[0m \u001b[43m        \u001b[49m\u001b[38;5;28;43menumerate\u001b[39;49m\u001b[43m(\u001b[49m\u001b[43mcandidate_params\u001b[49m\u001b[43m)\u001b[49m\u001b[43m,\u001b[49m\u001b[43m \u001b[49m\u001b[38;5;28;43menumerate\u001b[39;49m\u001b[43m(\u001b[49m\u001b[43mcv\u001b[49m\u001b[38;5;241;43m.\u001b[39;49m\u001b[43msplit\u001b[49m\u001b[43m(\u001b[49m\u001b[43mX\u001b[49m\u001b[43m,\u001b[49m\u001b[43m \u001b[49m\u001b[43my\u001b[49m\u001b[43m,\u001b[49m\u001b[43m \u001b[49m\u001b[43mgroups\u001b[49m\u001b[43m)\u001b[49m\u001b[43m)\u001b[49m\n\u001b[0;32m    852\u001b[0m \u001b[43m    \u001b[49m\u001b[43m)\u001b[49m\n\u001b[0;32m    853\u001b[0m \u001b[43m\u001b[49m\u001b[43m)\u001b[49m\n\u001b[0;32m    855\u001b[0m \u001b[38;5;28;01mif\u001b[39;00m \u001b[38;5;28mlen\u001b[39m(out) \u001b[38;5;241m<\u001b[39m \u001b[38;5;241m1\u001b[39m:\n\u001b[0;32m    856\u001b[0m     \u001b[38;5;28;01mraise\u001b[39;00m \u001b[38;5;167;01mValueError\u001b[39;00m(\n\u001b[0;32m    857\u001b[0m         \u001b[38;5;124m\"\u001b[39m\u001b[38;5;124mNo fits were performed. \u001b[39m\u001b[38;5;124m\"\u001b[39m\n\u001b[0;32m    858\u001b[0m         \u001b[38;5;124m\"\u001b[39m\u001b[38;5;124mWas the CV iterator empty? \u001b[39m\u001b[38;5;124m\"\u001b[39m\n\u001b[0;32m    859\u001b[0m         \u001b[38;5;124m\"\u001b[39m\u001b[38;5;124mWere there no candidates?\u001b[39m\u001b[38;5;124m\"\u001b[39m\n\u001b[0;32m    860\u001b[0m     )\n",
      "File \u001b[1;32m~\\anaconda3\\lib\\site-packages\\joblib\\parallel.py:1056\u001b[0m, in \u001b[0;36mParallel.__call__\u001b[1;34m(self, iterable)\u001b[0m\n\u001b[0;32m   1053\u001b[0m     \u001b[38;5;28mself\u001b[39m\u001b[38;5;241m.\u001b[39m_iterating \u001b[38;5;241m=\u001b[39m \u001b[38;5;28;01mFalse\u001b[39;00m\n\u001b[0;32m   1055\u001b[0m \u001b[38;5;28;01mwith\u001b[39;00m \u001b[38;5;28mself\u001b[39m\u001b[38;5;241m.\u001b[39m_backend\u001b[38;5;241m.\u001b[39mretrieval_context():\n\u001b[1;32m-> 1056\u001b[0m     \u001b[38;5;28;43mself\u001b[39;49m\u001b[38;5;241;43m.\u001b[39;49m\u001b[43mretrieve\u001b[49m\u001b[43m(\u001b[49m\u001b[43m)\u001b[49m\n\u001b[0;32m   1057\u001b[0m \u001b[38;5;66;03m# Make sure that we get a last message telling us we are done\u001b[39;00m\n\u001b[0;32m   1058\u001b[0m elapsed_time \u001b[38;5;241m=\u001b[39m time\u001b[38;5;241m.\u001b[39mtime() \u001b[38;5;241m-\u001b[39m \u001b[38;5;28mself\u001b[39m\u001b[38;5;241m.\u001b[39m_start_time\n",
      "File \u001b[1;32m~\\anaconda3\\lib\\site-packages\\joblib\\parallel.py:935\u001b[0m, in \u001b[0;36mParallel.retrieve\u001b[1;34m(self)\u001b[0m\n\u001b[0;32m    933\u001b[0m \u001b[38;5;28;01mtry\u001b[39;00m:\n\u001b[0;32m    934\u001b[0m     \u001b[38;5;28;01mif\u001b[39;00m \u001b[38;5;28mgetattr\u001b[39m(\u001b[38;5;28mself\u001b[39m\u001b[38;5;241m.\u001b[39m_backend, \u001b[38;5;124m'\u001b[39m\u001b[38;5;124msupports_timeout\u001b[39m\u001b[38;5;124m'\u001b[39m, \u001b[38;5;28;01mFalse\u001b[39;00m):\n\u001b[1;32m--> 935\u001b[0m         \u001b[38;5;28mself\u001b[39m\u001b[38;5;241m.\u001b[39m_output\u001b[38;5;241m.\u001b[39mextend(\u001b[43mjob\u001b[49m\u001b[38;5;241;43m.\u001b[39;49m\u001b[43mget\u001b[49m\u001b[43m(\u001b[49m\u001b[43mtimeout\u001b[49m\u001b[38;5;241;43m=\u001b[39;49m\u001b[38;5;28;43mself\u001b[39;49m\u001b[38;5;241;43m.\u001b[39;49m\u001b[43mtimeout\u001b[49m\u001b[43m)\u001b[49m)\n\u001b[0;32m    936\u001b[0m     \u001b[38;5;28;01melse\u001b[39;00m:\n\u001b[0;32m    937\u001b[0m         \u001b[38;5;28mself\u001b[39m\u001b[38;5;241m.\u001b[39m_output\u001b[38;5;241m.\u001b[39mextend(job\u001b[38;5;241m.\u001b[39mget())\n",
      "File \u001b[1;32m~\\anaconda3\\lib\\site-packages\\joblib\\_parallel_backends.py:542\u001b[0m, in \u001b[0;36mLokyBackend.wrap_future_result\u001b[1;34m(future, timeout)\u001b[0m\n\u001b[0;32m    539\u001b[0m \u001b[38;5;124;03m\"\"\"Wrapper for Future.result to implement the same behaviour as\u001b[39;00m\n\u001b[0;32m    540\u001b[0m \u001b[38;5;124;03mAsyncResults.get from multiprocessing.\"\"\"\u001b[39;00m\n\u001b[0;32m    541\u001b[0m \u001b[38;5;28;01mtry\u001b[39;00m:\n\u001b[1;32m--> 542\u001b[0m     \u001b[38;5;28;01mreturn\u001b[39;00m \u001b[43mfuture\u001b[49m\u001b[38;5;241;43m.\u001b[39;49m\u001b[43mresult\u001b[49m\u001b[43m(\u001b[49m\u001b[43mtimeout\u001b[49m\u001b[38;5;241;43m=\u001b[39;49m\u001b[43mtimeout\u001b[49m\u001b[43m)\u001b[49m\n\u001b[0;32m    543\u001b[0m \u001b[38;5;28;01mexcept\u001b[39;00m CfTimeoutError \u001b[38;5;28;01mas\u001b[39;00m e:\n\u001b[0;32m    544\u001b[0m     \u001b[38;5;28;01mraise\u001b[39;00m \u001b[38;5;167;01mTimeoutError\u001b[39;00m \u001b[38;5;28;01mfrom\u001b[39;00m \u001b[38;5;21;01me\u001b[39;00m\n",
      "File \u001b[1;32m~\\anaconda3\\lib\\concurrent\\futures\\_base.py:441\u001b[0m, in \u001b[0;36mFuture.result\u001b[1;34m(self, timeout)\u001b[0m\n\u001b[0;32m    438\u001b[0m \u001b[38;5;28;01melif\u001b[39;00m \u001b[38;5;28mself\u001b[39m\u001b[38;5;241m.\u001b[39m_state \u001b[38;5;241m==\u001b[39m FINISHED:\n\u001b[0;32m    439\u001b[0m     \u001b[38;5;28;01mreturn\u001b[39;00m \u001b[38;5;28mself\u001b[39m\u001b[38;5;241m.\u001b[39m__get_result()\n\u001b[1;32m--> 441\u001b[0m \u001b[38;5;28;43mself\u001b[39;49m\u001b[38;5;241;43m.\u001b[39;49m\u001b[43m_condition\u001b[49m\u001b[38;5;241;43m.\u001b[39;49m\u001b[43mwait\u001b[49m\u001b[43m(\u001b[49m\u001b[43mtimeout\u001b[49m\u001b[43m)\u001b[49m\n\u001b[0;32m    443\u001b[0m \u001b[38;5;28;01mif\u001b[39;00m \u001b[38;5;28mself\u001b[39m\u001b[38;5;241m.\u001b[39m_state \u001b[38;5;129;01min\u001b[39;00m [CANCELLED, CANCELLED_AND_NOTIFIED]:\n\u001b[0;32m    444\u001b[0m     \u001b[38;5;28;01mraise\u001b[39;00m CancelledError()\n",
      "File \u001b[1;32m~\\anaconda3\\lib\\threading.py:312\u001b[0m, in \u001b[0;36mCondition.wait\u001b[1;34m(self, timeout)\u001b[0m\n\u001b[0;32m    310\u001b[0m \u001b[38;5;28;01mtry\u001b[39;00m:    \u001b[38;5;66;03m# restore state no matter what (e.g., KeyboardInterrupt)\u001b[39;00m\n\u001b[0;32m    311\u001b[0m     \u001b[38;5;28;01mif\u001b[39;00m timeout \u001b[38;5;129;01mis\u001b[39;00m \u001b[38;5;28;01mNone\u001b[39;00m:\n\u001b[1;32m--> 312\u001b[0m         \u001b[43mwaiter\u001b[49m\u001b[38;5;241;43m.\u001b[39;49m\u001b[43macquire\u001b[49m\u001b[43m(\u001b[49m\u001b[43m)\u001b[49m\n\u001b[0;32m    313\u001b[0m         gotit \u001b[38;5;241m=\u001b[39m \u001b[38;5;28;01mTrue\u001b[39;00m\n\u001b[0;32m    314\u001b[0m     \u001b[38;5;28;01melse\u001b[39;00m:\n",
      "\u001b[1;31mKeyboardInterrupt\u001b[0m: "
     ]
    }
   ],
   "source": [
    "lgbm_cv_model.fit(X_train, y_train)"
   ]
  },
  {
   "cell_type": "code",
   "execution_count": null,
   "id": "7fdda430",
   "metadata": {},
   "outputs": [],
   "source": [
    "lgbm_cv_model.best_params_"
   ]
  },
  {
   "cell_type": "code",
   "execution_count": 227,
   "id": "1fcf0478",
   "metadata": {},
   "outputs": [],
   "source": [
    "lgbm = LGBMClassifier(learning_rate = 0.01, \n",
    "                       max_depth = 3,\n",
    "                       subsample = 0.6,\n",
    "                       n_estimators = 500,\n",
    "                       min_child_samples = 20)"
   ]
  },
  {
   "cell_type": "code",
   "execution_count": 228,
   "id": "e54d5c9e",
   "metadata": {},
   "outputs": [
    {
     "name": "stdout",
     "output_type": "stream",
     "text": [
      "[LightGBM] [Info] Number of positive: 188, number of negative: 349\n",
      "[LightGBM] [Info] Auto-choosing col-wise multi-threading, the overhead of testing was 0.000106 seconds.\n",
      "You can set `force_col_wise=true` to remove the overhead.\n",
      "[LightGBM] [Info] Total Bins 606\n",
      "[LightGBM] [Info] Number of data points in the train set: 537, number of used features: 8\n",
      "[LightGBM] [Info] [binary:BoostFromScore]: pavg=0.350093 -> initscore=-0.618630\n",
      "[LightGBM] [Info] Start training from score -0.618630\n",
      "[LightGBM] [Warning] No further splits with positive gain, best gain: -inf\n",
      "[LightGBM] [Warning] No further splits with positive gain, best gain: -inf\n",
      "[LightGBM] [Warning] No further splits with positive gain, best gain: -inf\n",
      "[LightGBM] [Warning] No further splits with positive gain, best gain: -inf\n",
      "[LightGBM] [Warning] No further splits with positive gain, best gain: -inf\n",
      "[LightGBM] [Warning] No further splits with positive gain, best gain: -inf\n",
      "[LightGBM] [Warning] No further splits with positive gain, best gain: -inf\n",
      "[LightGBM] [Warning] No further splits with positive gain, best gain: -inf\n",
      "[LightGBM] [Warning] No further splits with positive gain, best gain: -inf\n",
      "[LightGBM] [Warning] No further splits with positive gain, best gain: -inf\n",
      "[LightGBM] [Warning] No further splits with positive gain, best gain: -inf\n",
      "[LightGBM] [Warning] No further splits with positive gain, best gain: -inf\n",
      "[LightGBM] [Warning] No further splits with positive gain, best gain: -inf\n",
      "[LightGBM] [Warning] No further splits with positive gain, best gain: -inf\n",
      "[LightGBM] [Warning] No further splits with positive gain, best gain: -inf\n",
      "[LightGBM] [Warning] No further splits with positive gain, best gain: -inf\n",
      "[LightGBM] [Warning] No further splits with positive gain, best gain: -inf\n",
      "[LightGBM] [Warning] No further splits with positive gain, best gain: -inf\n",
      "[LightGBM] [Warning] No further splits with positive gain, best gain: -inf\n",
      "[LightGBM] [Warning] No further splits with positive gain, best gain: -inf\n",
      "[LightGBM] [Warning] No further splits with positive gain, best gain: -inf\n",
      "[LightGBM] [Warning] No further splits with positive gain, best gain: -inf\n",
      "[LightGBM] [Warning] No further splits with positive gain, best gain: -inf\n",
      "[LightGBM] [Warning] No further splits with positive gain, best gain: -inf\n",
      "[LightGBM] [Warning] No further splits with positive gain, best gain: -inf\n",
      "[LightGBM] [Warning] No further splits with positive gain, best gain: -inf\n",
      "[LightGBM] [Warning] No further splits with positive gain, best gain: -inf\n",
      "[LightGBM] [Warning] No further splits with positive gain, best gain: -inf\n",
      "[LightGBM] [Warning] No further splits with positive gain, best gain: -inf\n",
      "[LightGBM] [Warning] No further splits with positive gain, best gain: -inf\n",
      "[LightGBM] [Warning] No further splits with positive gain, best gain: -inf\n",
      "[LightGBM] [Warning] No further splits with positive gain, best gain: -inf\n",
      "[LightGBM] [Warning] No further splits with positive gain, best gain: -inf\n",
      "[LightGBM] [Warning] No further splits with positive gain, best gain: -inf\n",
      "[LightGBM] [Warning] No further splits with positive gain, best gain: -inf\n",
      "[LightGBM] [Warning] No further splits with positive gain, best gain: -inf\n",
      "[LightGBM] [Warning] No further splits with positive gain, best gain: -inf\n",
      "[LightGBM] [Warning] No further splits with positive gain, best gain: -inf\n",
      "[LightGBM] [Warning] No further splits with positive gain, best gain: -inf\n",
      "[LightGBM] [Warning] No further splits with positive gain, best gain: -inf\n",
      "[LightGBM] [Warning] No further splits with positive gain, best gain: -inf\n",
      "[LightGBM] [Warning] No further splits with positive gain, best gain: -inf\n",
      "[LightGBM] [Warning] No further splits with positive gain, best gain: -inf\n",
      "[LightGBM] [Warning] No further splits with positive gain, best gain: -inf\n",
      "[LightGBM] [Warning] No further splits with positive gain, best gain: -inf\n",
      "[LightGBM] [Warning] No further splits with positive gain, best gain: -inf\n",
      "[LightGBM] [Warning] No further splits with positive gain, best gain: -inf\n",
      "[LightGBM] [Warning] No further splits with positive gain, best gain: -inf\n",
      "[LightGBM] [Warning] No further splits with positive gain, best gain: -inf\n",
      "[LightGBM] [Warning] No further splits with positive gain, best gain: -inf\n",
      "[LightGBM] [Warning] No further splits with positive gain, best gain: -inf\n",
      "[LightGBM] [Warning] No further splits with positive gain, best gain: -inf\n",
      "[LightGBM] [Warning] No further splits with positive gain, best gain: -inf\n",
      "[LightGBM] [Warning] No further splits with positive gain, best gain: -inf\n",
      "[LightGBM] [Warning] No further splits with positive gain, best gain: -inf\n",
      "[LightGBM] [Warning] No further splits with positive gain, best gain: -inf\n",
      "[LightGBM] [Warning] No further splits with positive gain, best gain: -inf\n",
      "[LightGBM] [Warning] No further splits with positive gain, best gain: -inf\n",
      "[LightGBM] [Warning] No further splits with positive gain, best gain: -inf\n",
      "[LightGBM] [Warning] No further splits with positive gain, best gain: -inf\n",
      "[LightGBM] [Warning] No further splits with positive gain, best gain: -inf\n",
      "[LightGBM] [Warning] No further splits with positive gain, best gain: -inf\n",
      "[LightGBM] [Warning] No further splits with positive gain, best gain: -inf\n",
      "[LightGBM] [Warning] No further splits with positive gain, best gain: -inf\n",
      "[LightGBM] [Warning] No further splits with positive gain, best gain: -inf\n",
      "[LightGBM] [Warning] No further splits with positive gain, best gain: -inf\n",
      "[LightGBM] [Warning] No further splits with positive gain, best gain: -inf\n",
      "[LightGBM] [Warning] No further splits with positive gain, best gain: -inf\n",
      "[LightGBM] [Warning] No further splits with positive gain, best gain: -inf\n",
      "[LightGBM] [Warning] No further splits with positive gain, best gain: -inf\n",
      "[LightGBM] [Warning] No further splits with positive gain, best gain: -inf\n",
      "[LightGBM] [Warning] No further splits with positive gain, best gain: -inf\n",
      "[LightGBM] [Warning] No further splits with positive gain, best gain: -inf\n",
      "[LightGBM] [Warning] No further splits with positive gain, best gain: -inf\n",
      "[LightGBM] [Warning] No further splits with positive gain, best gain: -inf\n",
      "[LightGBM] [Warning] No further splits with positive gain, best gain: -inf\n",
      "[LightGBM] [Warning] No further splits with positive gain, best gain: -inf\n",
      "[LightGBM] [Warning] No further splits with positive gain, best gain: -inf\n",
      "[LightGBM] [Warning] No further splits with positive gain, best gain: -inf\n",
      "[LightGBM] [Warning] No further splits with positive gain, best gain: -inf\n",
      "[LightGBM] [Warning] No further splits with positive gain, best gain: -inf\n",
      "[LightGBM] [Warning] No further splits with positive gain, best gain: -inf\n",
      "[LightGBM] [Warning] No further splits with positive gain, best gain: -inf\n",
      "[LightGBM] [Warning] No further splits with positive gain, best gain: -inf\n",
      "[LightGBM] [Warning] No further splits with positive gain, best gain: -inf\n",
      "[LightGBM] [Warning] No further splits with positive gain, best gain: -inf\n",
      "[LightGBM] [Warning] No further splits with positive gain, best gain: -inf\n",
      "[LightGBM] [Warning] No further splits with positive gain, best gain: -inf\n",
      "[LightGBM] [Warning] No further splits with positive gain, best gain: -inf\n",
      "[LightGBM] [Warning] No further splits with positive gain, best gain: -inf\n",
      "[LightGBM] [Warning] No further splits with positive gain, best gain: -inf\n",
      "[LightGBM] [Warning] No further splits with positive gain, best gain: -inf\n",
      "[LightGBM] [Warning] No further splits with positive gain, best gain: -inf\n",
      "[LightGBM] [Warning] No further splits with positive gain, best gain: -inf\n",
      "[LightGBM] [Warning] No further splits with positive gain, best gain: -inf\n",
      "[LightGBM] [Warning] No further splits with positive gain, best gain: -inf\n",
      "[LightGBM] [Warning] No further splits with positive gain, best gain: -inf\n",
      "[LightGBM] [Warning] No further splits with positive gain, best gain: -inf\n",
      "[LightGBM] [Warning] No further splits with positive gain, best gain: -inf\n",
      "[LightGBM] [Warning] No further splits with positive gain, best gain: -inf\n",
      "[LightGBM] [Warning] No further splits with positive gain, best gain: -inf\n",
      "[LightGBM] [Warning] No further splits with positive gain, best gain: -inf\n",
      "[LightGBM] [Warning] No further splits with positive gain, best gain: -inf\n",
      "[LightGBM] [Warning] No further splits with positive gain, best gain: -inf\n",
      "[LightGBM] [Warning] No further splits with positive gain, best gain: -inf\n",
      "[LightGBM] [Warning] No further splits with positive gain, best gain: -inf\n",
      "[LightGBM] [Warning] No further splits with positive gain, best gain: -inf\n",
      "[LightGBM] [Warning] No further splits with positive gain, best gain: -inf\n",
      "[LightGBM] [Warning] No further splits with positive gain, best gain: -inf\n",
      "[LightGBM] [Warning] No further splits with positive gain, best gain: -inf\n",
      "[LightGBM] [Warning] No further splits with positive gain, best gain: -inf\n",
      "[LightGBM] [Warning] No further splits with positive gain, best gain: -inf\n",
      "[LightGBM] [Warning] No further splits with positive gain, best gain: -inf\n",
      "[LightGBM] [Warning] No further splits with positive gain, best gain: -inf\n",
      "[LightGBM] [Warning] No further splits with positive gain, best gain: -inf\n",
      "[LightGBM] [Warning] No further splits with positive gain, best gain: -inf\n",
      "[LightGBM] [Warning] No further splits with positive gain, best gain: -inf\n",
      "[LightGBM] [Warning] No further splits with positive gain, best gain: -inf\n",
      "[LightGBM] [Warning] No further splits with positive gain, best gain: -inf\n",
      "[LightGBM] [Warning] No further splits with positive gain, best gain: -inf\n",
      "[LightGBM] [Warning] No further splits with positive gain, best gain: -inf\n",
      "[LightGBM] [Warning] No further splits with positive gain, best gain: -inf\n",
      "[LightGBM] [Warning] No further splits with positive gain, best gain: -inf\n",
      "[LightGBM] [Warning] No further splits with positive gain, best gain: -inf\n",
      "[LightGBM] [Warning] No further splits with positive gain, best gain: -inf\n",
      "[LightGBM] [Warning] No further splits with positive gain, best gain: -inf\n",
      "[LightGBM] [Warning] No further splits with positive gain, best gain: -inf\n",
      "[LightGBM] [Warning] No further splits with positive gain, best gain: -inf\n",
      "[LightGBM] [Warning] No further splits with positive gain, best gain: -inf\n",
      "[LightGBM] [Warning] No further splits with positive gain, best gain: -inf\n",
      "[LightGBM] [Warning] No further splits with positive gain, best gain: -inf\n",
      "[LightGBM] [Warning] No further splits with positive gain, best gain: -inf\n",
      "[LightGBM] [Warning] No further splits with positive gain, best gain: -inf\n",
      "[LightGBM] [Warning] No further splits with positive gain, best gain: -inf\n",
      "[LightGBM] [Warning] No further splits with positive gain, best gain: -inf\n",
      "[LightGBM] [Warning] No further splits with positive gain, best gain: -inf\n",
      "[LightGBM] [Warning] No further splits with positive gain, best gain: -inf\n",
      "[LightGBM] [Warning] No further splits with positive gain, best gain: -inf\n",
      "[LightGBM] [Warning] No further splits with positive gain, best gain: -inf\n",
      "[LightGBM] [Warning] No further splits with positive gain, best gain: -inf\n",
      "[LightGBM] [Warning] No further splits with positive gain, best gain: -inf\n",
      "[LightGBM] [Warning] No further splits with positive gain, best gain: -inf\n",
      "[LightGBM] [Warning] No further splits with positive gain, best gain: -inf\n",
      "[LightGBM] [Warning] No further splits with positive gain, best gain: -inf\n",
      "[LightGBM] [Warning] No further splits with positive gain, best gain: -inf\n",
      "[LightGBM] [Warning] No further splits with positive gain, best gain: -inf\n",
      "[LightGBM] [Warning] No further splits with positive gain, best gain: -inf\n",
      "[LightGBM] [Warning] No further splits with positive gain, best gain: -inf\n",
      "[LightGBM] [Warning] No further splits with positive gain, best gain: -inf\n",
      "[LightGBM] [Warning] No further splits with positive gain, best gain: -inf\n",
      "[LightGBM] [Warning] No further splits with positive gain, best gain: -inf\n",
      "[LightGBM] [Warning] No further splits with positive gain, best gain: -inf\n",
      "[LightGBM] [Warning] No further splits with positive gain, best gain: -inf\n",
      "[LightGBM] [Warning] No further splits with positive gain, best gain: -inf\n",
      "[LightGBM] [Warning] No further splits with positive gain, best gain: -inf\n",
      "[LightGBM] [Warning] No further splits with positive gain, best gain: -inf\n",
      "[LightGBM] [Warning] No further splits with positive gain, best gain: -inf\n",
      "[LightGBM] [Warning] No further splits with positive gain, best gain: -inf\n",
      "[LightGBM] [Warning] No further splits with positive gain, best gain: -inf\n",
      "[LightGBM] [Warning] No further splits with positive gain, best gain: -inf\n",
      "[LightGBM] [Warning] No further splits with positive gain, best gain: -inf\n",
      "[LightGBM] [Warning] No further splits with positive gain, best gain: -inf\n",
      "[LightGBM] [Warning] No further splits with positive gain, best gain: -inf\n",
      "[LightGBM] [Warning] No further splits with positive gain, best gain: -inf\n",
      "[LightGBM] [Warning] No further splits with positive gain, best gain: -inf\n",
      "[LightGBM] [Warning] No further splits with positive gain, best gain: -inf\n",
      "[LightGBM] [Warning] No further splits with positive gain, best gain: -inf\n",
      "[LightGBM] [Warning] No further splits with positive gain, best gain: -inf\n",
      "[LightGBM] [Warning] No further splits with positive gain, best gain: -inf\n",
      "[LightGBM] [Warning] No further splits with positive gain, best gain: -inf\n",
      "[LightGBM] [Warning] No further splits with positive gain, best gain: -inf\n",
      "[LightGBM] [Warning] No further splits with positive gain, best gain: -inf\n",
      "[LightGBM] [Warning] No further splits with positive gain, best gain: -inf\n",
      "[LightGBM] [Warning] No further splits with positive gain, best gain: -inf\n",
      "[LightGBM] [Warning] No further splits with positive gain, best gain: -inf\n",
      "[LightGBM] [Warning] No further splits with positive gain, best gain: -inf\n",
      "[LightGBM] [Warning] No further splits with positive gain, best gain: -inf\n",
      "[LightGBM] [Warning] No further splits with positive gain, best gain: -inf\n",
      "[LightGBM] [Warning] No further splits with positive gain, best gain: -inf\n",
      "[LightGBM] [Warning] No further splits with positive gain, best gain: -inf\n",
      "[LightGBM] [Warning] No further splits with positive gain, best gain: -inf\n",
      "[LightGBM] [Warning] No further splits with positive gain, best gain: -inf\n",
      "[LightGBM] [Warning] No further splits with positive gain, best gain: -inf\n",
      "[LightGBM] [Warning] No further splits with positive gain, best gain: -inf\n",
      "[LightGBM] [Warning] No further splits with positive gain, best gain: -inf\n",
      "[LightGBM] [Warning] No further splits with positive gain, best gain: -inf\n",
      "[LightGBM] [Warning] No further splits with positive gain, best gain: -inf\n",
      "[LightGBM] [Warning] No further splits with positive gain, best gain: -inf\n",
      "[LightGBM] [Warning] No further splits with positive gain, best gain: -inf\n",
      "[LightGBM] [Warning] No further splits with positive gain, best gain: -inf\n",
      "[LightGBM] [Warning] No further splits with positive gain, best gain: -inf\n",
      "[LightGBM] [Warning] No further splits with positive gain, best gain: -inf\n",
      "[LightGBM] [Warning] No further splits with positive gain, best gain: -inf\n",
      "[LightGBM] [Warning] No further splits with positive gain, best gain: -inf\n",
      "[LightGBM] [Warning] No further splits with positive gain, best gain: -inf\n",
      "[LightGBM] [Warning] No further splits with positive gain, best gain: -inf\n",
      "[LightGBM] [Warning] No further splits with positive gain, best gain: -inf\n",
      "[LightGBM] [Warning] No further splits with positive gain, best gain: -inf\n",
      "[LightGBM] [Warning] No further splits with positive gain, best gain: -inf\n",
      "[LightGBM] [Warning] No further splits with positive gain, best gain: -inf\n",
      "[LightGBM] [Warning] No further splits with positive gain, best gain: -inf\n",
      "[LightGBM] [Warning] No further splits with positive gain, best gain: -inf\n",
      "[LightGBM] [Warning] No further splits with positive gain, best gain: -inf\n",
      "[LightGBM] [Warning] No further splits with positive gain, best gain: -inf\n",
      "[LightGBM] [Warning] No further splits with positive gain, best gain: -inf\n",
      "[LightGBM] [Warning] No further splits with positive gain, best gain: -inf\n",
      "[LightGBM] [Warning] No further splits with positive gain, best gain: -inf\n",
      "[LightGBM] [Warning] No further splits with positive gain, best gain: -inf\n",
      "[LightGBM] [Warning] No further splits with positive gain, best gain: -inf\n",
      "[LightGBM] [Warning] No further splits with positive gain, best gain: -inf\n",
      "[LightGBM] [Warning] No further splits with positive gain, best gain: -inf\n",
      "[LightGBM] [Warning] No further splits with positive gain, best gain: -inf\n",
      "[LightGBM] [Warning] No further splits with positive gain, best gain: -inf\n",
      "[LightGBM] [Warning] No further splits with positive gain, best gain: -inf\n",
      "[LightGBM] [Warning] No further splits with positive gain, best gain: -inf\n",
      "[LightGBM] [Warning] No further splits with positive gain, best gain: -inf\n",
      "[LightGBM] [Warning] No further splits with positive gain, best gain: -inf\n",
      "[LightGBM] [Warning] No further splits with positive gain, best gain: -inf\n",
      "[LightGBM] [Warning] No further splits with positive gain, best gain: -inf\n",
      "[LightGBM] [Warning] No further splits with positive gain, best gain: -inf\n",
      "[LightGBM] [Warning] No further splits with positive gain, best gain: -inf\n",
      "[LightGBM] [Warning] No further splits with positive gain, best gain: -inf\n",
      "[LightGBM] [Warning] No further splits with positive gain, best gain: -inf\n",
      "[LightGBM] [Warning] No further splits with positive gain, best gain: -inf\n",
      "[LightGBM] [Warning] No further splits with positive gain, best gain: -inf\n",
      "[LightGBM] [Warning] No further splits with positive gain, best gain: -inf\n",
      "[LightGBM] [Warning] No further splits with positive gain, best gain: -inf\n",
      "[LightGBM] [Warning] No further splits with positive gain, best gain: -inf\n",
      "[LightGBM] [Warning] No further splits with positive gain, best gain: -inf\n",
      "[LightGBM] [Warning] No further splits with positive gain, best gain: -inf\n",
      "[LightGBM] [Warning] No further splits with positive gain, best gain: -inf\n",
      "[LightGBM] [Warning] No further splits with positive gain, best gain: -inf\n",
      "[LightGBM] [Warning] No further splits with positive gain, best gain: -inf\n",
      "[LightGBM] [Warning] No further splits with positive gain, best gain: -inf\n",
      "[LightGBM] [Warning] No further splits with positive gain, best gain: -inf\n",
      "[LightGBM] [Warning] No further splits with positive gain, best gain: -inf\n",
      "[LightGBM] [Warning] No further splits with positive gain, best gain: -inf\n",
      "[LightGBM] [Warning] No further splits with positive gain, best gain: -inf\n",
      "[LightGBM] [Warning] No further splits with positive gain, best gain: -inf\n",
      "[LightGBM] [Warning] No further splits with positive gain, best gain: -inf\n",
      "[LightGBM] [Warning] No further splits with positive gain, best gain: -inf\n",
      "[LightGBM] [Warning] No further splits with positive gain, best gain: -inf\n",
      "[LightGBM] [Warning] No further splits with positive gain, best gain: -inf\n",
      "[LightGBM] [Warning] No further splits with positive gain, best gain: -inf\n",
      "[LightGBM] [Warning] No further splits with positive gain, best gain: -inf\n",
      "[LightGBM] [Warning] No further splits with positive gain, best gain: -inf\n",
      "[LightGBM] [Warning] No further splits with positive gain, best gain: -inf\n",
      "[LightGBM] [Warning] No further splits with positive gain, best gain: -inf\n",
      "[LightGBM] [Warning] No further splits with positive gain, best gain: -inf\n",
      "[LightGBM] [Warning] No further splits with positive gain, best gain: -inf\n",
      "[LightGBM] [Warning] No further splits with positive gain, best gain: -inf\n",
      "[LightGBM] [Warning] No further splits with positive gain, best gain: -inf\n",
      "[LightGBM] [Warning] No further splits with positive gain, best gain: -inf\n",
      "[LightGBM] [Warning] No further splits with positive gain, best gain: -inf\n",
      "[LightGBM] [Warning] No further splits with positive gain, best gain: -inf\n",
      "[LightGBM] [Warning] No further splits with positive gain, best gain: -inf\n",
      "[LightGBM] [Warning] No further splits with positive gain, best gain: -inf\n",
      "[LightGBM] [Warning] No further splits with positive gain, best gain: -inf\n",
      "[LightGBM] [Warning] No further splits with positive gain, best gain: -inf\n",
      "[LightGBM] [Warning] No further splits with positive gain, best gain: -inf\n",
      "[LightGBM] [Warning] No further splits with positive gain, best gain: -inf\n",
      "[LightGBM] [Warning] No further splits with positive gain, best gain: -inf\n",
      "[LightGBM] [Warning] No further splits with positive gain, best gain: -inf\n",
      "[LightGBM] [Warning] No further splits with positive gain, best gain: -inf\n",
      "[LightGBM] [Warning] No further splits with positive gain, best gain: -inf\n",
      "[LightGBM] [Warning] No further splits with positive gain, best gain: -inf\n",
      "[LightGBM] [Warning] No further splits with positive gain, best gain: -inf\n",
      "[LightGBM] [Warning] No further splits with positive gain, best gain: -inf\n",
      "[LightGBM] [Warning] No further splits with positive gain, best gain: -inf\n",
      "[LightGBM] [Warning] No further splits with positive gain, best gain: -inf\n",
      "[LightGBM] [Warning] No further splits with positive gain, best gain: -inf\n",
      "[LightGBM] [Warning] No further splits with positive gain, best gain: -inf\n",
      "[LightGBM] [Warning] No further splits with positive gain, best gain: -inf\n",
      "[LightGBM] [Warning] No further splits with positive gain, best gain: -inf\n",
      "[LightGBM] [Warning] No further splits with positive gain, best gain: -inf\n",
      "[LightGBM] [Warning] No further splits with positive gain, best gain: -inf\n",
      "[LightGBM] [Warning] No further splits with positive gain, best gain: -inf\n",
      "[LightGBM] [Warning] No further splits with positive gain, best gain: -inf\n",
      "[LightGBM] [Warning] No further splits with positive gain, best gain: -inf\n",
      "[LightGBM] [Warning] No further splits with positive gain, best gain: -inf\n",
      "[LightGBM] [Warning] No further splits with positive gain, best gain: -inf\n",
      "[LightGBM] [Warning] No further splits with positive gain, best gain: -inf\n",
      "[LightGBM] [Warning] No further splits with positive gain, best gain: -inf\n",
      "[LightGBM] [Warning] No further splits with positive gain, best gain: -inf\n",
      "[LightGBM] [Warning] No further splits with positive gain, best gain: -inf\n",
      "[LightGBM] [Warning] No further splits with positive gain, best gain: -inf\n",
      "[LightGBM] [Warning] No further splits with positive gain, best gain: -inf\n",
      "[LightGBM] [Warning] No further splits with positive gain, best gain: -inf\n",
      "[LightGBM] [Warning] No further splits with positive gain, best gain: -inf\n",
      "[LightGBM] [Warning] No further splits with positive gain, best gain: -inf\n",
      "[LightGBM] [Warning] No further splits with positive gain, best gain: -inf\n",
      "[LightGBM] [Warning] No further splits with positive gain, best gain: -inf\n",
      "[LightGBM] [Warning] No further splits with positive gain, best gain: -inf\n",
      "[LightGBM] [Warning] No further splits with positive gain, best gain: -inf\n",
      "[LightGBM] [Warning] No further splits with positive gain, best gain: -inf\n",
      "[LightGBM] [Warning] No further splits with positive gain, best gain: -inf\n",
      "[LightGBM] [Warning] No further splits with positive gain, best gain: -inf\n",
      "[LightGBM] [Warning] No further splits with positive gain, best gain: -inf\n",
      "[LightGBM] [Warning] No further splits with positive gain, best gain: -inf\n",
      "[LightGBM] [Warning] No further splits with positive gain, best gain: -inf\n",
      "[LightGBM] [Warning] No further splits with positive gain, best gain: -inf\n",
      "[LightGBM] [Warning] No further splits with positive gain, best gain: -inf\n",
      "[LightGBM] [Warning] No further splits with positive gain, best gain: -inf\n",
      "[LightGBM] [Warning] No further splits with positive gain, best gain: -inf\n",
      "[LightGBM] [Warning] No further splits with positive gain, best gain: -inf\n",
      "[LightGBM] [Warning] No further splits with positive gain, best gain: -inf\n",
      "[LightGBM] [Warning] No further splits with positive gain, best gain: -inf\n",
      "[LightGBM] [Warning] No further splits with positive gain, best gain: -inf\n",
      "[LightGBM] [Warning] No further splits with positive gain, best gain: -inf\n",
      "[LightGBM] [Warning] No further splits with positive gain, best gain: -inf\n",
      "[LightGBM] [Warning] No further splits with positive gain, best gain: -inf\n",
      "[LightGBM] [Warning] No further splits with positive gain, best gain: -inf\n",
      "[LightGBM] [Warning] No further splits with positive gain, best gain: -inf\n",
      "[LightGBM] [Warning] No further splits with positive gain, best gain: -inf\n",
      "[LightGBM] [Warning] No further splits with positive gain, best gain: -inf\n",
      "[LightGBM] [Warning] No further splits with positive gain, best gain: -inf\n",
      "[LightGBM] [Warning] No further splits with positive gain, best gain: -inf\n",
      "[LightGBM] [Warning] No further splits with positive gain, best gain: -inf\n",
      "[LightGBM] [Warning] No further splits with positive gain, best gain: -inf\n",
      "[LightGBM] [Warning] No further splits with positive gain, best gain: -inf\n",
      "[LightGBM] [Warning] No further splits with positive gain, best gain: -inf\n",
      "[LightGBM] [Warning] No further splits with positive gain, best gain: -inf\n",
      "[LightGBM] [Warning] No further splits with positive gain, best gain: -inf\n",
      "[LightGBM] [Warning] No further splits with positive gain, best gain: -inf\n",
      "[LightGBM] [Warning] No further splits with positive gain, best gain: -inf\n"
     ]
    },
    {
     "name": "stdout",
     "output_type": "stream",
     "text": [
      "[LightGBM] [Warning] No further splits with positive gain, best gain: -inf\n",
      "[LightGBM] [Warning] No further splits with positive gain, best gain: -inf\n",
      "[LightGBM] [Warning] No further splits with positive gain, best gain: -inf\n",
      "[LightGBM] [Warning] No further splits with positive gain, best gain: -inf\n",
      "[LightGBM] [Warning] No further splits with positive gain, best gain: -inf\n",
      "[LightGBM] [Warning] No further splits with positive gain, best gain: -inf\n",
      "[LightGBM] [Warning] No further splits with positive gain, best gain: -inf\n",
      "[LightGBM] [Warning] No further splits with positive gain, best gain: -inf\n",
      "[LightGBM] [Warning] No further splits with positive gain, best gain: -inf\n",
      "[LightGBM] [Warning] No further splits with positive gain, best gain: -inf\n",
      "[LightGBM] [Warning] No further splits with positive gain, best gain: -inf\n",
      "[LightGBM] [Warning] No further splits with positive gain, best gain: -inf\n",
      "[LightGBM] [Warning] No further splits with positive gain, best gain: -inf\n",
      "[LightGBM] [Warning] No further splits with positive gain, best gain: -inf\n",
      "[LightGBM] [Warning] No further splits with positive gain, best gain: -inf\n",
      "[LightGBM] [Warning] No further splits with positive gain, best gain: -inf\n",
      "[LightGBM] [Warning] No further splits with positive gain, best gain: -inf\n",
      "[LightGBM] [Warning] No further splits with positive gain, best gain: -inf\n",
      "[LightGBM] [Warning] No further splits with positive gain, best gain: -inf\n",
      "[LightGBM] [Warning] No further splits with positive gain, best gain: -inf\n",
      "[LightGBM] [Warning] No further splits with positive gain, best gain: -inf\n",
      "[LightGBM] [Warning] No further splits with positive gain, best gain: -inf\n",
      "[LightGBM] [Warning] No further splits with positive gain, best gain: -inf\n",
      "[LightGBM] [Warning] No further splits with positive gain, best gain: -inf\n",
      "[LightGBM] [Warning] No further splits with positive gain, best gain: -inf\n",
      "[LightGBM] [Warning] No further splits with positive gain, best gain: -inf\n",
      "[LightGBM] [Warning] No further splits with positive gain, best gain: -inf\n",
      "[LightGBM] [Warning] No further splits with positive gain, best gain: -inf\n",
      "[LightGBM] [Warning] No further splits with positive gain, best gain: -inf\n",
      "[LightGBM] [Warning] No further splits with positive gain, best gain: -inf\n",
      "[LightGBM] [Warning] No further splits with positive gain, best gain: -inf\n",
      "[LightGBM] [Warning] No further splits with positive gain, best gain: -inf\n",
      "[LightGBM] [Warning] No further splits with positive gain, best gain: -inf\n",
      "[LightGBM] [Warning] No further splits with positive gain, best gain: -inf\n",
      "[LightGBM] [Warning] No further splits with positive gain, best gain: -inf\n",
      "[LightGBM] [Warning] No further splits with positive gain, best gain: -inf\n",
      "[LightGBM] [Warning] No further splits with positive gain, best gain: -inf\n",
      "[LightGBM] [Warning] No further splits with positive gain, best gain: -inf\n",
      "[LightGBM] [Warning] No further splits with positive gain, best gain: -inf\n",
      "[LightGBM] [Warning] No further splits with positive gain, best gain: -inf\n",
      "[LightGBM] [Warning] No further splits with positive gain, best gain: -inf\n",
      "[LightGBM] [Warning] No further splits with positive gain, best gain: -inf\n",
      "[LightGBM] [Warning] No further splits with positive gain, best gain: -inf\n",
      "[LightGBM] [Warning] No further splits with positive gain, best gain: -inf\n",
      "[LightGBM] [Warning] No further splits with positive gain, best gain: -inf\n",
      "[LightGBM] [Warning] No further splits with positive gain, best gain: -inf\n",
      "[LightGBM] [Warning] No further splits with positive gain, best gain: -inf\n",
      "[LightGBM] [Warning] No further splits with positive gain, best gain: -inf\n",
      "[LightGBM] [Warning] No further splits with positive gain, best gain: -inf\n",
      "[LightGBM] [Warning] No further splits with positive gain, best gain: -inf\n",
      "[LightGBM] [Warning] No further splits with positive gain, best gain: -inf\n",
      "[LightGBM] [Warning] No further splits with positive gain, best gain: -inf\n",
      "[LightGBM] [Warning] No further splits with positive gain, best gain: -inf\n",
      "[LightGBM] [Warning] No further splits with positive gain, best gain: -inf\n",
      "[LightGBM] [Warning] No further splits with positive gain, best gain: -inf\n",
      "[LightGBM] [Warning] No further splits with positive gain, best gain: -inf\n",
      "[LightGBM] [Warning] No further splits with positive gain, best gain: -inf\n"
     ]
    }
   ],
   "source": [
    "lgbm_tuned = lgbm.fit(X_train,y_train)"
   ]
  },
  {
   "cell_type": "code",
   "execution_count": 229,
   "id": "f2f301bc",
   "metadata": {},
   "outputs": [
    {
     "data": {
      "text/plain": [
       "0.7532467532467533"
      ]
     },
     "execution_count": 229,
     "metadata": {},
     "output_type": "execute_result"
    }
   ],
   "source": [
    "y_pred = lgbm_tuned.predict(X_test)\n",
    "accuracy_score(y_test, y_pred)"
   ]
  },
  {
   "cell_type": "code",
   "execution_count": null,
   "id": "dbb53db9",
   "metadata": {},
   "outputs": [],
   "source": []
  },
  {
   "cell_type": "code",
   "execution_count": null,
   "id": "42ac6d7b",
   "metadata": {},
   "outputs": [],
   "source": []
  },
  {
   "cell_type": "code",
   "execution_count": null,
   "id": "a5d0cc87",
   "metadata": {},
   "outputs": [],
   "source": []
  },
  {
   "cell_type": "code",
   "execution_count": null,
   "id": "8111eed1",
   "metadata": {},
   "outputs": [],
   "source": []
  },
  {
   "cell_type": "markdown",
   "id": "ca80ac28",
   "metadata": {},
   "source": [
    "# CATBOOST MODEL & TAHMİN"
   ]
  },
  {
   "cell_type": "code",
   "execution_count": 230,
   "id": "86114532",
   "metadata": {},
   "outputs": [],
   "source": [
    "df = diabetes.copy()\n",
    "df = df.dropna()\n",
    "y = df[\"Outcome\"]\n",
    "X = df.drop(['Outcome'], axis=1)\n",
    "#X = df[\"Pregnancies\"]\n",
    "X = pd.DataFrame(X)\n",
    "X_train, X_test, y_train, y_test = train_test_split(X, y, \n",
    "                                                    test_size=0.30, \n",
    "                                                    random_state=42)"
   ]
  },
  {
   "cell_type": "code",
   "execution_count": 231,
   "id": "d709e578",
   "metadata": {},
   "outputs": [],
   "source": [
    "#!pip install catboost\n",
    "from catboost import CatBoostClassifier"
   ]
  },
  {
   "cell_type": "code",
   "execution_count": 232,
   "id": "3b6f06d9",
   "metadata": {},
   "outputs": [
    {
     "name": "stdout",
     "output_type": "stream",
     "text": [
      "Learning rate set to 0.0079\n",
      "0:\tlearn: 0.6879744\ttotal: 169ms\tremaining: 2m 48s\n",
      "1:\tlearn: 0.6843414\ttotal: 174ms\tremaining: 1m 26s\n",
      "2:\tlearn: 0.6805760\ttotal: 179ms\tremaining: 59.3s\n",
      "3:\tlearn: 0.6765782\ttotal: 186ms\tremaining: 46.3s\n",
      "4:\tlearn: 0.6720829\ttotal: 190ms\tremaining: 37.8s\n",
      "5:\tlearn: 0.6681617\ttotal: 193ms\tremaining: 32s\n",
      "6:\tlearn: 0.6641912\ttotal: 195ms\tremaining: 27.7s\n",
      "7:\tlearn: 0.6602881\ttotal: 198ms\tremaining: 24.5s\n",
      "8:\tlearn: 0.6562626\ttotal: 200ms\tremaining: 22.1s\n",
      "9:\tlearn: 0.6528483\ttotal: 203ms\tremaining: 20.1s\n",
      "10:\tlearn: 0.6487823\ttotal: 205ms\tremaining: 18.5s\n",
      "11:\tlearn: 0.6454980\ttotal: 208ms\tremaining: 17.1s\n",
      "12:\tlearn: 0.6418953\ttotal: 210ms\tremaining: 15.9s\n",
      "13:\tlearn: 0.6374431\ttotal: 212ms\tremaining: 14.9s\n",
      "14:\tlearn: 0.6339676\ttotal: 214ms\tremaining: 14.1s\n",
      "15:\tlearn: 0.6304252\ttotal: 216ms\tremaining: 13.3s\n",
      "16:\tlearn: 0.6266998\ttotal: 218ms\tremaining: 12.6s\n",
      "17:\tlearn: 0.6237660\ttotal: 221ms\tremaining: 12.1s\n",
      "18:\tlearn: 0.6204394\ttotal: 223ms\tremaining: 11.5s\n",
      "19:\tlearn: 0.6170129\ttotal: 225ms\tremaining: 11s\n",
      "20:\tlearn: 0.6133404\ttotal: 227ms\tremaining: 10.6s\n",
      "21:\tlearn: 0.6104932\ttotal: 230ms\tremaining: 10.2s\n",
      "22:\tlearn: 0.6069523\ttotal: 232ms\tremaining: 9.84s\n",
      "23:\tlearn: 0.6036467\ttotal: 235ms\tremaining: 9.55s\n",
      "24:\tlearn: 0.6005392\ttotal: 238ms\tremaining: 9.27s\n",
      "25:\tlearn: 0.5977520\ttotal: 240ms\tremaining: 9s\n",
      "26:\tlearn: 0.5948189\ttotal: 242ms\tremaining: 8.73s\n",
      "27:\tlearn: 0.5919831\ttotal: 245ms\tremaining: 8.49s\n",
      "28:\tlearn: 0.5885065\ttotal: 247ms\tremaining: 8.26s\n",
      "29:\tlearn: 0.5848273\ttotal: 249ms\tremaining: 8.05s\n",
      "30:\tlearn: 0.5822076\ttotal: 251ms\tremaining: 7.86s\n",
      "31:\tlearn: 0.5790604\ttotal: 254ms\tremaining: 7.68s\n",
      "32:\tlearn: 0.5762252\ttotal: 256ms\tremaining: 7.5s\n",
      "33:\tlearn: 0.5745338\ttotal: 258ms\tremaining: 7.34s\n",
      "34:\tlearn: 0.5719085\ttotal: 260ms\tremaining: 7.17s\n",
      "35:\tlearn: 0.5693365\ttotal: 262ms\tremaining: 7.03s\n",
      "36:\tlearn: 0.5665486\ttotal: 265ms\tremaining: 6.89s\n",
      "37:\tlearn: 0.5647413\ttotal: 268ms\tremaining: 6.77s\n",
      "38:\tlearn: 0.5622430\ttotal: 270ms\tremaining: 6.64s\n",
      "39:\tlearn: 0.5600038\ttotal: 272ms\tremaining: 6.53s\n",
      "40:\tlearn: 0.5579786\ttotal: 274ms\tremaining: 6.41s\n",
      "41:\tlearn: 0.5555817\ttotal: 276ms\tremaining: 6.3s\n",
      "42:\tlearn: 0.5533884\ttotal: 278ms\tremaining: 6.19s\n",
      "43:\tlearn: 0.5503718\ttotal: 282ms\tremaining: 6.12s\n",
      "44:\tlearn: 0.5482587\ttotal: 284ms\tremaining: 6.04s\n",
      "45:\tlearn: 0.5458783\ttotal: 286ms\tremaining: 5.94s\n",
      "46:\tlearn: 0.5441370\ttotal: 288ms\tremaining: 5.85s\n",
      "47:\tlearn: 0.5422492\ttotal: 291ms\tremaining: 5.77s\n",
      "48:\tlearn: 0.5397111\ttotal: 293ms\tremaining: 5.68s\n",
      "49:\tlearn: 0.5378482\ttotal: 296ms\tremaining: 5.61s\n",
      "50:\tlearn: 0.5355250\ttotal: 298ms\tremaining: 5.54s\n",
      "51:\tlearn: 0.5334717\ttotal: 300ms\tremaining: 5.47s\n",
      "52:\tlearn: 0.5308796\ttotal: 302ms\tremaining: 5.4s\n",
      "53:\tlearn: 0.5291891\ttotal: 304ms\tremaining: 5.33s\n",
      "54:\tlearn: 0.5273404\ttotal: 307ms\tremaining: 5.27s\n",
      "55:\tlearn: 0.5252025\ttotal: 309ms\tremaining: 5.2s\n",
      "56:\tlearn: 0.5232146\ttotal: 311ms\tremaining: 5.15s\n",
      "57:\tlearn: 0.5212394\ttotal: 314ms\tremaining: 5.1s\n",
      "58:\tlearn: 0.5188927\ttotal: 316ms\tremaining: 5.04s\n",
      "59:\tlearn: 0.5166496\ttotal: 318ms\tremaining: 4.99s\n",
      "60:\tlearn: 0.5151264\ttotal: 320ms\tremaining: 4.93s\n",
      "61:\tlearn: 0.5128109\ttotal: 322ms\tremaining: 4.87s\n",
      "62:\tlearn: 0.5114747\ttotal: 324ms\tremaining: 4.82s\n",
      "63:\tlearn: 0.5096208\ttotal: 327ms\tremaining: 4.78s\n",
      "64:\tlearn: 0.5072601\ttotal: 330ms\tremaining: 4.74s\n",
      "65:\tlearn: 0.5052770\ttotal: 332ms\tremaining: 4.7s\n",
      "66:\tlearn: 0.5036623\ttotal: 334ms\tremaining: 4.66s\n",
      "67:\tlearn: 0.5017328\ttotal: 337ms\tremaining: 4.62s\n",
      "68:\tlearn: 0.5005425\ttotal: 338ms\tremaining: 4.57s\n",
      "69:\tlearn: 0.4991695\ttotal: 341ms\tremaining: 4.53s\n",
      "70:\tlearn: 0.4976900\ttotal: 346ms\tremaining: 4.53s\n",
      "71:\tlearn: 0.4958907\ttotal: 349ms\tremaining: 4.49s\n",
      "72:\tlearn: 0.4944550\ttotal: 351ms\tremaining: 4.46s\n",
      "73:\tlearn: 0.4929501\ttotal: 355ms\tremaining: 4.45s\n",
      "74:\tlearn: 0.4913299\ttotal: 358ms\tremaining: 4.42s\n",
      "75:\tlearn: 0.4898798\ttotal: 361ms\tremaining: 4.39s\n",
      "76:\tlearn: 0.4882946\ttotal: 364ms\tremaining: 4.37s\n",
      "77:\tlearn: 0.4866733\ttotal: 366ms\tremaining: 4.33s\n",
      "78:\tlearn: 0.4849083\ttotal: 368ms\tremaining: 4.29s\n",
      "79:\tlearn: 0.4832344\ttotal: 372ms\tremaining: 4.28s\n",
      "80:\tlearn: 0.4822155\ttotal: 375ms\tremaining: 4.25s\n",
      "81:\tlearn: 0.4805651\ttotal: 377ms\tremaining: 4.22s\n",
      "82:\tlearn: 0.4789437\ttotal: 379ms\tremaining: 4.18s\n",
      "83:\tlearn: 0.4773680\ttotal: 381ms\tremaining: 4.15s\n",
      "84:\tlearn: 0.4759592\ttotal: 383ms\tremaining: 4.12s\n",
      "85:\tlearn: 0.4743296\ttotal: 385ms\tremaining: 4.09s\n",
      "86:\tlearn: 0.4733053\ttotal: 388ms\tremaining: 4.07s\n",
      "87:\tlearn: 0.4719029\ttotal: 390ms\tremaining: 4.04s\n",
      "88:\tlearn: 0.4704197\ttotal: 392ms\tremaining: 4.02s\n",
      "89:\tlearn: 0.4692434\ttotal: 394ms\tremaining: 3.99s\n",
      "90:\tlearn: 0.4676877\ttotal: 397ms\tremaining: 3.96s\n",
      "91:\tlearn: 0.4663135\ttotal: 399ms\tremaining: 3.93s\n",
      "92:\tlearn: 0.4648501\ttotal: 401ms\tremaining: 3.91s\n",
      "93:\tlearn: 0.4634104\ttotal: 403ms\tremaining: 3.89s\n",
      "94:\tlearn: 0.4622453\ttotal: 405ms\tremaining: 3.86s\n",
      "95:\tlearn: 0.4610022\ttotal: 407ms\tremaining: 3.84s\n",
      "96:\tlearn: 0.4596122\ttotal: 409ms\tremaining: 3.81s\n",
      "97:\tlearn: 0.4586478\ttotal: 413ms\tremaining: 3.81s\n",
      "98:\tlearn: 0.4574414\ttotal: 418ms\tremaining: 3.81s\n",
      "99:\tlearn: 0.4564241\ttotal: 455ms\tremaining: 4.1s\n",
      "100:\tlearn: 0.4550640\ttotal: 458ms\tremaining: 4.08s\n",
      "101:\tlearn: 0.4542409\ttotal: 460ms\tremaining: 4.05s\n",
      "102:\tlearn: 0.4532567\ttotal: 463ms\tremaining: 4.03s\n",
      "103:\tlearn: 0.4520656\ttotal: 501ms\tremaining: 4.32s\n",
      "104:\tlearn: 0.4507238\ttotal: 504ms\tremaining: 4.3s\n",
      "105:\tlearn: 0.4498366\ttotal: 507ms\tremaining: 4.28s\n",
      "106:\tlearn: 0.4487896\ttotal: 510ms\tremaining: 4.25s\n",
      "107:\tlearn: 0.4479770\ttotal: 513ms\tremaining: 4.23s\n",
      "108:\tlearn: 0.4470681\ttotal: 516ms\tremaining: 4.21s\n",
      "109:\tlearn: 0.4461679\ttotal: 518ms\tremaining: 4.19s\n",
      "110:\tlearn: 0.4449306\ttotal: 521ms\tremaining: 4.17s\n",
      "111:\tlearn: 0.4442033\ttotal: 523ms\tremaining: 4.15s\n",
      "112:\tlearn: 0.4431958\ttotal: 525ms\tremaining: 4.12s\n",
      "113:\tlearn: 0.4420872\ttotal: 528ms\tremaining: 4.1s\n",
      "114:\tlearn: 0.4411093\ttotal: 530ms\tremaining: 4.08s\n",
      "115:\tlearn: 0.4404177\ttotal: 533ms\tremaining: 4.06s\n",
      "116:\tlearn: 0.4393393\ttotal: 535ms\tremaining: 4.04s\n",
      "117:\tlearn: 0.4385459\ttotal: 538ms\tremaining: 4.02s\n",
      "118:\tlearn: 0.4376311\ttotal: 540ms\tremaining: 4s\n",
      "119:\tlearn: 0.4365919\ttotal: 543ms\tremaining: 3.98s\n",
      "120:\tlearn: 0.4356995\ttotal: 545ms\tremaining: 3.96s\n",
      "121:\tlearn: 0.4348411\ttotal: 548ms\tremaining: 3.94s\n",
      "122:\tlearn: 0.4339453\ttotal: 551ms\tremaining: 3.92s\n",
      "123:\tlearn: 0.4328034\ttotal: 553ms\tremaining: 3.91s\n",
      "124:\tlearn: 0.4319283\ttotal: 555ms\tremaining: 3.88s\n",
      "125:\tlearn: 0.4312557\ttotal: 557ms\tremaining: 3.86s\n",
      "126:\tlearn: 0.4304026\ttotal: 559ms\tremaining: 3.85s\n",
      "127:\tlearn: 0.4298280\ttotal: 562ms\tremaining: 3.83s\n",
      "128:\tlearn: 0.4289908\ttotal: 564ms\tremaining: 3.81s\n",
      "129:\tlearn: 0.4281060\ttotal: 566ms\tremaining: 3.79s\n",
      "130:\tlearn: 0.4274906\ttotal: 568ms\tremaining: 3.77s\n",
      "131:\tlearn: 0.4263412\ttotal: 570ms\tremaining: 3.75s\n",
      "132:\tlearn: 0.4253331\ttotal: 572ms\tremaining: 3.73s\n",
      "133:\tlearn: 0.4243619\ttotal: 574ms\tremaining: 3.71s\n",
      "134:\tlearn: 0.4236335\ttotal: 577ms\tremaining: 3.69s\n",
      "135:\tlearn: 0.4228861\ttotal: 579ms\tremaining: 3.68s\n",
      "136:\tlearn: 0.4221383\ttotal: 581ms\tremaining: 3.66s\n",
      "137:\tlearn: 0.4212787\ttotal: 583ms\tremaining: 3.64s\n",
      "138:\tlearn: 0.4205727\ttotal: 585ms\tremaining: 3.63s\n",
      "139:\tlearn: 0.4198398\ttotal: 588ms\tremaining: 3.61s\n",
      "140:\tlearn: 0.4190528\ttotal: 590ms\tremaining: 3.6s\n",
      "141:\tlearn: 0.4181762\ttotal: 592ms\tremaining: 3.58s\n",
      "142:\tlearn: 0.4177653\ttotal: 594ms\tremaining: 3.56s\n",
      "143:\tlearn: 0.4171131\ttotal: 596ms\tremaining: 3.54s\n",
      "144:\tlearn: 0.4165639\ttotal: 599ms\tremaining: 3.53s\n",
      "145:\tlearn: 0.4156471\ttotal: 602ms\tremaining: 3.52s\n",
      "146:\tlearn: 0.4153234\ttotal: 608ms\tremaining: 3.53s\n",
      "147:\tlearn: 0.4145420\ttotal: 610ms\tremaining: 3.51s\n",
      "148:\tlearn: 0.4139180\ttotal: 612ms\tremaining: 3.5s\n",
      "149:\tlearn: 0.4128167\ttotal: 615ms\tremaining: 3.48s\n",
      "150:\tlearn: 0.4120071\ttotal: 617ms\tremaining: 3.47s\n",
      "151:\tlearn: 0.4115050\ttotal: 624ms\tremaining: 3.48s\n",
      "152:\tlearn: 0.4103879\ttotal: 628ms\tremaining: 3.47s\n",
      "153:\tlearn: 0.4096975\ttotal: 630ms\tremaining: 3.46s\n",
      "154:\tlearn: 0.4090180\ttotal: 633ms\tremaining: 3.45s\n",
      "155:\tlearn: 0.4084361\ttotal: 637ms\tremaining: 3.44s\n",
      "156:\tlearn: 0.4075079\ttotal: 639ms\tremaining: 3.43s\n",
      "157:\tlearn: 0.4070229\ttotal: 642ms\tremaining: 3.42s\n",
      "158:\tlearn: 0.4060864\ttotal: 644ms\tremaining: 3.41s\n",
      "159:\tlearn: 0.4055216\ttotal: 646ms\tremaining: 3.39s\n",
      "160:\tlearn: 0.4049737\ttotal: 648ms\tremaining: 3.38s\n",
      "161:\tlearn: 0.4043031\ttotal: 652ms\tremaining: 3.37s\n",
      "162:\tlearn: 0.4037889\ttotal: 655ms\tremaining: 3.36s\n",
      "163:\tlearn: 0.4029969\ttotal: 657ms\tremaining: 3.35s\n",
      "164:\tlearn: 0.4019218\ttotal: 659ms\tremaining: 3.33s\n",
      "165:\tlearn: 0.4013294\ttotal: 661ms\tremaining: 3.32s\n",
      "166:\tlearn: 0.4007642\ttotal: 664ms\tremaining: 3.31s\n",
      "167:\tlearn: 0.4000706\ttotal: 668ms\tremaining: 3.31s\n",
      "168:\tlearn: 0.3996680\ttotal: 671ms\tremaining: 3.3s\n",
      "169:\tlearn: 0.3989467\ttotal: 673ms\tremaining: 3.29s\n",
      "170:\tlearn: 0.3983710\ttotal: 676ms\tremaining: 3.27s\n",
      "171:\tlearn: 0.3975278\ttotal: 678ms\tremaining: 3.26s\n",
      "172:\tlearn: 0.3969084\ttotal: 681ms\tremaining: 3.25s\n",
      "173:\tlearn: 0.3965347\ttotal: 684ms\tremaining: 3.25s\n",
      "174:\tlearn: 0.3956732\ttotal: 686ms\tremaining: 3.24s\n"
     ]
    },
    {
     "name": "stdout",
     "output_type": "stream",
     "text": [
      "175:\tlearn: 0.3952873\ttotal: 690ms\tremaining: 3.23s\n",
      "176:\tlearn: 0.3945194\ttotal: 692ms\tremaining: 3.22s\n",
      "177:\tlearn: 0.3937662\ttotal: 695ms\tremaining: 3.21s\n",
      "178:\tlearn: 0.3930186\ttotal: 699ms\tremaining: 3.2s\n",
      "179:\tlearn: 0.3923731\ttotal: 701ms\tremaining: 3.19s\n",
      "180:\tlearn: 0.3918567\ttotal: 704ms\tremaining: 3.18s\n",
      "181:\tlearn: 0.3910109\ttotal: 706ms\tremaining: 3.17s\n",
      "182:\tlearn: 0.3904347\ttotal: 709ms\tremaining: 3.17s\n",
      "183:\tlearn: 0.3898631\ttotal: 712ms\tremaining: 3.16s\n",
      "184:\tlearn: 0.3889877\ttotal: 715ms\tremaining: 3.15s\n",
      "185:\tlearn: 0.3883860\ttotal: 718ms\tremaining: 3.14s\n",
      "186:\tlearn: 0.3876585\ttotal: 720ms\tremaining: 3.13s\n",
      "187:\tlearn: 0.3871096\ttotal: 722ms\tremaining: 3.12s\n",
      "188:\tlearn: 0.3866930\ttotal: 725ms\tremaining: 3.11s\n",
      "189:\tlearn: 0.3860056\ttotal: 728ms\tremaining: 3.1s\n",
      "190:\tlearn: 0.3854310\ttotal: 731ms\tremaining: 3.1s\n",
      "191:\tlearn: 0.3848506\ttotal: 733ms\tremaining: 3.08s\n",
      "192:\tlearn: 0.3842016\ttotal: 735ms\tremaining: 3.08s\n",
      "193:\tlearn: 0.3836819\ttotal: 738ms\tremaining: 3.06s\n",
      "194:\tlearn: 0.3830974\ttotal: 740ms\tremaining: 3.06s\n",
      "195:\tlearn: 0.3827259\ttotal: 743ms\tremaining: 3.05s\n",
      "196:\tlearn: 0.3822292\ttotal: 746ms\tremaining: 3.04s\n",
      "197:\tlearn: 0.3818127\ttotal: 748ms\tremaining: 3.03s\n",
      "198:\tlearn: 0.3813381\ttotal: 750ms\tremaining: 3.02s\n",
      "199:\tlearn: 0.3808627\ttotal: 753ms\tremaining: 3.01s\n",
      "200:\tlearn: 0.3802744\ttotal: 755ms\tremaining: 3s\n",
      "201:\tlearn: 0.3797151\ttotal: 757ms\tremaining: 2.99s\n",
      "202:\tlearn: 0.3792543\ttotal: 760ms\tremaining: 2.98s\n",
      "203:\tlearn: 0.3787526\ttotal: 762ms\tremaining: 2.98s\n",
      "204:\tlearn: 0.3783154\ttotal: 765ms\tremaining: 2.96s\n",
      "205:\tlearn: 0.3778142\ttotal: 767ms\tremaining: 2.96s\n",
      "206:\tlearn: 0.3770761\ttotal: 769ms\tremaining: 2.94s\n",
      "207:\tlearn: 0.3766516\ttotal: 771ms\tremaining: 2.94s\n",
      "208:\tlearn: 0.3760002\ttotal: 774ms\tremaining: 2.93s\n",
      "209:\tlearn: 0.3753742\ttotal: 777ms\tremaining: 2.92s\n",
      "210:\tlearn: 0.3748945\ttotal: 779ms\tremaining: 2.91s\n",
      "211:\tlearn: 0.3741601\ttotal: 781ms\tremaining: 2.9s\n",
      "212:\tlearn: 0.3737583\ttotal: 783ms\tremaining: 2.89s\n",
      "213:\tlearn: 0.3731306\ttotal: 785ms\tremaining: 2.88s\n",
      "214:\tlearn: 0.3725594\ttotal: 787ms\tremaining: 2.87s\n",
      "215:\tlearn: 0.3717840\ttotal: 790ms\tremaining: 2.87s\n",
      "216:\tlearn: 0.3712366\ttotal: 792ms\tremaining: 2.86s\n",
      "217:\tlearn: 0.3706128\ttotal: 794ms\tremaining: 2.85s\n",
      "218:\tlearn: 0.3701763\ttotal: 797ms\tremaining: 2.84s\n",
      "219:\tlearn: 0.3696732\ttotal: 799ms\tremaining: 2.83s\n",
      "220:\tlearn: 0.3694511\ttotal: 801ms\tremaining: 2.82s\n",
      "221:\tlearn: 0.3691241\ttotal: 803ms\tremaining: 2.81s\n",
      "222:\tlearn: 0.3685841\ttotal: 805ms\tremaining: 2.81s\n",
      "223:\tlearn: 0.3680235\ttotal: 808ms\tremaining: 2.8s\n",
      "224:\tlearn: 0.3674146\ttotal: 810ms\tremaining: 2.79s\n",
      "225:\tlearn: 0.3669959\ttotal: 812ms\tremaining: 2.78s\n",
      "226:\tlearn: 0.3664598\ttotal: 814ms\tremaining: 2.77s\n",
      "227:\tlearn: 0.3660285\ttotal: 816ms\tremaining: 2.76s\n",
      "228:\tlearn: 0.3656118\ttotal: 818ms\tremaining: 2.75s\n",
      "229:\tlearn: 0.3653013\ttotal: 820ms\tremaining: 2.74s\n",
      "230:\tlearn: 0.3648384\ttotal: 822ms\tremaining: 2.74s\n",
      "231:\tlearn: 0.3645751\ttotal: 824ms\tremaining: 2.73s\n",
      "232:\tlearn: 0.3642266\ttotal: 826ms\tremaining: 2.72s\n",
      "233:\tlearn: 0.3638032\ttotal: 828ms\tremaining: 2.71s\n",
      "234:\tlearn: 0.3634127\ttotal: 830ms\tremaining: 2.7s\n",
      "235:\tlearn: 0.3628147\ttotal: 832ms\tremaining: 2.69s\n",
      "236:\tlearn: 0.3624876\ttotal: 834ms\tremaining: 2.68s\n",
      "237:\tlearn: 0.3621678\ttotal: 836ms\tremaining: 2.68s\n",
      "238:\tlearn: 0.3617236\ttotal: 838ms\tremaining: 2.67s\n",
      "239:\tlearn: 0.3613139\ttotal: 840ms\tremaining: 2.66s\n",
      "240:\tlearn: 0.3608153\ttotal: 842ms\tremaining: 2.65s\n",
      "241:\tlearn: 0.3605083\ttotal: 844ms\tremaining: 2.64s\n",
      "242:\tlearn: 0.3600805\ttotal: 846ms\tremaining: 2.64s\n",
      "243:\tlearn: 0.3598540\ttotal: 848ms\tremaining: 2.63s\n",
      "244:\tlearn: 0.3594826\ttotal: 851ms\tremaining: 2.62s\n",
      "245:\tlearn: 0.3589942\ttotal: 853ms\tremaining: 2.61s\n",
      "246:\tlearn: 0.3580868\ttotal: 855ms\tremaining: 2.61s\n",
      "247:\tlearn: 0.3577168\ttotal: 857ms\tremaining: 2.6s\n",
      "248:\tlearn: 0.3572695\ttotal: 860ms\tremaining: 2.59s\n",
      "249:\tlearn: 0.3569883\ttotal: 863ms\tremaining: 2.59s\n",
      "250:\tlearn: 0.3564914\ttotal: 866ms\tremaining: 2.58s\n",
      "251:\tlearn: 0.3563154\ttotal: 868ms\tremaining: 2.58s\n",
      "252:\tlearn: 0.3559500\ttotal: 870ms\tremaining: 2.57s\n",
      "253:\tlearn: 0.3556725\ttotal: 872ms\tremaining: 2.56s\n",
      "254:\tlearn: 0.3554429\ttotal: 874ms\tremaining: 2.55s\n",
      "255:\tlearn: 0.3550410\ttotal: 877ms\tremaining: 2.55s\n",
      "256:\tlearn: 0.3544784\ttotal: 879ms\tremaining: 2.54s\n",
      "257:\tlearn: 0.3541264\ttotal: 881ms\tremaining: 2.53s\n",
      "258:\tlearn: 0.3534407\ttotal: 883ms\tremaining: 2.53s\n",
      "259:\tlearn: 0.3531235\ttotal: 886ms\tremaining: 2.52s\n",
      "260:\tlearn: 0.3527207\ttotal: 889ms\tremaining: 2.52s\n",
      "261:\tlearn: 0.3523243\ttotal: 891ms\tremaining: 2.51s\n",
      "262:\tlearn: 0.3520765\ttotal: 894ms\tremaining: 2.5s\n",
      "263:\tlearn: 0.3515223\ttotal: 897ms\tremaining: 2.5s\n",
      "264:\tlearn: 0.3511085\ttotal: 900ms\tremaining: 2.5s\n",
      "265:\tlearn: 0.3507609\ttotal: 904ms\tremaining: 2.5s\n",
      "266:\tlearn: 0.3505624\ttotal: 907ms\tremaining: 2.49s\n",
      "267:\tlearn: 0.3502285\ttotal: 909ms\tremaining: 2.48s\n",
      "268:\tlearn: 0.3497636\ttotal: 912ms\tremaining: 2.48s\n",
      "269:\tlearn: 0.3493754\ttotal: 915ms\tremaining: 2.47s\n",
      "270:\tlearn: 0.3490792\ttotal: 917ms\tremaining: 2.47s\n",
      "271:\tlearn: 0.3487020\ttotal: 920ms\tremaining: 2.46s\n",
      "272:\tlearn: 0.3483143\ttotal: 922ms\tremaining: 2.45s\n",
      "273:\tlearn: 0.3478934\ttotal: 924ms\tremaining: 2.45s\n",
      "274:\tlearn: 0.3475017\ttotal: 927ms\tremaining: 2.44s\n",
      "275:\tlearn: 0.3471957\ttotal: 930ms\tremaining: 2.44s\n",
      "276:\tlearn: 0.3468656\ttotal: 932ms\tremaining: 2.43s\n",
      "277:\tlearn: 0.3464868\ttotal: 934ms\tremaining: 2.43s\n",
      "278:\tlearn: 0.3462092\ttotal: 937ms\tremaining: 2.42s\n",
      "279:\tlearn: 0.3460606\ttotal: 939ms\tremaining: 2.41s\n",
      "280:\tlearn: 0.3455830\ttotal: 941ms\tremaining: 2.41s\n",
      "281:\tlearn: 0.3453044\ttotal: 944ms\tremaining: 2.4s\n",
      "282:\tlearn: 0.3444292\ttotal: 947ms\tremaining: 2.4s\n",
      "283:\tlearn: 0.3440907\ttotal: 949ms\tremaining: 2.39s\n",
      "284:\tlearn: 0.3435897\ttotal: 952ms\tremaining: 2.39s\n",
      "285:\tlearn: 0.3432924\ttotal: 955ms\tremaining: 2.38s\n",
      "286:\tlearn: 0.3429693\ttotal: 958ms\tremaining: 2.38s\n",
      "287:\tlearn: 0.3423841\ttotal: 960ms\tremaining: 2.37s\n",
      "288:\tlearn: 0.3419082\ttotal: 963ms\tremaining: 2.37s\n",
      "289:\tlearn: 0.3417444\ttotal: 967ms\tremaining: 2.37s\n",
      "290:\tlearn: 0.3413183\ttotal: 969ms\tremaining: 2.36s\n",
      "291:\tlearn: 0.3410967\ttotal: 971ms\tremaining: 2.35s\n",
      "292:\tlearn: 0.3405444\ttotal: 977ms\tremaining: 2.36s\n",
      "293:\tlearn: 0.3400621\ttotal: 983ms\tremaining: 2.36s\n",
      "294:\tlearn: 0.3397168\ttotal: 987ms\tremaining: 2.36s\n",
      "295:\tlearn: 0.3393361\ttotal: 996ms\tremaining: 2.37s\n",
      "296:\tlearn: 0.3390740\ttotal: 1s\tremaining: 2.37s\n",
      "297:\tlearn: 0.3385868\ttotal: 1s\tremaining: 2.36s\n",
      "298:\tlearn: 0.3383527\ttotal: 1.01s\tremaining: 2.37s\n",
      "299:\tlearn: 0.3381225\ttotal: 1.02s\tremaining: 2.37s\n",
      "300:\tlearn: 0.3377180\ttotal: 1.02s\tremaining: 2.37s\n",
      "301:\tlearn: 0.3373683\ttotal: 1.02s\tremaining: 2.36s\n",
      "302:\tlearn: 0.3369712\ttotal: 1.03s\tremaining: 2.36s\n",
      "303:\tlearn: 0.3365943\ttotal: 1.03s\tremaining: 2.36s\n",
      "304:\tlearn: 0.3361416\ttotal: 1.04s\tremaining: 2.38s\n",
      "305:\tlearn: 0.3357881\ttotal: 1.05s\tremaining: 2.37s\n",
      "306:\tlearn: 0.3355420\ttotal: 1.05s\tremaining: 2.38s\n",
      "307:\tlearn: 0.3353969\ttotal: 1.06s\tremaining: 2.37s\n",
      "308:\tlearn: 0.3350159\ttotal: 1.06s\tremaining: 2.37s\n",
      "309:\tlearn: 0.3347592\ttotal: 1.06s\tremaining: 2.37s\n",
      "310:\tlearn: 0.3344209\ttotal: 1.07s\tremaining: 2.36s\n",
      "311:\tlearn: 0.3340571\ttotal: 1.07s\tremaining: 2.36s\n",
      "312:\tlearn: 0.3337410\ttotal: 1.07s\tremaining: 2.35s\n",
      "313:\tlearn: 0.3335433\ttotal: 1.07s\tremaining: 2.35s\n",
      "314:\tlearn: 0.3331226\ttotal: 1.08s\tremaining: 2.35s\n",
      "315:\tlearn: 0.3326529\ttotal: 1.08s\tremaining: 2.34s\n",
      "316:\tlearn: 0.3324585\ttotal: 1.09s\tremaining: 2.34s\n",
      "317:\tlearn: 0.3319313\ttotal: 1.09s\tremaining: 2.33s\n",
      "318:\tlearn: 0.3317666\ttotal: 1.09s\tremaining: 2.33s\n",
      "319:\tlearn: 0.3316420\ttotal: 1.09s\tremaining: 2.33s\n",
      "320:\tlearn: 0.3313743\ttotal: 1.1s\tremaining: 2.32s\n",
      "321:\tlearn: 0.3311034\ttotal: 1.1s\tremaining: 2.32s\n",
      "322:\tlearn: 0.3308718\ttotal: 1.1s\tremaining: 2.31s\n",
      "323:\tlearn: 0.3305797\ttotal: 1.11s\tremaining: 2.31s\n",
      "324:\tlearn: 0.3303344\ttotal: 1.11s\tremaining: 2.31s\n",
      "325:\tlearn: 0.3299356\ttotal: 1.11s\tremaining: 2.3s\n",
      "326:\tlearn: 0.3297079\ttotal: 1.12s\tremaining: 2.3s\n",
      "327:\tlearn: 0.3293339\ttotal: 1.12s\tremaining: 2.3s\n",
      "328:\tlearn: 0.3289580\ttotal: 1.13s\tremaining: 2.3s\n",
      "329:\tlearn: 0.3285913\ttotal: 1.13s\tremaining: 2.3s\n",
      "330:\tlearn: 0.3282758\ttotal: 1.13s\tremaining: 2.29s\n",
      "331:\tlearn: 0.3279623\ttotal: 1.14s\tremaining: 2.29s\n",
      "332:\tlearn: 0.3274888\ttotal: 1.14s\tremaining: 2.29s\n",
      "333:\tlearn: 0.3271103\ttotal: 1.16s\tremaining: 2.3s\n",
      "334:\tlearn: 0.3266782\ttotal: 1.16s\tremaining: 2.3s\n",
      "335:\tlearn: 0.3263302\ttotal: 1.16s\tremaining: 2.29s\n",
      "336:\tlearn: 0.3260965\ttotal: 1.16s\tremaining: 2.29s\n",
      "337:\tlearn: 0.3259158\ttotal: 1.17s\tremaining: 2.29s\n",
      "338:\tlearn: 0.3258232\ttotal: 1.17s\tremaining: 2.29s\n",
      "339:\tlearn: 0.3256590\ttotal: 1.18s\tremaining: 2.28s\n",
      "340:\tlearn: 0.3251070\ttotal: 1.18s\tremaining: 2.28s\n",
      "341:\tlearn: 0.3248128\ttotal: 1.18s\tremaining: 2.27s\n",
      "342:\tlearn: 0.3245641\ttotal: 1.18s\tremaining: 2.27s\n",
      "343:\tlearn: 0.3244393\ttotal: 1.19s\tremaining: 2.26s\n",
      "344:\tlearn: 0.3239917\ttotal: 1.19s\tremaining: 2.26s\n",
      "345:\tlearn: 0.3236587\ttotal: 1.19s\tremaining: 2.25s\n",
      "346:\tlearn: 0.3232919\ttotal: 1.19s\tremaining: 2.25s\n",
      "347:\tlearn: 0.3229349\ttotal: 1.2s\tremaining: 2.24s\n",
      "348:\tlearn: 0.3227158\ttotal: 1.2s\tremaining: 2.24s\n"
     ]
    },
    {
     "name": "stdout",
     "output_type": "stream",
     "text": [
      "349:\tlearn: 0.3222736\ttotal: 1.2s\tremaining: 2.23s\n",
      "350:\tlearn: 0.3219319\ttotal: 1.21s\tremaining: 2.23s\n",
      "351:\tlearn: 0.3216924\ttotal: 1.21s\tremaining: 2.22s\n",
      "352:\tlearn: 0.3214005\ttotal: 1.21s\tremaining: 2.22s\n",
      "353:\tlearn: 0.3212561\ttotal: 1.21s\tremaining: 2.21s\n",
      "354:\tlearn: 0.3210802\ttotal: 1.22s\tremaining: 2.21s\n",
      "355:\tlearn: 0.3208611\ttotal: 1.22s\tremaining: 2.2s\n",
      "356:\tlearn: 0.3207409\ttotal: 1.22s\tremaining: 2.2s\n",
      "357:\tlearn: 0.3204410\ttotal: 1.22s\tremaining: 2.19s\n",
      "358:\tlearn: 0.3201386\ttotal: 1.23s\tremaining: 2.19s\n",
      "359:\tlearn: 0.3199546\ttotal: 1.23s\tremaining: 2.18s\n",
      "360:\tlearn: 0.3196740\ttotal: 1.23s\tremaining: 2.18s\n",
      "361:\tlearn: 0.3193086\ttotal: 1.23s\tremaining: 2.17s\n",
      "362:\tlearn: 0.3190555\ttotal: 1.23s\tremaining: 2.17s\n",
      "363:\tlearn: 0.3186316\ttotal: 1.24s\tremaining: 2.16s\n",
      "364:\tlearn: 0.3182750\ttotal: 1.24s\tremaining: 2.16s\n",
      "365:\tlearn: 0.3179150\ttotal: 1.24s\tremaining: 2.15s\n",
      "366:\tlearn: 0.3176213\ttotal: 1.24s\tremaining: 2.15s\n",
      "367:\tlearn: 0.3174330\ttotal: 1.25s\tremaining: 2.14s\n",
      "368:\tlearn: 0.3170058\ttotal: 1.25s\tremaining: 2.13s\n",
      "369:\tlearn: 0.3167177\ttotal: 1.25s\tremaining: 2.13s\n",
      "370:\tlearn: 0.3165966\ttotal: 1.25s\tremaining: 2.12s\n",
      "371:\tlearn: 0.3163434\ttotal: 1.25s\tremaining: 2.12s\n",
      "372:\tlearn: 0.3158102\ttotal: 1.26s\tremaining: 2.12s\n",
      "373:\tlearn: 0.3156989\ttotal: 1.26s\tremaining: 2.11s\n",
      "374:\tlearn: 0.3153516\ttotal: 1.26s\tremaining: 2.11s\n",
      "375:\tlearn: 0.3151365\ttotal: 1.27s\tremaining: 2.1s\n",
      "376:\tlearn: 0.3148602\ttotal: 1.27s\tremaining: 2.1s\n",
      "377:\tlearn: 0.3146425\ttotal: 1.27s\tremaining: 2.09s\n",
      "378:\tlearn: 0.3140533\ttotal: 1.27s\tremaining: 2.09s\n",
      "379:\tlearn: 0.3138100\ttotal: 1.28s\tremaining: 2.08s\n",
      "380:\tlearn: 0.3134537\ttotal: 1.28s\tremaining: 2.08s\n",
      "381:\tlearn: 0.3131326\ttotal: 1.28s\tremaining: 2.07s\n",
      "382:\tlearn: 0.3127691\ttotal: 1.28s\tremaining: 2.07s\n",
      "383:\tlearn: 0.3123777\ttotal: 1.29s\tremaining: 2.06s\n",
      "384:\tlearn: 0.3120189\ttotal: 1.29s\tremaining: 2.06s\n",
      "385:\tlearn: 0.3117879\ttotal: 1.29s\tremaining: 2.05s\n",
      "386:\tlearn: 0.3117281\ttotal: 1.29s\tremaining: 2.05s\n",
      "387:\tlearn: 0.3114269\ttotal: 1.3s\tremaining: 2.04s\n",
      "388:\tlearn: 0.3111523\ttotal: 1.3s\tremaining: 2.04s\n",
      "389:\tlearn: 0.3107485\ttotal: 1.3s\tremaining: 2.03s\n",
      "390:\tlearn: 0.3104823\ttotal: 1.3s\tremaining: 2.03s\n",
      "391:\tlearn: 0.3102043\ttotal: 1.31s\tremaining: 2.04s\n",
      "392:\tlearn: 0.3100756\ttotal: 1.32s\tremaining: 2.04s\n",
      "393:\tlearn: 0.3096455\ttotal: 1.32s\tremaining: 2.03s\n",
      "394:\tlearn: 0.3094293\ttotal: 1.32s\tremaining: 2.03s\n",
      "395:\tlearn: 0.3091670\ttotal: 1.33s\tremaining: 2.03s\n",
      "396:\tlearn: 0.3089720\ttotal: 1.33s\tremaining: 2.03s\n",
      "397:\tlearn: 0.3087352\ttotal: 1.34s\tremaining: 2.03s\n",
      "398:\tlearn: 0.3083025\ttotal: 1.34s\tremaining: 2.02s\n",
      "399:\tlearn: 0.3080730\ttotal: 1.35s\tremaining: 2.02s\n",
      "400:\tlearn: 0.3075862\ttotal: 1.35s\tremaining: 2.02s\n",
      "401:\tlearn: 0.3072950\ttotal: 1.35s\tremaining: 2.01s\n",
      "402:\tlearn: 0.3069260\ttotal: 1.35s\tremaining: 2.01s\n",
      "403:\tlearn: 0.3066624\ttotal: 1.36s\tremaining: 2s\n",
      "404:\tlearn: 0.3064005\ttotal: 1.36s\tremaining: 2s\n",
      "405:\tlearn: 0.3062175\ttotal: 1.36s\tremaining: 2s\n",
      "406:\tlearn: 0.3059133\ttotal: 1.37s\tremaining: 1.99s\n",
      "407:\tlearn: 0.3056401\ttotal: 1.37s\tremaining: 1.99s\n",
      "408:\tlearn: 0.3053706\ttotal: 1.37s\tremaining: 1.99s\n",
      "409:\tlearn: 0.3051702\ttotal: 1.38s\tremaining: 1.98s\n",
      "410:\tlearn: 0.3047998\ttotal: 1.38s\tremaining: 1.98s\n",
      "411:\tlearn: 0.3044851\ttotal: 1.39s\tremaining: 1.98s\n",
      "412:\tlearn: 0.3041596\ttotal: 1.39s\tremaining: 1.97s\n",
      "413:\tlearn: 0.3039484\ttotal: 1.39s\tremaining: 1.97s\n",
      "414:\tlearn: 0.3035868\ttotal: 1.4s\tremaining: 1.97s\n",
      "415:\tlearn: 0.3034963\ttotal: 1.4s\tremaining: 1.96s\n",
      "416:\tlearn: 0.3032978\ttotal: 1.4s\tremaining: 1.96s\n",
      "417:\tlearn: 0.3029297\ttotal: 1.4s\tremaining: 1.95s\n",
      "418:\tlearn: 0.3026614\ttotal: 1.41s\tremaining: 1.95s\n",
      "419:\tlearn: 0.3025338\ttotal: 1.41s\tremaining: 1.94s\n",
      "420:\tlearn: 0.3023329\ttotal: 1.41s\tremaining: 1.94s\n",
      "421:\tlearn: 0.3020878\ttotal: 1.41s\tremaining: 1.93s\n",
      "422:\tlearn: 0.3018350\ttotal: 1.42s\tremaining: 1.93s\n",
      "423:\tlearn: 0.3016547\ttotal: 1.42s\tremaining: 1.93s\n",
      "424:\tlearn: 0.3013340\ttotal: 1.42s\tremaining: 1.92s\n",
      "425:\tlearn: 0.3012067\ttotal: 1.42s\tremaining: 1.92s\n",
      "426:\tlearn: 0.3010644\ttotal: 1.43s\tremaining: 1.91s\n",
      "427:\tlearn: 0.3008560\ttotal: 1.43s\tremaining: 1.91s\n",
      "428:\tlearn: 0.3007435\ttotal: 1.43s\tremaining: 1.9s\n",
      "429:\tlearn: 0.3005282\ttotal: 1.43s\tremaining: 1.9s\n",
      "430:\tlearn: 0.3002332\ttotal: 1.44s\tremaining: 1.9s\n",
      "431:\tlearn: 0.2999973\ttotal: 1.44s\tremaining: 1.89s\n",
      "432:\tlearn: 0.2998342\ttotal: 1.44s\tremaining: 1.89s\n",
      "433:\tlearn: 0.2995772\ttotal: 1.44s\tremaining: 1.88s\n",
      "434:\tlearn: 0.2994191\ttotal: 1.45s\tremaining: 1.88s\n",
      "435:\tlearn: 0.2992121\ttotal: 1.45s\tremaining: 1.87s\n",
      "436:\tlearn: 0.2990371\ttotal: 1.45s\tremaining: 1.87s\n",
      "437:\tlearn: 0.2988313\ttotal: 1.45s\tremaining: 1.86s\n",
      "438:\tlearn: 0.2986686\ttotal: 1.46s\tremaining: 1.86s\n",
      "439:\tlearn: 0.2985372\ttotal: 1.46s\tremaining: 1.86s\n",
      "440:\tlearn: 0.2982802\ttotal: 1.46s\tremaining: 1.85s\n",
      "441:\tlearn: 0.2978098\ttotal: 1.46s\tremaining: 1.85s\n",
      "442:\tlearn: 0.2975569\ttotal: 1.47s\tremaining: 1.85s\n",
      "443:\tlearn: 0.2974696\ttotal: 1.47s\tremaining: 1.84s\n",
      "444:\tlearn: 0.2971000\ttotal: 1.48s\tremaining: 1.84s\n",
      "445:\tlearn: 0.2968185\ttotal: 1.48s\tremaining: 1.84s\n",
      "446:\tlearn: 0.2965820\ttotal: 1.48s\tremaining: 1.83s\n",
      "447:\tlearn: 0.2963367\ttotal: 1.48s\tremaining: 1.83s\n",
      "448:\tlearn: 0.2962052\ttotal: 1.49s\tremaining: 1.82s\n",
      "449:\tlearn: 0.2958710\ttotal: 1.49s\tremaining: 1.82s\n",
      "450:\tlearn: 0.2957278\ttotal: 1.49s\tremaining: 1.81s\n",
      "451:\tlearn: 0.2954078\ttotal: 1.49s\tremaining: 1.81s\n",
      "452:\tlearn: 0.2950464\ttotal: 1.5s\tremaining: 1.81s\n",
      "453:\tlearn: 0.2943738\ttotal: 1.5s\tremaining: 1.8s\n",
      "454:\tlearn: 0.2940240\ttotal: 1.5s\tremaining: 1.8s\n",
      "455:\tlearn: 0.2937387\ttotal: 1.5s\tremaining: 1.79s\n",
      "456:\tlearn: 0.2932645\ttotal: 1.51s\tremaining: 1.79s\n",
      "457:\tlearn: 0.2930212\ttotal: 1.51s\tremaining: 1.79s\n",
      "458:\tlearn: 0.2927047\ttotal: 1.52s\tremaining: 1.79s\n",
      "459:\tlearn: 0.2925782\ttotal: 1.52s\tremaining: 1.79s\n",
      "460:\tlearn: 0.2923455\ttotal: 1.53s\tremaining: 1.79s\n",
      "461:\tlearn: 0.2921114\ttotal: 1.53s\tremaining: 1.78s\n",
      "462:\tlearn: 0.2918372\ttotal: 1.53s\tremaining: 1.78s\n",
      "463:\tlearn: 0.2916646\ttotal: 1.54s\tremaining: 1.77s\n",
      "464:\tlearn: 0.2914858\ttotal: 1.54s\tremaining: 1.77s\n",
      "465:\tlearn: 0.2913746\ttotal: 1.54s\tremaining: 1.77s\n",
      "466:\tlearn: 0.2911112\ttotal: 1.54s\tremaining: 1.76s\n",
      "467:\tlearn: 0.2909419\ttotal: 1.55s\tremaining: 1.76s\n",
      "468:\tlearn: 0.2907768\ttotal: 1.55s\tremaining: 1.75s\n",
      "469:\tlearn: 0.2905672\ttotal: 1.55s\tremaining: 1.75s\n",
      "470:\tlearn: 0.2902868\ttotal: 1.56s\tremaining: 1.75s\n",
      "471:\tlearn: 0.2901459\ttotal: 1.56s\tremaining: 1.74s\n",
      "472:\tlearn: 0.2895721\ttotal: 1.56s\tremaining: 1.74s\n",
      "473:\tlearn: 0.2893069\ttotal: 1.56s\tremaining: 1.74s\n",
      "474:\tlearn: 0.2892238\ttotal: 1.57s\tremaining: 1.73s\n",
      "475:\tlearn: 0.2890793\ttotal: 1.57s\tremaining: 1.73s\n",
      "476:\tlearn: 0.2888606\ttotal: 1.57s\tremaining: 1.73s\n",
      "477:\tlearn: 0.2885725\ttotal: 1.58s\tremaining: 1.72s\n",
      "478:\tlearn: 0.2884059\ttotal: 1.58s\tremaining: 1.72s\n",
      "479:\tlearn: 0.2881226\ttotal: 1.58s\tremaining: 1.71s\n",
      "480:\tlearn: 0.2878577\ttotal: 1.58s\tremaining: 1.71s\n",
      "481:\tlearn: 0.2876443\ttotal: 1.59s\tremaining: 1.71s\n",
      "482:\tlearn: 0.2872679\ttotal: 1.59s\tremaining: 1.7s\n",
      "483:\tlearn: 0.2869225\ttotal: 1.59s\tremaining: 1.7s\n",
      "484:\tlearn: 0.2867176\ttotal: 1.59s\tremaining: 1.69s\n",
      "485:\tlearn: 0.2863829\ttotal: 1.6s\tremaining: 1.69s\n",
      "486:\tlearn: 0.2862343\ttotal: 1.6s\tremaining: 1.69s\n",
      "487:\tlearn: 0.2860281\ttotal: 1.6s\tremaining: 1.68s\n",
      "488:\tlearn: 0.2858158\ttotal: 1.61s\tremaining: 1.68s\n",
      "489:\tlearn: 0.2857030\ttotal: 1.61s\tremaining: 1.68s\n",
      "490:\tlearn: 0.2853467\ttotal: 1.62s\tremaining: 1.68s\n",
      "491:\tlearn: 0.2852238\ttotal: 1.62s\tremaining: 1.67s\n",
      "492:\tlearn: 0.2848703\ttotal: 1.62s\tremaining: 1.67s\n",
      "493:\tlearn: 0.2847930\ttotal: 1.63s\tremaining: 1.67s\n",
      "494:\tlearn: 0.2844460\ttotal: 1.63s\tremaining: 1.66s\n",
      "495:\tlearn: 0.2842826\ttotal: 1.63s\tremaining: 1.66s\n",
      "496:\tlearn: 0.2840736\ttotal: 1.64s\tremaining: 1.66s\n",
      "497:\tlearn: 0.2838086\ttotal: 1.64s\tremaining: 1.65s\n",
      "498:\tlearn: 0.2836780\ttotal: 1.64s\tremaining: 1.65s\n",
      "499:\tlearn: 0.2835099\ttotal: 1.65s\tremaining: 1.65s\n",
      "500:\tlearn: 0.2833241\ttotal: 1.65s\tremaining: 1.64s\n",
      "501:\tlearn: 0.2831782\ttotal: 1.65s\tremaining: 1.64s\n",
      "502:\tlearn: 0.2829458\ttotal: 1.65s\tremaining: 1.64s\n",
      "503:\tlearn: 0.2824786\ttotal: 1.66s\tremaining: 1.63s\n",
      "504:\tlearn: 0.2823866\ttotal: 1.66s\tremaining: 1.63s\n",
      "505:\tlearn: 0.2821895\ttotal: 1.66s\tremaining: 1.63s\n",
      "506:\tlearn: 0.2817553\ttotal: 1.67s\tremaining: 1.62s\n",
      "507:\tlearn: 0.2815476\ttotal: 1.67s\tremaining: 1.62s\n",
      "508:\tlearn: 0.2813923\ttotal: 1.67s\tremaining: 1.61s\n",
      "509:\tlearn: 0.2812253\ttotal: 1.68s\tremaining: 1.61s\n",
      "510:\tlearn: 0.2811270\ttotal: 1.68s\tremaining: 1.61s\n",
      "511:\tlearn: 0.2809442\ttotal: 1.68s\tremaining: 1.6s\n",
      "512:\tlearn: 0.2806583\ttotal: 1.68s\tremaining: 1.6s\n",
      "513:\tlearn: 0.2804053\ttotal: 1.69s\tremaining: 1.59s\n",
      "514:\tlearn: 0.2802933\ttotal: 1.69s\tremaining: 1.59s\n",
      "515:\tlearn: 0.2802130\ttotal: 1.69s\tremaining: 1.58s\n",
      "516:\tlearn: 0.2800198\ttotal: 1.69s\tremaining: 1.58s\n",
      "517:\tlearn: 0.2797297\ttotal: 1.7s\tremaining: 1.58s\n",
      "518:\tlearn: 0.2792613\ttotal: 1.7s\tremaining: 1.57s\n",
      "519:\tlearn: 0.2791178\ttotal: 1.7s\tremaining: 1.57s\n",
      "520:\tlearn: 0.2787684\ttotal: 1.7s\tremaining: 1.56s\n"
     ]
    },
    {
     "name": "stdout",
     "output_type": "stream",
     "text": [
      "521:\tlearn: 0.2785238\ttotal: 1.71s\tremaining: 1.56s\n",
      "522:\tlearn: 0.2784354\ttotal: 1.71s\tremaining: 1.56s\n",
      "523:\tlearn: 0.2782083\ttotal: 1.71s\tremaining: 1.55s\n",
      "524:\tlearn: 0.2779862\ttotal: 1.71s\tremaining: 1.55s\n",
      "525:\tlearn: 0.2778577\ttotal: 1.72s\tremaining: 1.55s\n",
      "526:\tlearn: 0.2776799\ttotal: 1.72s\tremaining: 1.54s\n",
      "527:\tlearn: 0.2774047\ttotal: 1.72s\tremaining: 1.54s\n",
      "528:\tlearn: 0.2770705\ttotal: 1.72s\tremaining: 1.53s\n",
      "529:\tlearn: 0.2767879\ttotal: 1.73s\tremaining: 1.53s\n",
      "530:\tlearn: 0.2765573\ttotal: 1.73s\tremaining: 1.53s\n",
      "531:\tlearn: 0.2762926\ttotal: 1.73s\tremaining: 1.52s\n",
      "532:\tlearn: 0.2760226\ttotal: 1.73s\tremaining: 1.52s\n",
      "533:\tlearn: 0.2759634\ttotal: 1.73s\tremaining: 1.51s\n",
      "534:\tlearn: 0.2755854\ttotal: 1.74s\tremaining: 1.51s\n",
      "535:\tlearn: 0.2753839\ttotal: 1.74s\tremaining: 1.51s\n",
      "536:\tlearn: 0.2748993\ttotal: 1.74s\tremaining: 1.5s\n",
      "537:\tlearn: 0.2747174\ttotal: 1.75s\tremaining: 1.5s\n",
      "538:\tlearn: 0.2745669\ttotal: 1.75s\tremaining: 1.5s\n",
      "539:\tlearn: 0.2742959\ttotal: 1.75s\tremaining: 1.49s\n",
      "540:\tlearn: 0.2740799\ttotal: 1.75s\tremaining: 1.49s\n",
      "541:\tlearn: 0.2739597\ttotal: 1.76s\tremaining: 1.49s\n",
      "542:\tlearn: 0.2737468\ttotal: 1.76s\tremaining: 1.48s\n",
      "543:\tlearn: 0.2736213\ttotal: 1.76s\tremaining: 1.48s\n",
      "544:\tlearn: 0.2734265\ttotal: 1.77s\tremaining: 1.48s\n",
      "545:\tlearn: 0.2731554\ttotal: 1.77s\tremaining: 1.47s\n",
      "546:\tlearn: 0.2730985\ttotal: 1.77s\tremaining: 1.47s\n",
      "547:\tlearn: 0.2727592\ttotal: 1.78s\tremaining: 1.47s\n",
      "548:\tlearn: 0.2725759\ttotal: 1.78s\tremaining: 1.46s\n",
      "549:\tlearn: 0.2723701\ttotal: 1.78s\tremaining: 1.46s\n",
      "550:\tlearn: 0.2720963\ttotal: 1.78s\tremaining: 1.45s\n",
      "551:\tlearn: 0.2717838\ttotal: 1.79s\tremaining: 1.45s\n",
      "552:\tlearn: 0.2716459\ttotal: 1.79s\tremaining: 1.45s\n",
      "553:\tlearn: 0.2714241\ttotal: 1.79s\tremaining: 1.44s\n",
      "554:\tlearn: 0.2710796\ttotal: 1.79s\tremaining: 1.44s\n",
      "555:\tlearn: 0.2708530\ttotal: 1.79s\tremaining: 1.43s\n",
      "556:\tlearn: 0.2707057\ttotal: 1.8s\tremaining: 1.43s\n",
      "557:\tlearn: 0.2702598\ttotal: 1.8s\tremaining: 1.43s\n",
      "558:\tlearn: 0.2701429\ttotal: 1.8s\tremaining: 1.42s\n",
      "559:\tlearn: 0.2699466\ttotal: 1.8s\tremaining: 1.42s\n",
      "560:\tlearn: 0.2697293\ttotal: 1.81s\tremaining: 1.41s\n",
      "561:\tlearn: 0.2694486\ttotal: 1.81s\tremaining: 1.41s\n",
      "562:\tlearn: 0.2690466\ttotal: 1.81s\tremaining: 1.41s\n",
      "563:\tlearn: 0.2689248\ttotal: 1.81s\tremaining: 1.4s\n",
      "564:\tlearn: 0.2686948\ttotal: 1.82s\tremaining: 1.4s\n",
      "565:\tlearn: 0.2685619\ttotal: 1.82s\tremaining: 1.4s\n",
      "566:\tlearn: 0.2683828\ttotal: 1.82s\tremaining: 1.39s\n",
      "567:\tlearn: 0.2679790\ttotal: 1.82s\tremaining: 1.39s\n",
      "568:\tlearn: 0.2678450\ttotal: 1.83s\tremaining: 1.38s\n",
      "569:\tlearn: 0.2676119\ttotal: 1.83s\tremaining: 1.38s\n",
      "570:\tlearn: 0.2673814\ttotal: 1.83s\tremaining: 1.38s\n",
      "571:\tlearn: 0.2672294\ttotal: 1.84s\tremaining: 1.37s\n",
      "572:\tlearn: 0.2669753\ttotal: 1.84s\tremaining: 1.37s\n",
      "573:\tlearn: 0.2668201\ttotal: 1.84s\tremaining: 1.37s\n",
      "574:\tlearn: 0.2663744\ttotal: 1.84s\tremaining: 1.36s\n",
      "575:\tlearn: 0.2663089\ttotal: 1.85s\tremaining: 1.36s\n",
      "576:\tlearn: 0.2661984\ttotal: 1.85s\tremaining: 1.36s\n",
      "577:\tlearn: 0.2657423\ttotal: 1.85s\tremaining: 1.35s\n",
      "578:\tlearn: 0.2655906\ttotal: 1.85s\tremaining: 1.35s\n",
      "579:\tlearn: 0.2652973\ttotal: 1.86s\tremaining: 1.34s\n",
      "580:\tlearn: 0.2651702\ttotal: 1.86s\tremaining: 1.34s\n",
      "581:\tlearn: 0.2649804\ttotal: 1.86s\tremaining: 1.34s\n",
      "582:\tlearn: 0.2648733\ttotal: 1.86s\tremaining: 1.33s\n",
      "583:\tlearn: 0.2645161\ttotal: 1.86s\tremaining: 1.33s\n",
      "584:\tlearn: 0.2643629\ttotal: 1.87s\tremaining: 1.32s\n",
      "585:\tlearn: 0.2640424\ttotal: 1.87s\tremaining: 1.32s\n",
      "586:\tlearn: 0.2639059\ttotal: 1.87s\tremaining: 1.32s\n",
      "587:\tlearn: 0.2635783\ttotal: 1.88s\tremaining: 1.31s\n",
      "588:\tlearn: 0.2633252\ttotal: 1.88s\tremaining: 1.31s\n",
      "589:\tlearn: 0.2631536\ttotal: 1.88s\tremaining: 1.31s\n",
      "590:\tlearn: 0.2629800\ttotal: 1.88s\tremaining: 1.3s\n",
      "591:\tlearn: 0.2626833\ttotal: 1.89s\tremaining: 1.3s\n",
      "592:\tlearn: 0.2624857\ttotal: 1.89s\tremaining: 1.3s\n",
      "593:\tlearn: 0.2622796\ttotal: 1.89s\tremaining: 1.29s\n",
      "594:\tlearn: 0.2619838\ttotal: 1.89s\tremaining: 1.29s\n",
      "595:\tlearn: 0.2618002\ttotal: 1.9s\tremaining: 1.28s\n",
      "596:\tlearn: 0.2615721\ttotal: 1.9s\tremaining: 1.28s\n",
      "597:\tlearn: 0.2615152\ttotal: 1.9s\tremaining: 1.28s\n",
      "598:\tlearn: 0.2613501\ttotal: 1.9s\tremaining: 1.27s\n",
      "599:\tlearn: 0.2611080\ttotal: 1.91s\tremaining: 1.27s\n",
      "600:\tlearn: 0.2609645\ttotal: 1.91s\tremaining: 1.27s\n",
      "601:\tlearn: 0.2606897\ttotal: 1.91s\tremaining: 1.26s\n",
      "602:\tlearn: 0.2602639\ttotal: 1.91s\tremaining: 1.26s\n",
      "603:\tlearn: 0.2599329\ttotal: 1.92s\tremaining: 1.26s\n",
      "604:\tlearn: 0.2597957\ttotal: 1.92s\tremaining: 1.25s\n",
      "605:\tlearn: 0.2595943\ttotal: 1.92s\tremaining: 1.25s\n",
      "606:\tlearn: 0.2593111\ttotal: 1.92s\tremaining: 1.25s\n",
      "607:\tlearn: 0.2591161\ttotal: 1.93s\tremaining: 1.24s\n",
      "608:\tlearn: 0.2588429\ttotal: 1.93s\tremaining: 1.24s\n",
      "609:\tlearn: 0.2586168\ttotal: 1.93s\tremaining: 1.23s\n",
      "610:\tlearn: 0.2583814\ttotal: 1.93s\tremaining: 1.23s\n",
      "611:\tlearn: 0.2582859\ttotal: 1.93s\tremaining: 1.23s\n",
      "612:\tlearn: 0.2581228\ttotal: 1.94s\tremaining: 1.22s\n",
      "613:\tlearn: 0.2576821\ttotal: 1.94s\tremaining: 1.22s\n",
      "614:\tlearn: 0.2573665\ttotal: 1.94s\tremaining: 1.22s\n",
      "615:\tlearn: 0.2571712\ttotal: 1.94s\tremaining: 1.21s\n",
      "616:\tlearn: 0.2569123\ttotal: 1.95s\tremaining: 1.21s\n",
      "617:\tlearn: 0.2567421\ttotal: 1.95s\tremaining: 1.2s\n",
      "618:\tlearn: 0.2565468\ttotal: 1.95s\tremaining: 1.2s\n",
      "619:\tlearn: 0.2560903\ttotal: 1.95s\tremaining: 1.2s\n",
      "620:\tlearn: 0.2558848\ttotal: 1.95s\tremaining: 1.19s\n",
      "621:\tlearn: 0.2557082\ttotal: 1.96s\tremaining: 1.19s\n",
      "622:\tlearn: 0.2555673\ttotal: 1.96s\tremaining: 1.19s\n",
      "623:\tlearn: 0.2553104\ttotal: 1.96s\tremaining: 1.18s\n",
      "624:\tlearn: 0.2551517\ttotal: 1.96s\tremaining: 1.18s\n",
      "625:\tlearn: 0.2548730\ttotal: 1.96s\tremaining: 1.17s\n",
      "626:\tlearn: 0.2547001\ttotal: 1.97s\tremaining: 1.17s\n",
      "627:\tlearn: 0.2545593\ttotal: 1.97s\tremaining: 1.17s\n",
      "628:\tlearn: 0.2543065\ttotal: 1.97s\tremaining: 1.16s\n",
      "629:\tlearn: 0.2541924\ttotal: 1.97s\tremaining: 1.16s\n",
      "630:\tlearn: 0.2540412\ttotal: 1.98s\tremaining: 1.16s\n",
      "631:\tlearn: 0.2540272\ttotal: 1.98s\tremaining: 1.15s\n",
      "632:\tlearn: 0.2538574\ttotal: 1.98s\tremaining: 1.15s\n",
      "633:\tlearn: 0.2535445\ttotal: 1.98s\tremaining: 1.14s\n",
      "634:\tlearn: 0.2533613\ttotal: 1.98s\tremaining: 1.14s\n",
      "635:\tlearn: 0.2532291\ttotal: 1.99s\tremaining: 1.14s\n",
      "636:\tlearn: 0.2529860\ttotal: 1.99s\tremaining: 1.13s\n",
      "637:\tlearn: 0.2529107\ttotal: 1.99s\tremaining: 1.13s\n",
      "638:\tlearn: 0.2528306\ttotal: 1.99s\tremaining: 1.13s\n",
      "639:\tlearn: 0.2527318\ttotal: 1.99s\tremaining: 1.12s\n",
      "640:\tlearn: 0.2526089\ttotal: 2s\tremaining: 1.12s\n",
      "641:\tlearn: 0.2523294\ttotal: 2s\tremaining: 1.11s\n",
      "642:\tlearn: 0.2521745\ttotal: 2s\tremaining: 1.11s\n",
      "643:\tlearn: 0.2520903\ttotal: 2s\tremaining: 1.11s\n",
      "644:\tlearn: 0.2518111\ttotal: 2s\tremaining: 1.1s\n",
      "645:\tlearn: 0.2517013\ttotal: 2.01s\tremaining: 1.1s\n",
      "646:\tlearn: 0.2513785\ttotal: 2.01s\tremaining: 1.1s\n",
      "647:\tlearn: 0.2510264\ttotal: 2.01s\tremaining: 1.09s\n",
      "648:\tlearn: 0.2509075\ttotal: 2.01s\tremaining: 1.09s\n",
      "649:\tlearn: 0.2507789\ttotal: 2.02s\tremaining: 1.08s\n",
      "650:\tlearn: 0.2505793\ttotal: 2.02s\tremaining: 1.08s\n",
      "651:\tlearn: 0.2504598\ttotal: 2.02s\tremaining: 1.08s\n",
      "652:\tlearn: 0.2502472\ttotal: 2.02s\tremaining: 1.07s\n",
      "653:\tlearn: 0.2501631\ttotal: 2.02s\tremaining: 1.07s\n",
      "654:\tlearn: 0.2500554\ttotal: 2.03s\tremaining: 1.07s\n",
      "655:\tlearn: 0.2499953\ttotal: 2.03s\tremaining: 1.06s\n",
      "656:\tlearn: 0.2497997\ttotal: 2.03s\tremaining: 1.06s\n",
      "657:\tlearn: 0.2496228\ttotal: 2.03s\tremaining: 1.06s\n",
      "658:\tlearn: 0.2493790\ttotal: 2.04s\tremaining: 1.05s\n",
      "659:\tlearn: 0.2490870\ttotal: 2.04s\tremaining: 1.05s\n",
      "660:\tlearn: 0.2489131\ttotal: 2.04s\tremaining: 1.05s\n",
      "661:\tlearn: 0.2487822\ttotal: 2.04s\tremaining: 1.04s\n",
      "662:\tlearn: 0.2486344\ttotal: 2.04s\tremaining: 1.04s\n",
      "663:\tlearn: 0.2485112\ttotal: 2.05s\tremaining: 1.04s\n",
      "664:\tlearn: 0.2483456\ttotal: 2.05s\tremaining: 1.03s\n",
      "665:\tlearn: 0.2478812\ttotal: 2.05s\tremaining: 1.03s\n",
      "666:\tlearn: 0.2477720\ttotal: 2.05s\tremaining: 1.02s\n",
      "667:\tlearn: 0.2476856\ttotal: 2.06s\tremaining: 1.02s\n",
      "668:\tlearn: 0.2473703\ttotal: 2.06s\tremaining: 1.02s\n",
      "669:\tlearn: 0.2469242\ttotal: 2.06s\tremaining: 1.01s\n",
      "670:\tlearn: 0.2468015\ttotal: 2.06s\tremaining: 1.01s\n",
      "671:\tlearn: 0.2464829\ttotal: 2.07s\tremaining: 1.01s\n",
      "672:\tlearn: 0.2462695\ttotal: 2.07s\tremaining: 1s\n",
      "673:\tlearn: 0.2460049\ttotal: 2.07s\tremaining: 1s\n",
      "674:\tlearn: 0.2459397\ttotal: 2.08s\tremaining: 999ms\n",
      "675:\tlearn: 0.2457831\ttotal: 2.08s\tremaining: 996ms\n",
      "676:\tlearn: 0.2456189\ttotal: 2.08s\tremaining: 993ms\n",
      "677:\tlearn: 0.2453592\ttotal: 2.08s\tremaining: 990ms\n",
      "678:\tlearn: 0.2450781\ttotal: 2.09s\tremaining: 986ms\n",
      "679:\tlearn: 0.2449079\ttotal: 2.09s\tremaining: 984ms\n",
      "680:\tlearn: 0.2447622\ttotal: 2.09s\tremaining: 981ms\n",
      "681:\tlearn: 0.2446009\ttotal: 2.1s\tremaining: 978ms\n",
      "682:\tlearn: 0.2444911\ttotal: 2.1s\tremaining: 975ms\n",
      "683:\tlearn: 0.2442647\ttotal: 2.1s\tremaining: 972ms\n",
      "684:\tlearn: 0.2439881\ttotal: 2.11s\tremaining: 969ms\n",
      "685:\tlearn: 0.2438743\ttotal: 2.11s\tremaining: 966ms\n",
      "686:\tlearn: 0.2436232\ttotal: 2.11s\tremaining: 963ms\n",
      "687:\tlearn: 0.2432542\ttotal: 2.12s\tremaining: 960ms\n",
      "688:\tlearn: 0.2430422\ttotal: 2.12s\tremaining: 957ms\n",
      "689:\tlearn: 0.2427875\ttotal: 2.12s\tremaining: 953ms\n",
      "690:\tlearn: 0.2426080\ttotal: 2.12s\tremaining: 950ms\n",
      "691:\tlearn: 0.2423995\ttotal: 2.13s\tremaining: 947ms\n",
      "692:\tlearn: 0.2422839\ttotal: 2.13s\tremaining: 943ms\n",
      "693:\tlearn: 0.2419745\ttotal: 2.13s\tremaining: 940ms\n",
      "694:\tlearn: 0.2419342\ttotal: 2.13s\tremaining: 937ms\n",
      "695:\tlearn: 0.2417488\ttotal: 2.14s\tremaining: 933ms\n",
      "696:\tlearn: 0.2416767\ttotal: 2.14s\tremaining: 930ms\n",
      "697:\tlearn: 0.2415790\ttotal: 2.14s\tremaining: 926ms\n",
      "698:\tlearn: 0.2412939\ttotal: 2.14s\tremaining: 923ms\n",
      "699:\tlearn: 0.2411213\ttotal: 2.15s\tremaining: 919ms\n",
      "700:\tlearn: 0.2408446\ttotal: 2.15s\tremaining: 916ms\n",
      "701:\tlearn: 0.2405587\ttotal: 2.15s\tremaining: 913ms\n",
      "702:\tlearn: 0.2403313\ttotal: 2.15s\tremaining: 909ms\n",
      "703:\tlearn: 0.2401492\ttotal: 2.15s\tremaining: 906ms\n",
      "704:\tlearn: 0.2398918\ttotal: 2.15s\tremaining: 902ms\n",
      "705:\tlearn: 0.2396047\ttotal: 2.16s\tremaining: 899ms\n",
      "706:\tlearn: 0.2395006\ttotal: 2.16s\tremaining: 895ms\n",
      "707:\tlearn: 0.2394055\ttotal: 2.16s\tremaining: 892ms\n",
      "708:\tlearn: 0.2392352\ttotal: 2.16s\tremaining: 888ms\n",
      "709:\tlearn: 0.2390019\ttotal: 2.17s\tremaining: 885ms\n",
      "710:\tlearn: 0.2388457\ttotal: 2.17s\tremaining: 882ms\n",
      "711:\tlearn: 0.2386594\ttotal: 2.17s\tremaining: 878ms\n",
      "712:\tlearn: 0.2385861\ttotal: 2.17s\tremaining: 875ms\n",
      "713:\tlearn: 0.2383764\ttotal: 2.17s\tremaining: 871ms\n",
      "714:\tlearn: 0.2382499\ttotal: 2.18s\tremaining: 868ms\n",
      "715:\tlearn: 0.2380496\ttotal: 2.18s\tremaining: 865ms\n",
      "716:\tlearn: 0.2377915\ttotal: 2.18s\tremaining: 861ms\n",
      "717:\tlearn: 0.2376989\ttotal: 2.18s\tremaining: 858ms\n",
      "718:\tlearn: 0.2375933\ttotal: 2.19s\tremaining: 854ms\n",
      "719:\tlearn: 0.2374398\ttotal: 2.19s\tremaining: 851ms\n",
      "720:\tlearn: 0.2372318\ttotal: 2.19s\tremaining: 848ms\n",
      "721:\tlearn: 0.2370847\ttotal: 2.19s\tremaining: 844ms\n",
      "722:\tlearn: 0.2367496\ttotal: 2.19s\tremaining: 841ms\n",
      "723:\tlearn: 0.2363787\ttotal: 2.2s\tremaining: 838ms\n",
      "724:\tlearn: 0.2362295\ttotal: 2.2s\tremaining: 835ms\n",
      "725:\tlearn: 0.2361886\ttotal: 2.2s\tremaining: 832ms\n",
      "726:\tlearn: 0.2360077\ttotal: 2.21s\tremaining: 829ms\n",
      "727:\tlearn: 0.2358936\ttotal: 2.23s\tremaining: 831ms\n"
     ]
    },
    {
     "name": "stdout",
     "output_type": "stream",
     "text": [
      "728:\tlearn: 0.2357625\ttotal: 2.23s\tremaining: 829ms\n",
      "729:\tlearn: 0.2356657\ttotal: 2.25s\tremaining: 830ms\n",
      "730:\tlearn: 0.2355083\ttotal: 2.25s\tremaining: 827ms\n",
      "731:\tlearn: 0.2354345\ttotal: 2.25s\tremaining: 825ms\n",
      "732:\tlearn: 0.2353153\ttotal: 2.26s\tremaining: 823ms\n",
      "733:\tlearn: 0.2352290\ttotal: 2.26s\tremaining: 820ms\n",
      "734:\tlearn: 0.2351001\ttotal: 2.27s\tremaining: 817ms\n",
      "735:\tlearn: 0.2349968\ttotal: 2.27s\tremaining: 814ms\n",
      "736:\tlearn: 0.2349104\ttotal: 2.27s\tremaining: 812ms\n",
      "737:\tlearn: 0.2348057\ttotal: 2.28s\tremaining: 809ms\n",
      "738:\tlearn: 0.2346429\ttotal: 2.28s\tremaining: 806ms\n",
      "739:\tlearn: 0.2344062\ttotal: 2.29s\tremaining: 803ms\n",
      "740:\tlearn: 0.2343251\ttotal: 2.29s\tremaining: 800ms\n",
      "741:\tlearn: 0.2339286\ttotal: 2.29s\tremaining: 797ms\n",
      "742:\tlearn: 0.2337558\ttotal: 2.29s\tremaining: 794ms\n",
      "743:\tlearn: 0.2336824\ttotal: 2.3s\tremaining: 790ms\n",
      "744:\tlearn: 0.2336136\ttotal: 2.3s\tremaining: 787ms\n",
      "745:\tlearn: 0.2334585\ttotal: 2.3s\tremaining: 784ms\n",
      "746:\tlearn: 0.2330439\ttotal: 2.3s\tremaining: 781ms\n",
      "747:\tlearn: 0.2327640\ttotal: 2.31s\tremaining: 777ms\n",
      "748:\tlearn: 0.2325958\ttotal: 2.31s\tremaining: 774ms\n",
      "749:\tlearn: 0.2323885\ttotal: 2.31s\tremaining: 770ms\n",
      "750:\tlearn: 0.2321622\ttotal: 2.31s\tremaining: 767ms\n",
      "751:\tlearn: 0.2320129\ttotal: 2.31s\tremaining: 763ms\n",
      "752:\tlearn: 0.2319447\ttotal: 2.32s\tremaining: 760ms\n",
      "753:\tlearn: 0.2318012\ttotal: 2.32s\tremaining: 757ms\n",
      "754:\tlearn: 0.2316776\ttotal: 2.32s\tremaining: 753ms\n",
      "755:\tlearn: 0.2315503\ttotal: 2.32s\tremaining: 750ms\n",
      "756:\tlearn: 0.2313964\ttotal: 2.33s\tremaining: 747ms\n",
      "757:\tlearn: 0.2313403\ttotal: 2.33s\tremaining: 743ms\n",
      "758:\tlearn: 0.2311582\ttotal: 2.33s\tremaining: 740ms\n",
      "759:\tlearn: 0.2309643\ttotal: 2.33s\tremaining: 737ms\n",
      "760:\tlearn: 0.2308683\ttotal: 2.33s\tremaining: 733ms\n",
      "761:\tlearn: 0.2306519\ttotal: 2.34s\tremaining: 730ms\n",
      "762:\tlearn: 0.2304512\ttotal: 2.34s\tremaining: 727ms\n",
      "763:\tlearn: 0.2303585\ttotal: 2.34s\tremaining: 723ms\n",
      "764:\tlearn: 0.2301186\ttotal: 2.34s\tremaining: 720ms\n",
      "765:\tlearn: 0.2299520\ttotal: 2.35s\tremaining: 717ms\n",
      "766:\tlearn: 0.2298211\ttotal: 2.35s\tremaining: 713ms\n",
      "767:\tlearn: 0.2296461\ttotal: 2.35s\tremaining: 710ms\n",
      "768:\tlearn: 0.2294316\ttotal: 2.35s\tremaining: 707ms\n",
      "769:\tlearn: 0.2292530\ttotal: 2.35s\tremaining: 703ms\n",
      "770:\tlearn: 0.2290728\ttotal: 2.35s\tremaining: 700ms\n",
      "771:\tlearn: 0.2288433\ttotal: 2.36s\tremaining: 696ms\n",
      "772:\tlearn: 0.2287000\ttotal: 2.36s\tremaining: 693ms\n",
      "773:\tlearn: 0.2284832\ttotal: 2.36s\tremaining: 690ms\n",
      "774:\tlearn: 0.2283585\ttotal: 2.36s\tremaining: 686ms\n",
      "775:\tlearn: 0.2282229\ttotal: 2.37s\tremaining: 683ms\n",
      "776:\tlearn: 0.2281303\ttotal: 2.37s\tremaining: 680ms\n",
      "777:\tlearn: 0.2279449\ttotal: 2.37s\tremaining: 676ms\n",
      "778:\tlearn: 0.2277649\ttotal: 2.37s\tremaining: 673ms\n",
      "779:\tlearn: 0.2276696\ttotal: 2.37s\tremaining: 670ms\n",
      "780:\tlearn: 0.2274767\ttotal: 2.38s\tremaining: 666ms\n",
      "781:\tlearn: 0.2272327\ttotal: 2.38s\tremaining: 663ms\n",
      "782:\tlearn: 0.2270917\ttotal: 2.38s\tremaining: 660ms\n",
      "783:\tlearn: 0.2269343\ttotal: 2.38s\tremaining: 657ms\n",
      "784:\tlearn: 0.2266742\ttotal: 2.38s\tremaining: 653ms\n",
      "785:\tlearn: 0.2264986\ttotal: 2.39s\tremaining: 650ms\n",
      "786:\tlearn: 0.2263188\ttotal: 2.39s\tremaining: 647ms\n",
      "787:\tlearn: 0.2261086\ttotal: 2.39s\tremaining: 644ms\n",
      "788:\tlearn: 0.2258824\ttotal: 2.4s\tremaining: 641ms\n",
      "789:\tlearn: 0.2256495\ttotal: 2.4s\tremaining: 638ms\n",
      "790:\tlearn: 0.2253640\ttotal: 2.4s\tremaining: 635ms\n",
      "791:\tlearn: 0.2253015\ttotal: 2.41s\tremaining: 632ms\n",
      "792:\tlearn: 0.2251932\ttotal: 2.41s\tremaining: 629ms\n",
      "793:\tlearn: 0.2250610\ttotal: 2.41s\tremaining: 626ms\n",
      "794:\tlearn: 0.2249378\ttotal: 2.41s\tremaining: 623ms\n",
      "795:\tlearn: 0.2247418\ttotal: 2.42s\tremaining: 619ms\n",
      "796:\tlearn: 0.2243590\ttotal: 2.42s\tremaining: 616ms\n",
      "797:\tlearn: 0.2241881\ttotal: 2.42s\tremaining: 613ms\n",
      "798:\tlearn: 0.2239846\ttotal: 2.42s\tremaining: 610ms\n",
      "799:\tlearn: 0.2238098\ttotal: 2.43s\tremaining: 607ms\n",
      "800:\tlearn: 0.2237013\ttotal: 2.43s\tremaining: 603ms\n",
      "801:\tlearn: 0.2235843\ttotal: 2.43s\tremaining: 600ms\n",
      "802:\tlearn: 0.2234171\ttotal: 2.43s\tremaining: 597ms\n",
      "803:\tlearn: 0.2232202\ttotal: 2.44s\tremaining: 594ms\n",
      "804:\tlearn: 0.2230832\ttotal: 2.44s\tremaining: 590ms\n",
      "805:\tlearn: 0.2229630\ttotal: 2.44s\tremaining: 587ms\n",
      "806:\tlearn: 0.2227556\ttotal: 2.44s\tremaining: 584ms\n",
      "807:\tlearn: 0.2225513\ttotal: 2.44s\tremaining: 581ms\n",
      "808:\tlearn: 0.2224407\ttotal: 2.45s\tremaining: 578ms\n",
      "809:\tlearn: 0.2223815\ttotal: 2.45s\tremaining: 575ms\n",
      "810:\tlearn: 0.2221158\ttotal: 2.45s\tremaining: 571ms\n",
      "811:\tlearn: 0.2218880\ttotal: 2.46s\tremaining: 568ms\n",
      "812:\tlearn: 0.2217191\ttotal: 2.46s\tremaining: 565ms\n",
      "813:\tlearn: 0.2216216\ttotal: 2.46s\tremaining: 562ms\n",
      "814:\tlearn: 0.2214471\ttotal: 2.46s\tremaining: 559ms\n",
      "815:\tlearn: 0.2212460\ttotal: 2.46s\tremaining: 556ms\n",
      "816:\tlearn: 0.2210716\ttotal: 2.46s\tremaining: 552ms\n",
      "817:\tlearn: 0.2207700\ttotal: 2.47s\tremaining: 549ms\n",
      "818:\tlearn: 0.2206518\ttotal: 2.47s\tremaining: 546ms\n",
      "819:\tlearn: 0.2205547\ttotal: 2.47s\tremaining: 543ms\n",
      "820:\tlearn: 0.2202621\ttotal: 2.48s\tremaining: 540ms\n",
      "821:\tlearn: 0.2200709\ttotal: 2.48s\tremaining: 537ms\n",
      "822:\tlearn: 0.2199827\ttotal: 2.48s\tremaining: 533ms\n",
      "823:\tlearn: 0.2198117\ttotal: 2.48s\tremaining: 530ms\n",
      "824:\tlearn: 0.2196338\ttotal: 2.49s\tremaining: 527ms\n",
      "825:\tlearn: 0.2193833\ttotal: 2.49s\tremaining: 524ms\n",
      "826:\tlearn: 0.2191040\ttotal: 2.49s\tremaining: 521ms\n",
      "827:\tlearn: 0.2188188\ttotal: 2.49s\tremaining: 518ms\n",
      "828:\tlearn: 0.2186232\ttotal: 2.5s\tremaining: 515ms\n",
      "829:\tlearn: 0.2184637\ttotal: 2.5s\tremaining: 512ms\n",
      "830:\tlearn: 0.2183447\ttotal: 2.5s\tremaining: 509ms\n",
      "831:\tlearn: 0.2181185\ttotal: 2.5s\tremaining: 505ms\n",
      "832:\tlearn: 0.2179230\ttotal: 2.5s\tremaining: 502ms\n",
      "833:\tlearn: 0.2177289\ttotal: 2.51s\tremaining: 499ms\n",
      "834:\tlearn: 0.2174576\ttotal: 2.51s\tremaining: 496ms\n",
      "835:\tlearn: 0.2173258\ttotal: 2.51s\tremaining: 493ms\n",
      "836:\tlearn: 0.2171739\ttotal: 2.52s\tremaining: 490ms\n",
      "837:\tlearn: 0.2169270\ttotal: 2.52s\tremaining: 487ms\n",
      "838:\tlearn: 0.2166864\ttotal: 2.52s\tremaining: 484ms\n",
      "839:\tlearn: 0.2164157\ttotal: 2.52s\tremaining: 481ms\n",
      "840:\tlearn: 0.2163378\ttotal: 2.53s\tremaining: 478ms\n",
      "841:\tlearn: 0.2162199\ttotal: 2.53s\tremaining: 475ms\n",
      "842:\tlearn: 0.2158899\ttotal: 2.53s\tremaining: 472ms\n",
      "843:\tlearn: 0.2158699\ttotal: 2.54s\tremaining: 469ms\n",
      "844:\tlearn: 0.2157586\ttotal: 2.54s\tremaining: 465ms\n",
      "845:\tlearn: 0.2155410\ttotal: 2.54s\tremaining: 462ms\n",
      "846:\tlearn: 0.2153727\ttotal: 2.54s\tremaining: 459ms\n",
      "847:\tlearn: 0.2151920\ttotal: 2.54s\tremaining: 456ms\n",
      "848:\tlearn: 0.2148853\ttotal: 2.55s\tremaining: 453ms\n",
      "849:\tlearn: 0.2148101\ttotal: 2.55s\tremaining: 450ms\n",
      "850:\tlearn: 0.2146415\ttotal: 2.55s\tremaining: 447ms\n",
      "851:\tlearn: 0.2144046\ttotal: 2.55s\tremaining: 444ms\n",
      "852:\tlearn: 0.2143299\ttotal: 2.56s\tremaining: 440ms\n",
      "853:\tlearn: 0.2141792\ttotal: 2.56s\tremaining: 437ms\n",
      "854:\tlearn: 0.2141206\ttotal: 2.56s\tremaining: 434ms\n",
      "855:\tlearn: 0.2139337\ttotal: 2.56s\tremaining: 431ms\n",
      "856:\tlearn: 0.2136557\ttotal: 2.57s\tremaining: 428ms\n",
      "857:\tlearn: 0.2134691\ttotal: 2.57s\tremaining: 425ms\n",
      "858:\tlearn: 0.2132437\ttotal: 2.57s\tremaining: 422ms\n",
      "859:\tlearn: 0.2130466\ttotal: 2.57s\tremaining: 419ms\n",
      "860:\tlearn: 0.2129277\ttotal: 2.57s\tremaining: 416ms\n",
      "861:\tlearn: 0.2125050\ttotal: 2.58s\tremaining: 413ms\n",
      "862:\tlearn: 0.2122203\ttotal: 2.58s\tremaining: 410ms\n",
      "863:\tlearn: 0.2121312\ttotal: 2.58s\tremaining: 407ms\n",
      "864:\tlearn: 0.2120307\ttotal: 2.58s\tremaining: 403ms\n",
      "865:\tlearn: 0.2118465\ttotal: 2.59s\tremaining: 400ms\n",
      "866:\tlearn: 0.2117302\ttotal: 2.59s\tremaining: 397ms\n",
      "867:\tlearn: 0.2114227\ttotal: 2.59s\tremaining: 395ms\n",
      "868:\tlearn: 0.2113260\ttotal: 2.6s\tremaining: 391ms\n",
      "869:\tlearn: 0.2111942\ttotal: 2.6s\tremaining: 388ms\n",
      "870:\tlearn: 0.2110035\ttotal: 2.6s\tremaining: 385ms\n",
      "871:\tlearn: 0.2107816\ttotal: 2.6s\tremaining: 382ms\n",
      "872:\tlearn: 0.2104724\ttotal: 2.6s\tremaining: 379ms\n",
      "873:\tlearn: 0.2102684\ttotal: 2.61s\tremaining: 376ms\n",
      "874:\tlearn: 0.2101032\ttotal: 2.61s\tremaining: 373ms\n",
      "875:\tlearn: 0.2099989\ttotal: 2.61s\tremaining: 370ms\n",
      "876:\tlearn: 0.2099035\ttotal: 2.61s\tremaining: 367ms\n",
      "877:\tlearn: 0.2097173\ttotal: 2.62s\tremaining: 364ms\n",
      "878:\tlearn: 0.2095486\ttotal: 2.62s\tremaining: 360ms\n",
      "879:\tlearn: 0.2093830\ttotal: 2.62s\tremaining: 357ms\n",
      "880:\tlearn: 0.2092829\ttotal: 2.62s\tremaining: 354ms\n",
      "881:\tlearn: 0.2089713\ttotal: 2.63s\tremaining: 351ms\n",
      "882:\tlearn: 0.2087959\ttotal: 2.63s\tremaining: 348ms\n",
      "883:\tlearn: 0.2087119\ttotal: 2.63s\tremaining: 345ms\n",
      "884:\tlearn: 0.2086137\ttotal: 2.63s\tremaining: 342ms\n",
      "885:\tlearn: 0.2084851\ttotal: 2.63s\tremaining: 339ms\n",
      "886:\tlearn: 0.2082519\ttotal: 2.64s\tremaining: 336ms\n",
      "887:\tlearn: 0.2082281\ttotal: 2.64s\tremaining: 333ms\n",
      "888:\tlearn: 0.2080446\ttotal: 2.64s\tremaining: 330ms\n",
      "889:\tlearn: 0.2079331\ttotal: 2.64s\tremaining: 327ms\n",
      "890:\tlearn: 0.2076840\ttotal: 2.65s\tremaining: 324ms\n",
      "891:\tlearn: 0.2074361\ttotal: 2.65s\tremaining: 321ms\n",
      "892:\tlearn: 0.2072691\ttotal: 2.65s\tremaining: 318ms\n",
      "893:\tlearn: 0.2071863\ttotal: 2.65s\tremaining: 315ms\n",
      "894:\tlearn: 0.2070482\ttotal: 2.65s\tremaining: 312ms\n",
      "895:\tlearn: 0.2068719\ttotal: 2.66s\tremaining: 308ms\n",
      "896:\tlearn: 0.2068010\ttotal: 2.66s\tremaining: 305ms\n",
      "897:\tlearn: 0.2066289\ttotal: 2.66s\tremaining: 302ms\n",
      "898:\tlearn: 0.2065124\ttotal: 2.66s\tremaining: 299ms\n",
      "899:\tlearn: 0.2063746\ttotal: 2.67s\tremaining: 296ms\n",
      "900:\tlearn: 0.2060329\ttotal: 2.67s\tremaining: 293ms\n",
      "901:\tlearn: 0.2059134\ttotal: 2.67s\tremaining: 290ms\n",
      "902:\tlearn: 0.2056670\ttotal: 2.67s\tremaining: 287ms\n",
      "903:\tlearn: 0.2055800\ttotal: 2.68s\tremaining: 284ms\n",
      "904:\tlearn: 0.2054935\ttotal: 2.68s\tremaining: 281ms\n",
      "905:\tlearn: 0.2054216\ttotal: 2.68s\tremaining: 278ms\n",
      "906:\tlearn: 0.2053141\ttotal: 2.68s\tremaining: 275ms\n",
      "907:\tlearn: 0.2051578\ttotal: 2.69s\tremaining: 273ms\n",
      "908:\tlearn: 0.2051277\ttotal: 2.69s\tremaining: 270ms\n",
      "909:\tlearn: 0.2049773\ttotal: 2.69s\tremaining: 267ms\n",
      "910:\tlearn: 0.2049041\ttotal: 2.7s\tremaining: 263ms\n",
      "911:\tlearn: 0.2048033\ttotal: 2.7s\tremaining: 260ms\n",
      "912:\tlearn: 0.2046646\ttotal: 2.7s\tremaining: 257ms\n",
      "913:\tlearn: 0.2045087\ttotal: 2.7s\tremaining: 254ms\n",
      "914:\tlearn: 0.2043556\ttotal: 2.71s\tremaining: 251ms\n",
      "915:\tlearn: 0.2042029\ttotal: 2.71s\tremaining: 248ms\n",
      "916:\tlearn: 0.2041374\ttotal: 2.71s\tremaining: 245ms\n",
      "917:\tlearn: 0.2039668\ttotal: 2.71s\tremaining: 242ms\n",
      "918:\tlearn: 0.2038225\ttotal: 2.71s\tremaining: 239ms\n",
      "919:\tlearn: 0.2037351\ttotal: 2.72s\tremaining: 236ms\n",
      "920:\tlearn: 0.2035562\ttotal: 2.72s\tremaining: 233ms\n",
      "921:\tlearn: 0.2033158\ttotal: 2.72s\tremaining: 230ms\n",
      "922:\tlearn: 0.2031272\ttotal: 2.72s\tremaining: 227ms\n",
      "923:\tlearn: 0.2028653\ttotal: 2.73s\tremaining: 224ms\n",
      "924:\tlearn: 0.2027730\ttotal: 2.73s\tremaining: 221ms\n",
      "925:\tlearn: 0.2025642\ttotal: 2.73s\tremaining: 218ms\n",
      "926:\tlearn: 0.2025182\ttotal: 2.73s\tremaining: 215ms\n",
      "927:\tlearn: 0.2023242\ttotal: 2.73s\tremaining: 212ms\n",
      "928:\tlearn: 0.2021505\ttotal: 2.73s\tremaining: 209ms\n"
     ]
    },
    {
     "name": "stdout",
     "output_type": "stream",
     "text": [
      "929:\tlearn: 0.2019405\ttotal: 2.74s\tremaining: 206ms\n",
      "930:\tlearn: 0.2018581\ttotal: 2.74s\tremaining: 203ms\n",
      "931:\tlearn: 0.2015040\ttotal: 2.74s\tremaining: 200ms\n",
      "932:\tlearn: 0.2012963\ttotal: 2.74s\tremaining: 197ms\n",
      "933:\tlearn: 0.2011157\ttotal: 2.75s\tremaining: 194ms\n",
      "934:\tlearn: 0.2010048\ttotal: 2.75s\tremaining: 191ms\n",
      "935:\tlearn: 0.2008797\ttotal: 2.75s\tremaining: 188ms\n",
      "936:\tlearn: 0.2006119\ttotal: 2.75s\tremaining: 185ms\n",
      "937:\tlearn: 0.2003997\ttotal: 2.76s\tremaining: 182ms\n",
      "938:\tlearn: 0.2002994\ttotal: 2.76s\tremaining: 179ms\n",
      "939:\tlearn: 0.2001781\ttotal: 2.76s\tremaining: 176ms\n",
      "940:\tlearn: 0.2001108\ttotal: 2.77s\tremaining: 173ms\n",
      "941:\tlearn: 0.1998029\ttotal: 2.77s\tremaining: 170ms\n",
      "942:\tlearn: 0.1996730\ttotal: 2.77s\tremaining: 167ms\n",
      "943:\tlearn: 0.1996001\ttotal: 2.77s\tremaining: 164ms\n",
      "944:\tlearn: 0.1995043\ttotal: 2.77s\tremaining: 161ms\n",
      "945:\tlearn: 0.1993791\ttotal: 2.78s\tremaining: 159ms\n",
      "946:\tlearn: 0.1993067\ttotal: 2.78s\tremaining: 156ms\n",
      "947:\tlearn: 0.1991825\ttotal: 2.78s\tremaining: 153ms\n",
      "948:\tlearn: 0.1991477\ttotal: 2.78s\tremaining: 150ms\n",
      "949:\tlearn: 0.1989893\ttotal: 2.79s\tremaining: 147ms\n",
      "950:\tlearn: 0.1989476\ttotal: 2.79s\tremaining: 144ms\n",
      "951:\tlearn: 0.1988571\ttotal: 2.79s\tremaining: 141ms\n",
      "952:\tlearn: 0.1987463\ttotal: 2.79s\tremaining: 138ms\n",
      "953:\tlearn: 0.1985914\ttotal: 2.79s\tremaining: 135ms\n",
      "954:\tlearn: 0.1984601\ttotal: 2.8s\tremaining: 132ms\n",
      "955:\tlearn: 0.1983558\ttotal: 2.8s\tremaining: 129ms\n",
      "956:\tlearn: 0.1981887\ttotal: 2.8s\tremaining: 126ms\n",
      "957:\tlearn: 0.1979755\ttotal: 2.8s\tremaining: 123ms\n",
      "958:\tlearn: 0.1978122\ttotal: 2.8s\tremaining: 120ms\n",
      "959:\tlearn: 0.1976791\ttotal: 2.81s\tremaining: 117ms\n",
      "960:\tlearn: 0.1976331\ttotal: 2.81s\tremaining: 114ms\n",
      "961:\tlearn: 0.1974878\ttotal: 2.81s\tremaining: 111ms\n",
      "962:\tlearn: 0.1973825\ttotal: 2.81s\tremaining: 108ms\n",
      "963:\tlearn: 0.1973230\ttotal: 2.81s\tremaining: 105ms\n",
      "964:\tlearn: 0.1970565\ttotal: 2.82s\tremaining: 102ms\n",
      "965:\tlearn: 0.1969765\ttotal: 2.82s\tremaining: 99.2ms\n",
      "966:\tlearn: 0.1967186\ttotal: 2.82s\tremaining: 96.3ms\n",
      "967:\tlearn: 0.1965649\ttotal: 2.82s\tremaining: 93.3ms\n",
      "968:\tlearn: 0.1964461\ttotal: 2.83s\tremaining: 90.4ms\n",
      "969:\tlearn: 0.1962676\ttotal: 2.83s\tremaining: 87.5ms\n",
      "970:\tlearn: 0.1961347\ttotal: 2.83s\tremaining: 84.5ms\n",
      "971:\tlearn: 0.1960023\ttotal: 2.83s\tremaining: 81.6ms\n",
      "972:\tlearn: 0.1958286\ttotal: 2.83s\tremaining: 78.6ms\n",
      "973:\tlearn: 0.1956880\ttotal: 2.83s\tremaining: 75.7ms\n",
      "974:\tlearn: 0.1955273\ttotal: 2.84s\tremaining: 72.8ms\n",
      "975:\tlearn: 0.1954718\ttotal: 2.84s\tremaining: 69.9ms\n",
      "976:\tlearn: 0.1954058\ttotal: 2.84s\tremaining: 66.9ms\n",
      "977:\tlearn: 0.1953148\ttotal: 2.84s\tremaining: 64ms\n",
      "978:\tlearn: 0.1951338\ttotal: 2.85s\tremaining: 61.1ms\n",
      "979:\tlearn: 0.1950429\ttotal: 2.85s\tremaining: 58.1ms\n",
      "980:\tlearn: 0.1950004\ttotal: 2.85s\tremaining: 55.2ms\n",
      "981:\tlearn: 0.1948226\ttotal: 2.85s\tremaining: 52.3ms\n",
      "982:\tlearn: 0.1946439\ttotal: 2.85s\tremaining: 49.4ms\n",
      "983:\tlearn: 0.1945826\ttotal: 2.86s\tremaining: 46.5ms\n",
      "984:\tlearn: 0.1944658\ttotal: 2.86s\tremaining: 43.6ms\n",
      "985:\tlearn: 0.1943315\ttotal: 2.86s\tremaining: 40.6ms\n",
      "986:\tlearn: 0.1941699\ttotal: 2.86s\tremaining: 37.7ms\n",
      "987:\tlearn: 0.1939214\ttotal: 2.87s\tremaining: 34.8ms\n",
      "988:\tlearn: 0.1937600\ttotal: 2.87s\tremaining: 31.9ms\n",
      "989:\tlearn: 0.1936543\ttotal: 2.87s\tremaining: 29ms\n",
      "990:\tlearn: 0.1935242\ttotal: 2.87s\tremaining: 26.1ms\n",
      "991:\tlearn: 0.1933722\ttotal: 2.87s\tremaining: 23.2ms\n",
      "992:\tlearn: 0.1932137\ttotal: 2.88s\tremaining: 20.3ms\n",
      "993:\tlearn: 0.1931190\ttotal: 2.88s\tremaining: 17.4ms\n",
      "994:\tlearn: 0.1930025\ttotal: 2.88s\tremaining: 14.5ms\n",
      "995:\tlearn: 0.1929036\ttotal: 2.88s\tremaining: 11.6ms\n",
      "996:\tlearn: 0.1927199\ttotal: 2.88s\tremaining: 8.68ms\n",
      "997:\tlearn: 0.1927060\ttotal: 2.89s\tremaining: 5.79ms\n",
      "998:\tlearn: 0.1926449\ttotal: 2.89s\tremaining: 2.9ms\n",
      "999:\tlearn: 0.1925922\ttotal: 2.9s\tremaining: 0us\n"
     ]
    }
   ],
   "source": [
    "cat_model = CatBoostClassifier().fit(X_train, y_train)"
   ]
  },
  {
   "cell_type": "code",
   "execution_count": 233,
   "id": "b1461cb2",
   "metadata": {},
   "outputs": [
    {
     "data": {
      "text/plain": [
       "0.7402597402597403"
      ]
     },
     "execution_count": 233,
     "metadata": {},
     "output_type": "execute_result"
    }
   ],
   "source": [
    "y_pred = cat_model.predict(X_test)\n",
    "accuracy_score(y_test, y_pred)"
   ]
  },
  {
   "cell_type": "markdown",
   "id": "9ec9e351",
   "metadata": {},
   "source": [
    "# CATBOOST MODEL TUNİNG"
   ]
  },
  {
   "cell_type": "code",
   "execution_count": 234,
   "id": "0a6bd218",
   "metadata": {},
   "outputs": [],
   "source": [
    "catb_params = {\n",
    "    'iterations': [200,500],\n",
    "    'learning_rate': [0.01,0.05, 0.1],\n",
    "    'depth': [3,5,8] }"
   ]
  },
  {
   "cell_type": "code",
   "execution_count": 235,
   "id": "a09058c0",
   "metadata": {},
   "outputs": [
    {
     "name": "stdout",
     "output_type": "stream",
     "text": [
      "Fitting 5 folds for each of 18 candidates, totalling 90 fits\n"
     ]
    },
    {
     "ename": "KeyboardInterrupt",
     "evalue": "",
     "output_type": "error",
     "traceback": [
      "\u001b[1;31m---------------------------------------------------------------------------\u001b[0m",
      "\u001b[1;31mKeyboardInterrupt\u001b[0m                         Traceback (most recent call last)",
      "Input \u001b[1;32mIn [235]\u001b[0m, in \u001b[0;36m<cell line: 3>\u001b[1;34m()\u001b[0m\n\u001b[0;32m      1\u001b[0m catb \u001b[38;5;241m=\u001b[39m CatBoostClassifier()\n\u001b[0;32m      2\u001b[0m catb_cv_model \u001b[38;5;241m=\u001b[39m GridSearchCV(catb, catb_params, cv\u001b[38;5;241m=\u001b[39m\u001b[38;5;241m5\u001b[39m, n_jobs \u001b[38;5;241m=\u001b[39m \u001b[38;5;241m-\u001b[39m\u001b[38;5;241m1\u001b[39m, verbose \u001b[38;5;241m=\u001b[39m \u001b[38;5;241m2\u001b[39m)\n\u001b[1;32m----> 3\u001b[0m \u001b[43mcatb_cv_model\u001b[49m\u001b[38;5;241;43m.\u001b[39;49m\u001b[43mfit\u001b[49m\u001b[43m(\u001b[49m\u001b[43mX_train\u001b[49m\u001b[43m,\u001b[49m\u001b[43m \u001b[49m\u001b[43my_train\u001b[49m\u001b[43m)\u001b[49m\n\u001b[0;32m      4\u001b[0m catb_cv_model\u001b[38;5;241m.\u001b[39mbest_params_\n",
      "File \u001b[1;32m~\\anaconda3\\lib\\site-packages\\sklearn\\model_selection\\_search.py:891\u001b[0m, in \u001b[0;36mBaseSearchCV.fit\u001b[1;34m(self, X, y, groups, **fit_params)\u001b[0m\n\u001b[0;32m    885\u001b[0m     results \u001b[38;5;241m=\u001b[39m \u001b[38;5;28mself\u001b[39m\u001b[38;5;241m.\u001b[39m_format_results(\n\u001b[0;32m    886\u001b[0m         all_candidate_params, n_splits, all_out, all_more_results\n\u001b[0;32m    887\u001b[0m     )\n\u001b[0;32m    889\u001b[0m     \u001b[38;5;28;01mreturn\u001b[39;00m results\n\u001b[1;32m--> 891\u001b[0m \u001b[38;5;28;43mself\u001b[39;49m\u001b[38;5;241;43m.\u001b[39;49m\u001b[43m_run_search\u001b[49m\u001b[43m(\u001b[49m\u001b[43mevaluate_candidates\u001b[49m\u001b[43m)\u001b[49m\n\u001b[0;32m    893\u001b[0m \u001b[38;5;66;03m# multimetric is determined here because in the case of a callable\u001b[39;00m\n\u001b[0;32m    894\u001b[0m \u001b[38;5;66;03m# self.scoring the return type is only known after calling\u001b[39;00m\n\u001b[0;32m    895\u001b[0m first_test_score \u001b[38;5;241m=\u001b[39m all_out[\u001b[38;5;241m0\u001b[39m][\u001b[38;5;124m\"\u001b[39m\u001b[38;5;124mtest_scores\u001b[39m\u001b[38;5;124m\"\u001b[39m]\n",
      "File \u001b[1;32m~\\anaconda3\\lib\\site-packages\\sklearn\\model_selection\\_search.py:1392\u001b[0m, in \u001b[0;36mGridSearchCV._run_search\u001b[1;34m(self, evaluate_candidates)\u001b[0m\n\u001b[0;32m   1390\u001b[0m \u001b[38;5;28;01mdef\u001b[39;00m \u001b[38;5;21m_run_search\u001b[39m(\u001b[38;5;28mself\u001b[39m, evaluate_candidates):\n\u001b[0;32m   1391\u001b[0m     \u001b[38;5;124;03m\"\"\"Search all candidates in param_grid\"\"\"\u001b[39;00m\n\u001b[1;32m-> 1392\u001b[0m     \u001b[43mevaluate_candidates\u001b[49m\u001b[43m(\u001b[49m\u001b[43mParameterGrid\u001b[49m\u001b[43m(\u001b[49m\u001b[38;5;28;43mself\u001b[39;49m\u001b[38;5;241;43m.\u001b[39;49m\u001b[43mparam_grid\u001b[49m\u001b[43m)\u001b[49m\u001b[43m)\u001b[49m\n",
      "File \u001b[1;32m~\\anaconda3\\lib\\site-packages\\sklearn\\model_selection\\_search.py:838\u001b[0m, in \u001b[0;36mBaseSearchCV.fit.<locals>.evaluate_candidates\u001b[1;34m(candidate_params, cv, more_results)\u001b[0m\n\u001b[0;32m    830\u001b[0m \u001b[38;5;28;01mif\u001b[39;00m \u001b[38;5;28mself\u001b[39m\u001b[38;5;241m.\u001b[39mverbose \u001b[38;5;241m>\u001b[39m \u001b[38;5;241m0\u001b[39m:\n\u001b[0;32m    831\u001b[0m     \u001b[38;5;28mprint\u001b[39m(\n\u001b[0;32m    832\u001b[0m         \u001b[38;5;124m\"\u001b[39m\u001b[38;5;124mFitting \u001b[39m\u001b[38;5;132;01m{0}\u001b[39;00m\u001b[38;5;124m folds for each of \u001b[39m\u001b[38;5;132;01m{1}\u001b[39;00m\u001b[38;5;124m candidates,\u001b[39m\u001b[38;5;124m\"\u001b[39m\n\u001b[0;32m    833\u001b[0m         \u001b[38;5;124m\"\u001b[39m\u001b[38;5;124m totalling \u001b[39m\u001b[38;5;132;01m{2}\u001b[39;00m\u001b[38;5;124m fits\u001b[39m\u001b[38;5;124m\"\u001b[39m\u001b[38;5;241m.\u001b[39mformat(\n\u001b[0;32m    834\u001b[0m             n_splits, n_candidates, n_candidates \u001b[38;5;241m*\u001b[39m n_splits\n\u001b[0;32m    835\u001b[0m         )\n\u001b[0;32m    836\u001b[0m     )\n\u001b[1;32m--> 838\u001b[0m out \u001b[38;5;241m=\u001b[39m \u001b[43mparallel\u001b[49m\u001b[43m(\u001b[49m\n\u001b[0;32m    839\u001b[0m \u001b[43m    \u001b[49m\u001b[43mdelayed\u001b[49m\u001b[43m(\u001b[49m\u001b[43m_fit_and_score\u001b[49m\u001b[43m)\u001b[49m\u001b[43m(\u001b[49m\n\u001b[0;32m    840\u001b[0m \u001b[43m        \u001b[49m\u001b[43mclone\u001b[49m\u001b[43m(\u001b[49m\u001b[43mbase_estimator\u001b[49m\u001b[43m)\u001b[49m\u001b[43m,\u001b[49m\n\u001b[0;32m    841\u001b[0m \u001b[43m        \u001b[49m\u001b[43mX\u001b[49m\u001b[43m,\u001b[49m\n\u001b[0;32m    842\u001b[0m \u001b[43m        \u001b[49m\u001b[43my\u001b[49m\u001b[43m,\u001b[49m\n\u001b[0;32m    843\u001b[0m \u001b[43m        \u001b[49m\u001b[43mtrain\u001b[49m\u001b[38;5;241;43m=\u001b[39;49m\u001b[43mtrain\u001b[49m\u001b[43m,\u001b[49m\n\u001b[0;32m    844\u001b[0m \u001b[43m        \u001b[49m\u001b[43mtest\u001b[49m\u001b[38;5;241;43m=\u001b[39;49m\u001b[43mtest\u001b[49m\u001b[43m,\u001b[49m\n\u001b[0;32m    845\u001b[0m \u001b[43m        \u001b[49m\u001b[43mparameters\u001b[49m\u001b[38;5;241;43m=\u001b[39;49m\u001b[43mparameters\u001b[49m\u001b[43m,\u001b[49m\n\u001b[0;32m    846\u001b[0m \u001b[43m        \u001b[49m\u001b[43msplit_progress\u001b[49m\u001b[38;5;241;43m=\u001b[39;49m\u001b[43m(\u001b[49m\u001b[43msplit_idx\u001b[49m\u001b[43m,\u001b[49m\u001b[43m \u001b[49m\u001b[43mn_splits\u001b[49m\u001b[43m)\u001b[49m\u001b[43m,\u001b[49m\n\u001b[0;32m    847\u001b[0m \u001b[43m        \u001b[49m\u001b[43mcandidate_progress\u001b[49m\u001b[38;5;241;43m=\u001b[39;49m\u001b[43m(\u001b[49m\u001b[43mcand_idx\u001b[49m\u001b[43m,\u001b[49m\u001b[43m \u001b[49m\u001b[43mn_candidates\u001b[49m\u001b[43m)\u001b[49m\u001b[43m,\u001b[49m\n\u001b[0;32m    848\u001b[0m \u001b[43m        \u001b[49m\u001b[38;5;241;43m*\u001b[39;49m\u001b[38;5;241;43m*\u001b[39;49m\u001b[43mfit_and_score_kwargs\u001b[49m\u001b[43m,\u001b[49m\n\u001b[0;32m    849\u001b[0m \u001b[43m    \u001b[49m\u001b[43m)\u001b[49m\n\u001b[0;32m    850\u001b[0m \u001b[43m    \u001b[49m\u001b[38;5;28;43;01mfor\u001b[39;49;00m\u001b[43m \u001b[49m\u001b[43m(\u001b[49m\u001b[43mcand_idx\u001b[49m\u001b[43m,\u001b[49m\u001b[43m \u001b[49m\u001b[43mparameters\u001b[49m\u001b[43m)\u001b[49m\u001b[43m,\u001b[49m\u001b[43m \u001b[49m\u001b[43m(\u001b[49m\u001b[43msplit_idx\u001b[49m\u001b[43m,\u001b[49m\u001b[43m \u001b[49m\u001b[43m(\u001b[49m\u001b[43mtrain\u001b[49m\u001b[43m,\u001b[49m\u001b[43m \u001b[49m\u001b[43mtest\u001b[49m\u001b[43m)\u001b[49m\u001b[43m)\u001b[49m\u001b[43m \u001b[49m\u001b[38;5;129;43;01min\u001b[39;49;00m\u001b[43m \u001b[49m\u001b[43mproduct\u001b[49m\u001b[43m(\u001b[49m\n\u001b[0;32m    851\u001b[0m \u001b[43m        \u001b[49m\u001b[38;5;28;43menumerate\u001b[39;49m\u001b[43m(\u001b[49m\u001b[43mcandidate_params\u001b[49m\u001b[43m)\u001b[49m\u001b[43m,\u001b[49m\u001b[43m \u001b[49m\u001b[38;5;28;43menumerate\u001b[39;49m\u001b[43m(\u001b[49m\u001b[43mcv\u001b[49m\u001b[38;5;241;43m.\u001b[39;49m\u001b[43msplit\u001b[49m\u001b[43m(\u001b[49m\u001b[43mX\u001b[49m\u001b[43m,\u001b[49m\u001b[43m \u001b[49m\u001b[43my\u001b[49m\u001b[43m,\u001b[49m\u001b[43m \u001b[49m\u001b[43mgroups\u001b[49m\u001b[43m)\u001b[49m\u001b[43m)\u001b[49m\n\u001b[0;32m    852\u001b[0m \u001b[43m    \u001b[49m\u001b[43m)\u001b[49m\n\u001b[0;32m    853\u001b[0m \u001b[43m\u001b[49m\u001b[43m)\u001b[49m\n\u001b[0;32m    855\u001b[0m \u001b[38;5;28;01mif\u001b[39;00m \u001b[38;5;28mlen\u001b[39m(out) \u001b[38;5;241m<\u001b[39m \u001b[38;5;241m1\u001b[39m:\n\u001b[0;32m    856\u001b[0m     \u001b[38;5;28;01mraise\u001b[39;00m \u001b[38;5;167;01mValueError\u001b[39;00m(\n\u001b[0;32m    857\u001b[0m         \u001b[38;5;124m\"\u001b[39m\u001b[38;5;124mNo fits were performed. \u001b[39m\u001b[38;5;124m\"\u001b[39m\n\u001b[0;32m    858\u001b[0m         \u001b[38;5;124m\"\u001b[39m\u001b[38;5;124mWas the CV iterator empty? \u001b[39m\u001b[38;5;124m\"\u001b[39m\n\u001b[0;32m    859\u001b[0m         \u001b[38;5;124m\"\u001b[39m\u001b[38;5;124mWere there no candidates?\u001b[39m\u001b[38;5;124m\"\u001b[39m\n\u001b[0;32m    860\u001b[0m     )\n",
      "File \u001b[1;32m~\\anaconda3\\lib\\site-packages\\joblib\\parallel.py:1056\u001b[0m, in \u001b[0;36mParallel.__call__\u001b[1;34m(self, iterable)\u001b[0m\n\u001b[0;32m   1053\u001b[0m     \u001b[38;5;28mself\u001b[39m\u001b[38;5;241m.\u001b[39m_iterating \u001b[38;5;241m=\u001b[39m \u001b[38;5;28;01mFalse\u001b[39;00m\n\u001b[0;32m   1055\u001b[0m \u001b[38;5;28;01mwith\u001b[39;00m \u001b[38;5;28mself\u001b[39m\u001b[38;5;241m.\u001b[39m_backend\u001b[38;5;241m.\u001b[39mretrieval_context():\n\u001b[1;32m-> 1056\u001b[0m     \u001b[38;5;28;43mself\u001b[39;49m\u001b[38;5;241;43m.\u001b[39;49m\u001b[43mretrieve\u001b[49m\u001b[43m(\u001b[49m\u001b[43m)\u001b[49m\n\u001b[0;32m   1057\u001b[0m \u001b[38;5;66;03m# Make sure that we get a last message telling us we are done\u001b[39;00m\n\u001b[0;32m   1058\u001b[0m elapsed_time \u001b[38;5;241m=\u001b[39m time\u001b[38;5;241m.\u001b[39mtime() \u001b[38;5;241m-\u001b[39m \u001b[38;5;28mself\u001b[39m\u001b[38;5;241m.\u001b[39m_start_time\n",
      "File \u001b[1;32m~\\anaconda3\\lib\\site-packages\\joblib\\parallel.py:935\u001b[0m, in \u001b[0;36mParallel.retrieve\u001b[1;34m(self)\u001b[0m\n\u001b[0;32m    933\u001b[0m \u001b[38;5;28;01mtry\u001b[39;00m:\n\u001b[0;32m    934\u001b[0m     \u001b[38;5;28;01mif\u001b[39;00m \u001b[38;5;28mgetattr\u001b[39m(\u001b[38;5;28mself\u001b[39m\u001b[38;5;241m.\u001b[39m_backend, \u001b[38;5;124m'\u001b[39m\u001b[38;5;124msupports_timeout\u001b[39m\u001b[38;5;124m'\u001b[39m, \u001b[38;5;28;01mFalse\u001b[39;00m):\n\u001b[1;32m--> 935\u001b[0m         \u001b[38;5;28mself\u001b[39m\u001b[38;5;241m.\u001b[39m_output\u001b[38;5;241m.\u001b[39mextend(\u001b[43mjob\u001b[49m\u001b[38;5;241;43m.\u001b[39;49m\u001b[43mget\u001b[49m\u001b[43m(\u001b[49m\u001b[43mtimeout\u001b[49m\u001b[38;5;241;43m=\u001b[39;49m\u001b[38;5;28;43mself\u001b[39;49m\u001b[38;5;241;43m.\u001b[39;49m\u001b[43mtimeout\u001b[49m\u001b[43m)\u001b[49m)\n\u001b[0;32m    936\u001b[0m     \u001b[38;5;28;01melse\u001b[39;00m:\n\u001b[0;32m    937\u001b[0m         \u001b[38;5;28mself\u001b[39m\u001b[38;5;241m.\u001b[39m_output\u001b[38;5;241m.\u001b[39mextend(job\u001b[38;5;241m.\u001b[39mget())\n",
      "File \u001b[1;32m~\\anaconda3\\lib\\site-packages\\joblib\\_parallel_backends.py:542\u001b[0m, in \u001b[0;36mLokyBackend.wrap_future_result\u001b[1;34m(future, timeout)\u001b[0m\n\u001b[0;32m    539\u001b[0m \u001b[38;5;124;03m\"\"\"Wrapper for Future.result to implement the same behaviour as\u001b[39;00m\n\u001b[0;32m    540\u001b[0m \u001b[38;5;124;03mAsyncResults.get from multiprocessing.\"\"\"\u001b[39;00m\n\u001b[0;32m    541\u001b[0m \u001b[38;5;28;01mtry\u001b[39;00m:\n\u001b[1;32m--> 542\u001b[0m     \u001b[38;5;28;01mreturn\u001b[39;00m \u001b[43mfuture\u001b[49m\u001b[38;5;241;43m.\u001b[39;49m\u001b[43mresult\u001b[49m\u001b[43m(\u001b[49m\u001b[43mtimeout\u001b[49m\u001b[38;5;241;43m=\u001b[39;49m\u001b[43mtimeout\u001b[49m\u001b[43m)\u001b[49m\n\u001b[0;32m    543\u001b[0m \u001b[38;5;28;01mexcept\u001b[39;00m CfTimeoutError \u001b[38;5;28;01mas\u001b[39;00m e:\n\u001b[0;32m    544\u001b[0m     \u001b[38;5;28;01mraise\u001b[39;00m \u001b[38;5;167;01mTimeoutError\u001b[39;00m \u001b[38;5;28;01mfrom\u001b[39;00m \u001b[38;5;21;01me\u001b[39;00m\n",
      "File \u001b[1;32m~\\anaconda3\\lib\\concurrent\\futures\\_base.py:441\u001b[0m, in \u001b[0;36mFuture.result\u001b[1;34m(self, timeout)\u001b[0m\n\u001b[0;32m    438\u001b[0m \u001b[38;5;28;01melif\u001b[39;00m \u001b[38;5;28mself\u001b[39m\u001b[38;5;241m.\u001b[39m_state \u001b[38;5;241m==\u001b[39m FINISHED:\n\u001b[0;32m    439\u001b[0m     \u001b[38;5;28;01mreturn\u001b[39;00m \u001b[38;5;28mself\u001b[39m\u001b[38;5;241m.\u001b[39m__get_result()\n\u001b[1;32m--> 441\u001b[0m \u001b[38;5;28;43mself\u001b[39;49m\u001b[38;5;241;43m.\u001b[39;49m\u001b[43m_condition\u001b[49m\u001b[38;5;241;43m.\u001b[39;49m\u001b[43mwait\u001b[49m\u001b[43m(\u001b[49m\u001b[43mtimeout\u001b[49m\u001b[43m)\u001b[49m\n\u001b[0;32m    443\u001b[0m \u001b[38;5;28;01mif\u001b[39;00m \u001b[38;5;28mself\u001b[39m\u001b[38;5;241m.\u001b[39m_state \u001b[38;5;129;01min\u001b[39;00m [CANCELLED, CANCELLED_AND_NOTIFIED]:\n\u001b[0;32m    444\u001b[0m     \u001b[38;5;28;01mraise\u001b[39;00m CancelledError()\n",
      "File \u001b[1;32m~\\anaconda3\\lib\\threading.py:312\u001b[0m, in \u001b[0;36mCondition.wait\u001b[1;34m(self, timeout)\u001b[0m\n\u001b[0;32m    310\u001b[0m \u001b[38;5;28;01mtry\u001b[39;00m:    \u001b[38;5;66;03m# restore state no matter what (e.g., KeyboardInterrupt)\u001b[39;00m\n\u001b[0;32m    311\u001b[0m     \u001b[38;5;28;01mif\u001b[39;00m timeout \u001b[38;5;129;01mis\u001b[39;00m \u001b[38;5;28;01mNone\u001b[39;00m:\n\u001b[1;32m--> 312\u001b[0m         \u001b[43mwaiter\u001b[49m\u001b[38;5;241;43m.\u001b[39;49m\u001b[43macquire\u001b[49m\u001b[43m(\u001b[49m\u001b[43m)\u001b[49m\n\u001b[0;32m    313\u001b[0m         gotit \u001b[38;5;241m=\u001b[39m \u001b[38;5;28;01mTrue\u001b[39;00m\n\u001b[0;32m    314\u001b[0m     \u001b[38;5;28;01melse\u001b[39;00m:\n",
      "\u001b[1;31mKeyboardInterrupt\u001b[0m: "
     ]
    }
   ],
   "source": [
    "catb = CatBoostClassifier()\n",
    "catb_cv_model = GridSearchCV(catb, catb_params, cv=5, n_jobs = -1, verbose = 2)\n",
    "catb_cv_model.fit(X_train, y_train)\n",
    "catb_cv_model.best_params_"
   ]
  },
  {
   "cell_type": "code",
   "execution_count": 236,
   "id": "9b50fed3",
   "metadata": {},
   "outputs": [
    {
     "ename": "AttributeError",
     "evalue": "'GridSearchCV' object has no attribute 'best_params_'",
     "output_type": "error",
     "traceback": [
      "\u001b[1;31m---------------------------------------------------------------------------\u001b[0m",
      "\u001b[1;31mAttributeError\u001b[0m                            Traceback (most recent call last)",
      "Input \u001b[1;32mIn [236]\u001b[0m, in \u001b[0;36m<cell line: 1>\u001b[1;34m()\u001b[0m\n\u001b[1;32m----> 1\u001b[0m \u001b[43mcatb_cv_model\u001b[49m\u001b[38;5;241;43m.\u001b[39;49m\u001b[43mbest_params_\u001b[49m\n",
      "\u001b[1;31mAttributeError\u001b[0m: 'GridSearchCV' object has no attribute 'best_params_'"
     ]
    }
   ],
   "source": [
    "catb_cv_model.best_params_"
   ]
  },
  {
   "cell_type": "code",
   "execution_count": 237,
   "id": "c6725ab6",
   "metadata": {},
   "outputs": [
    {
     "name": "stdout",
     "output_type": "stream",
     "text": [
      "0:\tlearn: 0.6616270\ttotal: 2.71ms\tremaining: 539ms\n",
      "1:\tlearn: 0.6400322\ttotal: 5.21ms\tremaining: 516ms\n",
      "2:\tlearn: 0.6218089\ttotal: 7.72ms\tremaining: 507ms\n",
      "3:\tlearn: 0.6091426\ttotal: 10.3ms\tremaining: 505ms\n",
      "4:\tlearn: 0.5937764\ttotal: 12.9ms\tremaining: 504ms\n",
      "5:\tlearn: 0.5776944\ttotal: 15.6ms\tremaining: 504ms\n",
      "6:\tlearn: 0.5640806\ttotal: 18.3ms\tremaining: 504ms\n",
      "7:\tlearn: 0.5465023\ttotal: 20.9ms\tremaining: 502ms\n",
      "8:\tlearn: 0.5342910\ttotal: 23.6ms\tremaining: 501ms\n",
      "9:\tlearn: 0.5253110\ttotal: 26.3ms\tremaining: 499ms\n",
      "10:\tlearn: 0.5152173\ttotal: 40.4ms\tremaining: 695ms\n",
      "11:\tlearn: 0.5038768\ttotal: 43.5ms\tremaining: 681ms\n",
      "12:\tlearn: 0.4940545\ttotal: 47.1ms\tremaining: 678ms\n",
      "13:\tlearn: 0.4868880\ttotal: 49ms\tremaining: 651ms\n",
      "14:\tlearn: 0.4799839\ttotal: 50.7ms\tremaining: 625ms\n",
      "15:\tlearn: 0.4744068\ttotal: 52.6ms\tremaining: 605ms\n",
      "16:\tlearn: 0.4684004\ttotal: 54.3ms\tremaining: 585ms\n",
      "17:\tlearn: 0.4618850\ttotal: 56.5ms\tremaining: 571ms\n",
      "18:\tlearn: 0.4560376\ttotal: 59.2ms\tremaining: 564ms\n",
      "19:\tlearn: 0.4520084\ttotal: 61.1ms\tremaining: 550ms\n",
      "20:\tlearn: 0.4496671\ttotal: 63ms\tremaining: 537ms\n",
      "21:\tlearn: 0.4455551\ttotal: 64.8ms\tremaining: 525ms\n",
      "22:\tlearn: 0.4422781\ttotal: 67.5ms\tremaining: 519ms\n",
      "23:\tlearn: 0.4386630\ttotal: 69.6ms\tremaining: 511ms\n",
      "24:\tlearn: 0.4349463\ttotal: 71.6ms\tremaining: 501ms\n",
      "25:\tlearn: 0.4309778\ttotal: 74.3ms\tremaining: 497ms\n",
      "26:\tlearn: 0.4266714\ttotal: 76.3ms\tremaining: 489ms\n",
      "27:\tlearn: 0.4234692\ttotal: 78.3ms\tremaining: 481ms\n",
      "28:\tlearn: 0.4208624\ttotal: 80.8ms\tremaining: 476ms\n",
      "29:\tlearn: 0.4172232\ttotal: 83.7ms\tremaining: 475ms\n",
      "30:\tlearn: 0.4133147\ttotal: 85.9ms\tremaining: 468ms\n",
      "31:\tlearn: 0.4101905\ttotal: 88.5ms\tremaining: 465ms\n",
      "32:\tlearn: 0.4066286\ttotal: 90.7ms\tremaining: 459ms\n",
      "33:\tlearn: 0.4044740\ttotal: 92.6ms\tremaining: 452ms\n",
      "34:\tlearn: 0.4022900\ttotal: 94.4ms\tremaining: 445ms\n",
      "35:\tlearn: 0.3999429\ttotal: 97.5ms\tremaining: 444ms\n",
      "36:\tlearn: 0.3962978\ttotal: 99.6ms\tremaining: 439ms\n",
      "37:\tlearn: 0.3933701\ttotal: 102ms\tremaining: 435ms\n",
      "38:\tlearn: 0.3912523\ttotal: 104ms\tremaining: 430ms\n",
      "39:\tlearn: 0.3893302\ttotal: 106ms\tremaining: 425ms\n",
      "40:\tlearn: 0.3875203\ttotal: 108ms\tremaining: 419ms\n",
      "41:\tlearn: 0.3849304\ttotal: 110ms\tremaining: 412ms\n",
      "42:\tlearn: 0.3813299\ttotal: 111ms\tremaining: 406ms\n",
      "43:\tlearn: 0.3795402\ttotal: 113ms\tremaining: 400ms\n",
      "44:\tlearn: 0.3777184\ttotal: 114ms\tremaining: 394ms\n",
      "45:\tlearn: 0.3756954\ttotal: 116ms\tremaining: 388ms\n",
      "46:\tlearn: 0.3745321\ttotal: 118ms\tremaining: 383ms\n",
      "47:\tlearn: 0.3721354\ttotal: 120ms\tremaining: 380ms\n",
      "48:\tlearn: 0.3685780\ttotal: 122ms\tremaining: 376ms\n",
      "49:\tlearn: 0.3666452\ttotal: 124ms\tremaining: 373ms\n",
      "50:\tlearn: 0.3644728\ttotal: 126ms\tremaining: 368ms\n",
      "51:\tlearn: 0.3625128\ttotal: 128ms\tremaining: 363ms\n",
      "52:\tlearn: 0.3611870\ttotal: 129ms\tremaining: 359ms\n",
      "53:\tlearn: 0.3603816\ttotal: 131ms\tremaining: 354ms\n",
      "54:\tlearn: 0.3589946\ttotal: 133ms\tremaining: 351ms\n",
      "55:\tlearn: 0.3575038\ttotal: 137ms\tremaining: 352ms\n",
      "56:\tlearn: 0.3554533\ttotal: 140ms\tremaining: 352ms\n",
      "57:\tlearn: 0.3544004\ttotal: 144ms\tremaining: 352ms\n",
      "58:\tlearn: 0.3526026\ttotal: 147ms\tremaining: 351ms\n",
      "59:\tlearn: 0.3511301\ttotal: 149ms\tremaining: 347ms\n",
      "60:\tlearn: 0.3494133\ttotal: 150ms\tremaining: 342ms\n",
      "61:\tlearn: 0.3483027\ttotal: 152ms\tremaining: 338ms\n",
      "62:\tlearn: 0.3451450\ttotal: 153ms\tremaining: 334ms\n",
      "63:\tlearn: 0.3435204\ttotal: 155ms\tremaining: 329ms\n",
      "64:\tlearn: 0.3422728\ttotal: 157ms\tremaining: 325ms\n",
      "65:\tlearn: 0.3398199\ttotal: 158ms\tremaining: 321ms\n",
      "66:\tlearn: 0.3384822\ttotal: 160ms\tremaining: 317ms\n",
      "67:\tlearn: 0.3351317\ttotal: 161ms\tremaining: 313ms\n",
      "68:\tlearn: 0.3340115\ttotal: 164ms\tremaining: 311ms\n",
      "69:\tlearn: 0.3331121\ttotal: 165ms\tremaining: 307ms\n",
      "70:\tlearn: 0.3316302\ttotal: 167ms\tremaining: 303ms\n",
      "71:\tlearn: 0.3301733\ttotal: 169ms\tremaining: 300ms\n",
      "72:\tlearn: 0.3295149\ttotal: 170ms\tremaining: 296ms\n",
      "73:\tlearn: 0.3284217\ttotal: 172ms\tremaining: 292ms\n",
      "74:\tlearn: 0.3279660\ttotal: 174ms\tremaining: 290ms\n",
      "75:\tlearn: 0.3268952\ttotal: 176ms\tremaining: 287ms\n",
      "76:\tlearn: 0.3254518\ttotal: 178ms\tremaining: 285ms\n",
      "77:\tlearn: 0.3241106\ttotal: 180ms\tremaining: 282ms\n",
      "78:\tlearn: 0.3228759\ttotal: 182ms\tremaining: 279ms\n",
      "79:\tlearn: 0.3219436\ttotal: 184ms\tremaining: 276ms\n",
      "80:\tlearn: 0.3206056\ttotal: 187ms\tremaining: 275ms\n",
      "81:\tlearn: 0.3191827\ttotal: 190ms\tremaining: 273ms\n",
      "82:\tlearn: 0.3170886\ttotal: 192ms\tremaining: 271ms\n",
      "83:\tlearn: 0.3160838\ttotal: 194ms\tremaining: 268ms\n",
      "84:\tlearn: 0.3150899\ttotal: 195ms\tremaining: 264ms\n",
      "85:\tlearn: 0.3140124\ttotal: 197ms\tremaining: 261ms\n",
      "86:\tlearn: 0.3130193\ttotal: 199ms\tremaining: 258ms\n",
      "87:\tlearn: 0.3106871\ttotal: 200ms\tremaining: 255ms\n",
      "88:\tlearn: 0.3086032\ttotal: 202ms\tremaining: 252ms\n",
      "89:\tlearn: 0.3064108\ttotal: 204ms\tremaining: 249ms\n",
      "90:\tlearn: 0.3045562\ttotal: 205ms\tremaining: 246ms\n",
      "91:\tlearn: 0.3036883\ttotal: 207ms\tremaining: 243ms\n",
      "92:\tlearn: 0.3032737\ttotal: 208ms\tremaining: 240ms\n",
      "93:\tlearn: 0.3023179\ttotal: 210ms\tremaining: 237ms\n",
      "94:\tlearn: 0.3009276\ttotal: 212ms\tremaining: 234ms\n",
      "95:\tlearn: 0.2995992\ttotal: 214ms\tremaining: 232ms\n",
      "96:\tlearn: 0.2985231\ttotal: 215ms\tremaining: 229ms\n",
      "97:\tlearn: 0.2976560\ttotal: 217ms\tremaining: 226ms\n",
      "98:\tlearn: 0.2963154\ttotal: 219ms\tremaining: 223ms\n",
      "99:\tlearn: 0.2953531\ttotal: 220ms\tremaining: 220ms\n",
      "100:\tlearn: 0.2938846\ttotal: 222ms\tremaining: 217ms\n",
      "101:\tlearn: 0.2921889\ttotal: 223ms\tremaining: 214ms\n",
      "102:\tlearn: 0.2912674\ttotal: 225ms\tremaining: 212ms\n",
      "103:\tlearn: 0.2908713\ttotal: 227ms\tremaining: 209ms\n",
      "104:\tlearn: 0.2899328\ttotal: 228ms\tremaining: 207ms\n",
      "105:\tlearn: 0.2890519\ttotal: 230ms\tremaining: 204ms\n",
      "106:\tlearn: 0.2877014\ttotal: 231ms\tremaining: 201ms\n",
      "107:\tlearn: 0.2861653\ttotal: 233ms\tremaining: 199ms\n",
      "108:\tlearn: 0.2856113\ttotal: 235ms\tremaining: 196ms\n",
      "109:\tlearn: 0.2849766\ttotal: 237ms\tremaining: 194ms\n",
      "110:\tlearn: 0.2834395\ttotal: 238ms\tremaining: 191ms\n",
      "111:\tlearn: 0.2827715\ttotal: 240ms\tremaining: 189ms\n",
      "112:\tlearn: 0.2818655\ttotal: 242ms\tremaining: 186ms\n",
      "113:\tlearn: 0.2807385\ttotal: 243ms\tremaining: 184ms\n",
      "114:\tlearn: 0.2796023\ttotal: 245ms\tremaining: 181ms\n",
      "115:\tlearn: 0.2784442\ttotal: 247ms\tremaining: 179ms\n",
      "116:\tlearn: 0.2768195\ttotal: 248ms\tremaining: 176ms\n",
      "117:\tlearn: 0.2764916\ttotal: 250ms\tremaining: 174ms\n",
      "118:\tlearn: 0.2746645\ttotal: 252ms\tremaining: 171ms\n",
      "119:\tlearn: 0.2741106\ttotal: 253ms\tremaining: 169ms\n",
      "120:\tlearn: 0.2735159\ttotal: 255ms\tremaining: 166ms\n",
      "121:\tlearn: 0.2730517\ttotal: 256ms\tremaining: 164ms\n",
      "122:\tlearn: 0.2722698\ttotal: 258ms\tremaining: 161ms\n",
      "123:\tlearn: 0.2716146\ttotal: 259ms\tremaining: 159ms\n",
      "124:\tlearn: 0.2700179\ttotal: 261ms\tremaining: 157ms\n",
      "125:\tlearn: 0.2696332\ttotal: 263ms\tremaining: 154ms\n",
      "126:\tlearn: 0.2687926\ttotal: 264ms\tremaining: 152ms\n",
      "127:\tlearn: 0.2678068\ttotal: 266ms\tremaining: 150ms\n",
      "128:\tlearn: 0.2670116\ttotal: 267ms\tremaining: 147ms\n",
      "129:\tlearn: 0.2661414\ttotal: 269ms\tremaining: 145ms\n",
      "130:\tlearn: 0.2650632\ttotal: 271ms\tremaining: 143ms\n",
      "131:\tlearn: 0.2648298\ttotal: 272ms\tremaining: 140ms\n",
      "132:\tlearn: 0.2641863\ttotal: 274ms\tremaining: 138ms\n",
      "133:\tlearn: 0.2633376\ttotal: 275ms\tremaining: 136ms\n",
      "134:\tlearn: 0.2624161\ttotal: 277ms\tremaining: 133ms\n",
      "135:\tlearn: 0.2618961\ttotal: 278ms\tremaining: 131ms\n",
      "136:\tlearn: 0.2610856\ttotal: 280ms\tremaining: 129ms\n",
      "137:\tlearn: 0.2603948\ttotal: 282ms\tremaining: 127ms\n",
      "138:\tlearn: 0.2588774\ttotal: 283ms\tremaining: 124ms\n",
      "139:\tlearn: 0.2572880\ttotal: 285ms\tremaining: 122ms\n",
      "140:\tlearn: 0.2563731\ttotal: 286ms\tremaining: 120ms\n",
      "141:\tlearn: 0.2556204\ttotal: 288ms\tremaining: 118ms\n",
      "142:\tlearn: 0.2547857\ttotal: 290ms\tremaining: 115ms\n",
      "143:\tlearn: 0.2529240\ttotal: 291ms\tremaining: 113ms\n",
      "144:\tlearn: 0.2521550\ttotal: 293ms\tremaining: 111ms\n",
      "145:\tlearn: 0.2513649\ttotal: 294ms\tremaining: 109ms\n",
      "146:\tlearn: 0.2497788\ttotal: 296ms\tremaining: 107ms\n",
      "147:\tlearn: 0.2479468\ttotal: 298ms\tremaining: 105ms\n",
      "148:\tlearn: 0.2466481\ttotal: 299ms\tremaining: 102ms\n",
      "149:\tlearn: 0.2460545\ttotal: 301ms\tremaining: 100ms\n",
      "150:\tlearn: 0.2452748\ttotal: 302ms\tremaining: 98.1ms\n",
      "151:\tlearn: 0.2450248\ttotal: 304ms\tremaining: 96ms\n",
      "152:\tlearn: 0.2444881\ttotal: 306ms\tremaining: 93.9ms\n",
      "153:\tlearn: 0.2432526\ttotal: 307ms\tremaining: 91.8ms\n",
      "154:\tlearn: 0.2427632\ttotal: 309ms\tremaining: 89.8ms\n",
      "155:\tlearn: 0.2425398\ttotal: 311ms\tremaining: 87.8ms\n",
      "156:\tlearn: 0.2416328\ttotal: 313ms\tremaining: 85.7ms\n",
      "157:\tlearn: 0.2409543\ttotal: 314ms\tremaining: 83.6ms\n",
      "158:\tlearn: 0.2403395\ttotal: 316ms\tremaining: 81.5ms\n",
      "159:\tlearn: 0.2395237\ttotal: 318ms\tremaining: 79.4ms\n",
      "160:\tlearn: 0.2390837\ttotal: 320ms\tremaining: 77.4ms\n",
      "161:\tlearn: 0.2384153\ttotal: 322ms\tremaining: 75.4ms\n",
      "162:\tlearn: 0.2376410\ttotal: 324ms\tremaining: 73.6ms\n",
      "163:\tlearn: 0.2366812\ttotal: 327ms\tremaining: 71.7ms\n",
      "164:\tlearn: 0.2348688\ttotal: 329ms\tremaining: 69.8ms\n",
      "165:\tlearn: 0.2344013\ttotal: 331ms\tremaining: 67.7ms\n",
      "166:\tlearn: 0.2328825\ttotal: 332ms\tremaining: 65.6ms\n",
      "167:\tlearn: 0.2319733\ttotal: 334ms\tremaining: 63.6ms\n",
      "168:\tlearn: 0.2312842\ttotal: 336ms\tremaining: 61.6ms\n",
      "169:\tlearn: 0.2306607\ttotal: 339ms\tremaining: 59.9ms\n",
      "170:\tlearn: 0.2290393\ttotal: 341ms\tremaining: 57.9ms\n",
      "171:\tlearn: 0.2284539\ttotal: 344ms\tremaining: 55.9ms\n",
      "172:\tlearn: 0.2277365\ttotal: 345ms\tremaining: 53.9ms\n"
     ]
    },
    {
     "name": "stdout",
     "output_type": "stream",
     "text": [
      "173:\tlearn: 0.2257754\ttotal: 348ms\tremaining: 52ms\n",
      "174:\tlearn: 0.2252312\ttotal: 350ms\tremaining: 50ms\n",
      "175:\tlearn: 0.2233510\ttotal: 352ms\tremaining: 47.9ms\n",
      "176:\tlearn: 0.2228426\ttotal: 353ms\tremaining: 45.9ms\n",
      "177:\tlearn: 0.2223245\ttotal: 355ms\tremaining: 43.9ms\n",
      "178:\tlearn: 0.2206959\ttotal: 357ms\tremaining: 41.9ms\n",
      "179:\tlearn: 0.2199697\ttotal: 359ms\tremaining: 39.9ms\n",
      "180:\tlearn: 0.2193349\ttotal: 361ms\tremaining: 37.9ms\n",
      "181:\tlearn: 0.2184913\ttotal: 363ms\tremaining: 35.9ms\n",
      "182:\tlearn: 0.2180382\ttotal: 366ms\tremaining: 34ms\n",
      "183:\tlearn: 0.2175915\ttotal: 369ms\tremaining: 32.1ms\n",
      "184:\tlearn: 0.2170264\ttotal: 374ms\tremaining: 30.3ms\n",
      "185:\tlearn: 0.2166247\ttotal: 378ms\tremaining: 28.4ms\n",
      "186:\tlearn: 0.2162110\ttotal: 380ms\tremaining: 26.4ms\n",
      "187:\tlearn: 0.2155026\ttotal: 384ms\tremaining: 24.5ms\n",
      "188:\tlearn: 0.2152076\ttotal: 387ms\tremaining: 22.5ms\n",
      "189:\tlearn: 0.2138091\ttotal: 389ms\tremaining: 20.5ms\n",
      "190:\tlearn: 0.2122243\ttotal: 392ms\tremaining: 18.4ms\n",
      "191:\tlearn: 0.2109937\ttotal: 395ms\tremaining: 16.5ms\n",
      "192:\tlearn: 0.2099906\ttotal: 398ms\tremaining: 14.4ms\n",
      "193:\tlearn: 0.2095110\ttotal: 400ms\tremaining: 12.4ms\n",
      "194:\tlearn: 0.2084723\ttotal: 403ms\tremaining: 10.3ms\n",
      "195:\tlearn: 0.2076215\ttotal: 405ms\tremaining: 8.27ms\n",
      "196:\tlearn: 0.2071555\ttotal: 409ms\tremaining: 6.23ms\n",
      "197:\tlearn: 0.2064088\ttotal: 411ms\tremaining: 4.16ms\n",
      "198:\tlearn: 0.2062316\ttotal: 414ms\tremaining: 2.08ms\n",
      "199:\tlearn: 0.2056560\ttotal: 417ms\tremaining: 0us\n"
     ]
    }
   ],
   "source": [
    "catb = CatBoostClassifier(iterations = 200, \n",
    "                          learning_rate = 0.05, \n",
    "                          depth = 5)\n",
    "\n",
    "catb_tuned = catb.fit(X_train, y_train)\n",
    "y_pred = catb_tuned.predict(X_test)"
   ]
  },
  {
   "cell_type": "code",
   "execution_count": 238,
   "id": "6460196f",
   "metadata": {},
   "outputs": [
    {
     "data": {
      "text/plain": [
       "0.7445887445887446"
      ]
     },
     "execution_count": 238,
     "metadata": {},
     "output_type": "execute_result"
    }
   ],
   "source": [
    "y_pred = catb_tuned.predict(X_test)\n",
    "accuracy_score(y_test, y_pred)"
   ]
  },
  {
   "cell_type": "code",
   "execution_count": null,
   "id": "dbe2c7eb",
   "metadata": {},
   "outputs": [],
   "source": []
  },
  {
   "cell_type": "code",
   "execution_count": null,
   "id": "305ff944",
   "metadata": {},
   "outputs": [],
   "source": []
  },
  {
   "cell_type": "code",
   "execution_count": null,
   "id": "54d19fce",
   "metadata": {},
   "outputs": [],
   "source": []
  },
  {
   "cell_type": "markdown",
   "id": "46ad39d3",
   "metadata": {},
   "source": [
    "# Tüm Modellerin Karşılaştırılması"
   ]
  },
  {
   "cell_type": "code",
   "execution_count": 239,
   "id": "66d3ae44",
   "metadata": {},
   "outputs": [
    {
     "name": "stdout",
     "output_type": "stream",
     "text": [
      "----------------------------\n",
      "KNeighborsClassifier:\n",
      "Accuracy: 73.1602%\n",
      "----------------------------\n",
      "LogisticRegression:\n",
      "Accuracy: 75.3247%\n",
      "----------------------------\n",
      "SVC:\n",
      "Accuracy: 73.5931%\n",
      "----------------------------\n",
      "GaussianNB:\n",
      "Accuracy: 74.4589%\n",
      "----------------------------\n",
      "MLPClassifier:\n",
      "Accuracy: 34.6320%\n",
      "----------------------------\n",
      "DecisionTreeClassifier:\n",
      "Accuracy: 75.3247%\n",
      "----------------------------\n",
      "RandomForestClassifier:\n",
      "Accuracy: 75.3247%\n",
      "----------------------------\n",
      "GradientBoostingClassifier:\n",
      "Accuracy: 74.8918%\n",
      "----------------------------\n",
      "CatBoostClassifier:\n",
      "Accuracy: 74.4589%\n",
      "----------------------------\n",
      "LGBMClassifier:\n",
      "Accuracy: 75.3247%\n",
      "----------------------------\n",
      "XGBClassifier:\n",
      "Accuracy: 75.3247%\n"
     ]
    }
   ],
   "source": [
    "modeller = [\n",
    "    knn_tuned,\n",
    "    loj_model,\n",
    "    svc_tuned,\n",
    "    nb_model,\n",
    "    mlpc_tuned,\n",
    "    cart_tuned,\n",
    "    rf_tuned,\n",
    "    gbm_tuned,\n",
    "    catb_tuned,\n",
    "    lgbm_tuned,\n",
    "    xgb_tuned\n",
    "    \n",
    "]\n",
    "\n",
    "\n",
    "for model in modeller:\n",
    "    isimler = model.__class__.__name__\n",
    "    y_pred = model.predict(X_test)\n",
    "    dogruluk = accuracy_score(y_test, y_pred)\n",
    "    print(\"-\"*28)\n",
    "    print(isimler + \":\" )\n",
    "    print(\"Accuracy: {:.4%}\".format(dogruluk))\n",
    "    #son 3 model çok uzun sürer diye eğitmedim, eğitsem accuracy daha da yüksek olabilirdi."
   ]
  },
  {
   "cell_type": "code",
   "execution_count": 240,
   "id": "a2495f5b",
   "metadata": {},
   "outputs": [
    {
     "data": {
      "image/png": "[encoded data removed]",
      "text/plain": [
       "<Figure size 432x288 with 1 Axes>"
      ]
     },
     "metadata": {
      "needs_background": "light"
     },
     "output_type": "display_data"
    }
   ],
   "source": [
    "sonuc = []\n",
    "\n",
    "sonuclar = pd.DataFrame(columns= [\"Modeller\",\"Accuracy\"])\n",
    "\n",
    "for model in modeller:\n",
    "    isimler = model.__class__.__name__\n",
    "    y_pred = model.predict(X_test)\n",
    "    dogruluk = accuracy_score(y_test, y_pred)    \n",
    "    sonuc = pd.DataFrame([[isimler, dogruluk*100]], columns= [\"Modeller\",\"Accuracy\"])\n",
    "    sonuclar = sonuclar.append(sonuc)\n",
    "    \n",
    "    \n",
    "sns.barplot(x= 'Accuracy', y = 'Modeller', data=sonuclar, color=\"r\")\n",
    "plt.xlabel('Accuracy %')\n",
    "plt.title('Modellerin Doğruluk Oranları');    "
   ]
  },
  {
   "cell_type": "code",
   "execution_count": null,
   "id": "7d940574",
   "metadata": {},
   "outputs": [],
   "source": []
  }
 ],
 "metadata": {
  "kernelspec": {
   "display_name": "Python 3 (ipykernel)",
   "language": "python",
   "name": "python3"
  },
  "language_info": {
   "codemirror_mode": {
    "name": "ipython",
    "version": 3
   },
   "file_extension": ".py",
   "mimetype": "text/x-python",
   "name": "python",
   "nbconvert_exporter": "python",
   "pygments_lexer": "ipython3",
   "version": "3.9.12"
  }
 },
 "nbformat": 4,
 "nbformat_minor": 5
}
